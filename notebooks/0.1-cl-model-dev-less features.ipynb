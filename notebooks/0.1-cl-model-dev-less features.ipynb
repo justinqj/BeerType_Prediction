{
 "cells": [
  {
   "cell_type": "markdown",
   "metadata": {},
   "source": [
    "### 1. Load and Explore raw Dataset"
   ]
  },
  {
   "cell_type": "markdown",
   "metadata": {},
   "source": [
    "**[1.1]** Import the packages"
   ]
  },
  {
   "cell_type": "code",
   "execution_count": 1,
   "metadata": {
    "tags": []
   },
   "outputs": [],
   "source": [
    "import pandas as pd\n",
    "import numpy as np\n",
    "import matplotlib.pyplot as plt\n",
    "import tensorflow as tf\n",
    "from tensorflow.keras.models import Sequential\n",
    "from tensorflow.keras.layers import Dense, Dropout\n",
    "from sklearn.preprocessing import LabelEncoder\n",
    "from sklearn.model_selection import train_test_split"
   ]
  },
  {
   "cell_type": "markdown",
   "metadata": {},
   "source": [
    "**[1.2]** Import data "
   ]
  },
  {
   "cell_type": "code",
   "execution_count": 2,
   "metadata": {
    "tags": []
   },
   "outputs": [],
   "source": [
    "# Read in the csv\n",
    "df = pd.read_csv(\"../data/raw/beer_reviews.csv\")"
   ]
  },
  {
   "cell_type": "markdown",
   "metadata": {
    "tags": []
   },
   "source": [
    "**[1.3]** Display the first 5 rows of df"
   ]
  },
  {
   "cell_type": "code",
   "execution_count": 3,
   "metadata": {
    "tags": []
   },
   "outputs": [
    {
     "data": {
      "text/html": [
       "<div>\n",
       "<style scoped>\n",
       "    .dataframe tbody tr th:only-of-type {\n",
       "        vertical-align: middle;\n",
       "    }\n",
       "\n",
       "    .dataframe tbody tr th {\n",
       "        vertical-align: top;\n",
       "    }\n",
       "\n",
       "    .dataframe thead th {\n",
       "        text-align: right;\n",
       "    }\n",
       "</style>\n",
       "<table border=\"1\" class=\"dataframe\">\n",
       "  <thead>\n",
       "    <tr style=\"text-align: right;\">\n",
       "      <th></th>\n",
       "      <th>brewery_id</th>\n",
       "      <th>brewery_name</th>\n",
       "      <th>review_time</th>\n",
       "      <th>review_overall</th>\n",
       "      <th>review_aroma</th>\n",
       "      <th>review_appearance</th>\n",
       "      <th>review_profilename</th>\n",
       "      <th>beer_style</th>\n",
       "      <th>review_palate</th>\n",
       "      <th>review_taste</th>\n",
       "      <th>beer_name</th>\n",
       "      <th>beer_abv</th>\n",
       "      <th>beer_beerid</th>\n",
       "    </tr>\n",
       "  </thead>\n",
       "  <tbody>\n",
       "    <tr>\n",
       "      <th>0</th>\n",
       "      <td>10325</td>\n",
       "      <td>Vecchio Birraio</td>\n",
       "      <td>1234817823</td>\n",
       "      <td>1.5</td>\n",
       "      <td>2.0</td>\n",
       "      <td>2.5</td>\n",
       "      <td>stcules</td>\n",
       "      <td>Hefeweizen</td>\n",
       "      <td>1.5</td>\n",
       "      <td>1.5</td>\n",
       "      <td>Sausa Weizen</td>\n",
       "      <td>5.0</td>\n",
       "      <td>47986</td>\n",
       "    </tr>\n",
       "    <tr>\n",
       "      <th>1</th>\n",
       "      <td>10325</td>\n",
       "      <td>Vecchio Birraio</td>\n",
       "      <td>1235915097</td>\n",
       "      <td>3.0</td>\n",
       "      <td>2.5</td>\n",
       "      <td>3.0</td>\n",
       "      <td>stcules</td>\n",
       "      <td>English Strong Ale</td>\n",
       "      <td>3.0</td>\n",
       "      <td>3.0</td>\n",
       "      <td>Red Moon</td>\n",
       "      <td>6.2</td>\n",
       "      <td>48213</td>\n",
       "    </tr>\n",
       "    <tr>\n",
       "      <th>2</th>\n",
       "      <td>10325</td>\n",
       "      <td>Vecchio Birraio</td>\n",
       "      <td>1235916604</td>\n",
       "      <td>3.0</td>\n",
       "      <td>2.5</td>\n",
       "      <td>3.0</td>\n",
       "      <td>stcules</td>\n",
       "      <td>Foreign / Export Stout</td>\n",
       "      <td>3.0</td>\n",
       "      <td>3.0</td>\n",
       "      <td>Black Horse Black Beer</td>\n",
       "      <td>6.5</td>\n",
       "      <td>48215</td>\n",
       "    </tr>\n",
       "    <tr>\n",
       "      <th>3</th>\n",
       "      <td>10325</td>\n",
       "      <td>Vecchio Birraio</td>\n",
       "      <td>1234725145</td>\n",
       "      <td>3.0</td>\n",
       "      <td>3.0</td>\n",
       "      <td>3.5</td>\n",
       "      <td>stcules</td>\n",
       "      <td>German Pilsener</td>\n",
       "      <td>2.5</td>\n",
       "      <td>3.0</td>\n",
       "      <td>Sausa Pils</td>\n",
       "      <td>5.0</td>\n",
       "      <td>47969</td>\n",
       "    </tr>\n",
       "    <tr>\n",
       "      <th>4</th>\n",
       "      <td>1075</td>\n",
       "      <td>Caldera Brewing Company</td>\n",
       "      <td>1293735206</td>\n",
       "      <td>4.0</td>\n",
       "      <td>4.5</td>\n",
       "      <td>4.0</td>\n",
       "      <td>johnmichaelsen</td>\n",
       "      <td>American Double / Imperial IPA</td>\n",
       "      <td>4.0</td>\n",
       "      <td>4.5</td>\n",
       "      <td>Cauldron DIPA</td>\n",
       "      <td>7.7</td>\n",
       "      <td>64883</td>\n",
       "    </tr>\n",
       "  </tbody>\n",
       "</table>\n",
       "</div>"
      ],
      "text/plain": [
       "   brewery_id             brewery_name  review_time  review_overall  \\\n",
       "0       10325          Vecchio Birraio   1234817823             1.5   \n",
       "1       10325          Vecchio Birraio   1235915097             3.0   \n",
       "2       10325          Vecchio Birraio   1235916604             3.0   \n",
       "3       10325          Vecchio Birraio   1234725145             3.0   \n",
       "4        1075  Caldera Brewing Company   1293735206             4.0   \n",
       "\n",
       "   review_aroma  review_appearance review_profilename  \\\n",
       "0           2.0                2.5            stcules   \n",
       "1           2.5                3.0            stcules   \n",
       "2           2.5                3.0            stcules   \n",
       "3           3.0                3.5            stcules   \n",
       "4           4.5                4.0     johnmichaelsen   \n",
       "\n",
       "                       beer_style  review_palate  review_taste  \\\n",
       "0                      Hefeweizen            1.5           1.5   \n",
       "1              English Strong Ale            3.0           3.0   \n",
       "2          Foreign / Export Stout            3.0           3.0   \n",
       "3                 German Pilsener            2.5           3.0   \n",
       "4  American Double / Imperial IPA            4.0           4.5   \n",
       "\n",
       "                beer_name  beer_abv  beer_beerid  \n",
       "0            Sausa Weizen       5.0        47986  \n",
       "1                Red Moon       6.2        48213  \n",
       "2  Black Horse Black Beer       6.5        48215  \n",
       "3              Sausa Pils       5.0        47969  \n",
       "4           Cauldron DIPA       7.7        64883  "
      ]
     },
     "execution_count": 3,
     "metadata": {},
     "output_type": "execute_result"
    }
   ],
   "source": [
    "df.head()"
   ]
  },
  {
   "cell_type": "markdown",
   "metadata": {},
   "source": [
    "**[1.4]** Display the last 5 rows of df"
   ]
  },
  {
   "cell_type": "code",
   "execution_count": 4,
   "metadata": {
    "tags": []
   },
   "outputs": [
    {
     "data": {
      "text/html": [
       "<div>\n",
       "<style scoped>\n",
       "    .dataframe tbody tr th:only-of-type {\n",
       "        vertical-align: middle;\n",
       "    }\n",
       "\n",
       "    .dataframe tbody tr th {\n",
       "        vertical-align: top;\n",
       "    }\n",
       "\n",
       "    .dataframe thead th {\n",
       "        text-align: right;\n",
       "    }\n",
       "</style>\n",
       "<table border=\"1\" class=\"dataframe\">\n",
       "  <thead>\n",
       "    <tr style=\"text-align: right;\">\n",
       "      <th></th>\n",
       "      <th>brewery_id</th>\n",
       "      <th>brewery_name</th>\n",
       "      <th>review_time</th>\n",
       "      <th>review_overall</th>\n",
       "      <th>review_aroma</th>\n",
       "      <th>review_appearance</th>\n",
       "      <th>review_profilename</th>\n",
       "      <th>beer_style</th>\n",
       "      <th>review_palate</th>\n",
       "      <th>review_taste</th>\n",
       "      <th>beer_name</th>\n",
       "      <th>beer_abv</th>\n",
       "      <th>beer_beerid</th>\n",
       "    </tr>\n",
       "  </thead>\n",
       "  <tbody>\n",
       "    <tr>\n",
       "      <th>1586609</th>\n",
       "      <td>14359</td>\n",
       "      <td>The Defiant Brewing Company</td>\n",
       "      <td>1162684892</td>\n",
       "      <td>5.0</td>\n",
       "      <td>4.0</td>\n",
       "      <td>3.5</td>\n",
       "      <td>maddogruss</td>\n",
       "      <td>Pumpkin Ale</td>\n",
       "      <td>4.0</td>\n",
       "      <td>4.0</td>\n",
       "      <td>The Horseman's Ale</td>\n",
       "      <td>5.2</td>\n",
       "      <td>33061</td>\n",
       "    </tr>\n",
       "    <tr>\n",
       "      <th>1586610</th>\n",
       "      <td>14359</td>\n",
       "      <td>The Defiant Brewing Company</td>\n",
       "      <td>1161048566</td>\n",
       "      <td>4.0</td>\n",
       "      <td>5.0</td>\n",
       "      <td>2.5</td>\n",
       "      <td>yelterdow</td>\n",
       "      <td>Pumpkin Ale</td>\n",
       "      <td>2.0</td>\n",
       "      <td>4.0</td>\n",
       "      <td>The Horseman's Ale</td>\n",
       "      <td>5.2</td>\n",
       "      <td>33061</td>\n",
       "    </tr>\n",
       "    <tr>\n",
       "      <th>1586611</th>\n",
       "      <td>14359</td>\n",
       "      <td>The Defiant Brewing Company</td>\n",
       "      <td>1160702513</td>\n",
       "      <td>4.5</td>\n",
       "      <td>3.5</td>\n",
       "      <td>3.0</td>\n",
       "      <td>TongoRad</td>\n",
       "      <td>Pumpkin Ale</td>\n",
       "      <td>3.5</td>\n",
       "      <td>4.0</td>\n",
       "      <td>The Horseman's Ale</td>\n",
       "      <td>5.2</td>\n",
       "      <td>33061</td>\n",
       "    </tr>\n",
       "    <tr>\n",
       "      <th>1586612</th>\n",
       "      <td>14359</td>\n",
       "      <td>The Defiant Brewing Company</td>\n",
       "      <td>1160023044</td>\n",
       "      <td>4.0</td>\n",
       "      <td>4.5</td>\n",
       "      <td>4.5</td>\n",
       "      <td>dherling</td>\n",
       "      <td>Pumpkin Ale</td>\n",
       "      <td>4.5</td>\n",
       "      <td>4.5</td>\n",
       "      <td>The Horseman's Ale</td>\n",
       "      <td>5.2</td>\n",
       "      <td>33061</td>\n",
       "    </tr>\n",
       "    <tr>\n",
       "      <th>1586613</th>\n",
       "      <td>14359</td>\n",
       "      <td>The Defiant Brewing Company</td>\n",
       "      <td>1160005319</td>\n",
       "      <td>5.0</td>\n",
       "      <td>4.5</td>\n",
       "      <td>4.5</td>\n",
       "      <td>cbl2</td>\n",
       "      <td>Pumpkin Ale</td>\n",
       "      <td>4.5</td>\n",
       "      <td>4.5</td>\n",
       "      <td>The Horseman's Ale</td>\n",
       "      <td>5.2</td>\n",
       "      <td>33061</td>\n",
       "    </tr>\n",
       "  </tbody>\n",
       "</table>\n",
       "</div>"
      ],
      "text/plain": [
       "         brewery_id                 brewery_name  review_time  review_overall  \\\n",
       "1586609       14359  The Defiant Brewing Company   1162684892             5.0   \n",
       "1586610       14359  The Defiant Brewing Company   1161048566             4.0   \n",
       "1586611       14359  The Defiant Brewing Company   1160702513             4.5   \n",
       "1586612       14359  The Defiant Brewing Company   1160023044             4.0   \n",
       "1586613       14359  The Defiant Brewing Company   1160005319             5.0   \n",
       "\n",
       "         review_aroma  review_appearance review_profilename   beer_style  \\\n",
       "1586609           4.0                3.5         maddogruss  Pumpkin Ale   \n",
       "1586610           5.0                2.5          yelterdow  Pumpkin Ale   \n",
       "1586611           3.5                3.0           TongoRad  Pumpkin Ale   \n",
       "1586612           4.5                4.5           dherling  Pumpkin Ale   \n",
       "1586613           4.5                4.5               cbl2  Pumpkin Ale   \n",
       "\n",
       "         review_palate  review_taste           beer_name  beer_abv  \\\n",
       "1586609            4.0           4.0  The Horseman's Ale       5.2   \n",
       "1586610            2.0           4.0  The Horseman's Ale       5.2   \n",
       "1586611            3.5           4.0  The Horseman's Ale       5.2   \n",
       "1586612            4.5           4.5  The Horseman's Ale       5.2   \n",
       "1586613            4.5           4.5  The Horseman's Ale       5.2   \n",
       "\n",
       "         beer_beerid  \n",
       "1586609        33061  \n",
       "1586610        33061  \n",
       "1586611        33061  \n",
       "1586612        33061  \n",
       "1586613        33061  "
      ]
     },
     "execution_count": 4,
     "metadata": {},
     "output_type": "execute_result"
    }
   ],
   "source": [
    "df.tail()"
   ]
  },
  {
   "cell_type": "markdown",
   "metadata": {},
   "source": [
    "**[1.5]** Display the dimensions (shape) of df"
   ]
  },
  {
   "cell_type": "code",
   "execution_count": 5,
   "metadata": {
    "tags": []
   },
   "outputs": [
    {
     "data": {
      "text/plain": [
       "(1586614, 13)"
      ]
     },
     "execution_count": 5,
     "metadata": {},
     "output_type": "execute_result"
    }
   ],
   "source": [
    "df.shape"
   ]
  },
  {
   "cell_type": "markdown",
   "metadata": {},
   "source": [
    "**[1.6]** Display the list of columns of df"
   ]
  },
  {
   "cell_type": "code",
   "execution_count": 6,
   "metadata": {
    "tags": []
   },
   "outputs": [
    {
     "data": {
      "text/plain": [
       "Index(['brewery_id', 'brewery_name', 'review_time', 'review_overall',\n",
       "       'review_aroma', 'review_appearance', 'review_profilename', 'beer_style',\n",
       "       'review_palate', 'review_taste', 'beer_name', 'beer_abv',\n",
       "       'beer_beerid'],\n",
       "      dtype='object')"
      ]
     },
     "execution_count": 6,
     "metadata": {},
     "output_type": "execute_result"
    }
   ],
   "source": [
    "df.columns"
   ]
  },
  {
   "cell_type": "markdown",
   "metadata": {},
   "source": [
    "**[1.7]** Display the descriptive statistics of df"
   ]
  },
  {
   "cell_type": "code",
   "execution_count": 7,
   "metadata": {
    "tags": []
   },
   "outputs": [
    {
     "data": {
      "text/html": [
       "<div>\n",
       "<style scoped>\n",
       "    .dataframe tbody tr th:only-of-type {\n",
       "        vertical-align: middle;\n",
       "    }\n",
       "\n",
       "    .dataframe tbody tr th {\n",
       "        vertical-align: top;\n",
       "    }\n",
       "\n",
       "    .dataframe thead th {\n",
       "        text-align: right;\n",
       "    }\n",
       "</style>\n",
       "<table border=\"1\" class=\"dataframe\">\n",
       "  <thead>\n",
       "    <tr style=\"text-align: right;\">\n",
       "      <th></th>\n",
       "      <th>brewery_id</th>\n",
       "      <th>review_time</th>\n",
       "      <th>review_overall</th>\n",
       "      <th>review_aroma</th>\n",
       "      <th>review_appearance</th>\n",
       "      <th>review_palate</th>\n",
       "      <th>review_taste</th>\n",
       "      <th>beer_abv</th>\n",
       "      <th>beer_beerid</th>\n",
       "    </tr>\n",
       "  </thead>\n",
       "  <tbody>\n",
       "    <tr>\n",
       "      <th>count</th>\n",
       "      <td>1.586614e+06</td>\n",
       "      <td>1.586614e+06</td>\n",
       "      <td>1.586614e+06</td>\n",
       "      <td>1.586614e+06</td>\n",
       "      <td>1.586614e+06</td>\n",
       "      <td>1.586614e+06</td>\n",
       "      <td>1.586614e+06</td>\n",
       "      <td>1.518829e+06</td>\n",
       "      <td>1.586614e+06</td>\n",
       "    </tr>\n",
       "    <tr>\n",
       "      <th>mean</th>\n",
       "      <td>3.130099e+03</td>\n",
       "      <td>1.224089e+09</td>\n",
       "      <td>3.815581e+00</td>\n",
       "      <td>3.735636e+00</td>\n",
       "      <td>3.841642e+00</td>\n",
       "      <td>3.743701e+00</td>\n",
       "      <td>3.792860e+00</td>\n",
       "      <td>7.042387e+00</td>\n",
       "      <td>2.171279e+04</td>\n",
       "    </tr>\n",
       "    <tr>\n",
       "      <th>std</th>\n",
       "      <td>5.578104e+03</td>\n",
       "      <td>7.654427e+07</td>\n",
       "      <td>7.206219e-01</td>\n",
       "      <td>6.976167e-01</td>\n",
       "      <td>6.160928e-01</td>\n",
       "      <td>6.822184e-01</td>\n",
       "      <td>7.319696e-01</td>\n",
       "      <td>2.322526e+00</td>\n",
       "      <td>2.181834e+04</td>\n",
       "    </tr>\n",
       "    <tr>\n",
       "      <th>min</th>\n",
       "      <td>1.000000e+00</td>\n",
       "      <td>8.406720e+08</td>\n",
       "      <td>0.000000e+00</td>\n",
       "      <td>1.000000e+00</td>\n",
       "      <td>0.000000e+00</td>\n",
       "      <td>1.000000e+00</td>\n",
       "      <td>1.000000e+00</td>\n",
       "      <td>1.000000e-02</td>\n",
       "      <td>3.000000e+00</td>\n",
       "    </tr>\n",
       "    <tr>\n",
       "      <th>25%</th>\n",
       "      <td>1.430000e+02</td>\n",
       "      <td>1.173224e+09</td>\n",
       "      <td>3.500000e+00</td>\n",
       "      <td>3.500000e+00</td>\n",
       "      <td>3.500000e+00</td>\n",
       "      <td>3.500000e+00</td>\n",
       "      <td>3.500000e+00</td>\n",
       "      <td>5.200000e+00</td>\n",
       "      <td>1.717000e+03</td>\n",
       "    </tr>\n",
       "    <tr>\n",
       "      <th>50%</th>\n",
       "      <td>4.290000e+02</td>\n",
       "      <td>1.239203e+09</td>\n",
       "      <td>4.000000e+00</td>\n",
       "      <td>4.000000e+00</td>\n",
       "      <td>4.000000e+00</td>\n",
       "      <td>4.000000e+00</td>\n",
       "      <td>4.000000e+00</td>\n",
       "      <td>6.500000e+00</td>\n",
       "      <td>1.390600e+04</td>\n",
       "    </tr>\n",
       "    <tr>\n",
       "      <th>75%</th>\n",
       "      <td>2.372000e+03</td>\n",
       "      <td>1.288568e+09</td>\n",
       "      <td>4.500000e+00</td>\n",
       "      <td>4.000000e+00</td>\n",
       "      <td>4.000000e+00</td>\n",
       "      <td>4.000000e+00</td>\n",
       "      <td>4.500000e+00</td>\n",
       "      <td>8.500000e+00</td>\n",
       "      <td>3.944100e+04</td>\n",
       "    </tr>\n",
       "    <tr>\n",
       "      <th>max</th>\n",
       "      <td>2.800300e+04</td>\n",
       "      <td>1.326285e+09</td>\n",
       "      <td>5.000000e+00</td>\n",
       "      <td>5.000000e+00</td>\n",
       "      <td>5.000000e+00</td>\n",
       "      <td>5.000000e+00</td>\n",
       "      <td>5.000000e+00</td>\n",
       "      <td>5.770000e+01</td>\n",
       "      <td>7.731700e+04</td>\n",
       "    </tr>\n",
       "  </tbody>\n",
       "</table>\n",
       "</div>"
      ],
      "text/plain": [
       "         brewery_id   review_time  review_overall  review_aroma  \\\n",
       "count  1.586614e+06  1.586614e+06    1.586614e+06  1.586614e+06   \n",
       "mean   3.130099e+03  1.224089e+09    3.815581e+00  3.735636e+00   \n",
       "std    5.578104e+03  7.654427e+07    7.206219e-01  6.976167e-01   \n",
       "min    1.000000e+00  8.406720e+08    0.000000e+00  1.000000e+00   \n",
       "25%    1.430000e+02  1.173224e+09    3.500000e+00  3.500000e+00   \n",
       "50%    4.290000e+02  1.239203e+09    4.000000e+00  4.000000e+00   \n",
       "75%    2.372000e+03  1.288568e+09    4.500000e+00  4.000000e+00   \n",
       "max    2.800300e+04  1.326285e+09    5.000000e+00  5.000000e+00   \n",
       "\n",
       "       review_appearance  review_palate  review_taste      beer_abv  \\\n",
       "count       1.586614e+06   1.586614e+06  1.586614e+06  1.518829e+06   \n",
       "mean        3.841642e+00   3.743701e+00  3.792860e+00  7.042387e+00   \n",
       "std         6.160928e-01   6.822184e-01  7.319696e-01  2.322526e+00   \n",
       "min         0.000000e+00   1.000000e+00  1.000000e+00  1.000000e-02   \n",
       "25%         3.500000e+00   3.500000e+00  3.500000e+00  5.200000e+00   \n",
       "50%         4.000000e+00   4.000000e+00  4.000000e+00  6.500000e+00   \n",
       "75%         4.000000e+00   4.000000e+00  4.500000e+00  8.500000e+00   \n",
       "max         5.000000e+00   5.000000e+00  5.000000e+00  5.770000e+01   \n",
       "\n",
       "        beer_beerid  \n",
       "count  1.586614e+06  \n",
       "mean   2.171279e+04  \n",
       "std    2.181834e+04  \n",
       "min    3.000000e+00  \n",
       "25%    1.717000e+03  \n",
       "50%    1.390600e+04  \n",
       "75%    3.944100e+04  \n",
       "max    7.731700e+04  "
      ]
     },
     "execution_count": 7,
     "metadata": {},
     "output_type": "execute_result"
    }
   ],
   "source": [
    "df.describe()"
   ]
  },
  {
   "cell_type": "markdown",
   "metadata": {},
   "source": [
    "**[1.8]** Display the summary (info) of df"
   ]
  },
  {
   "cell_type": "code",
   "execution_count": 8,
   "metadata": {
    "tags": []
   },
   "outputs": [
    {
     "name": "stdout",
     "output_type": "stream",
     "text": [
      "<class 'pandas.core.frame.DataFrame'>\n",
      "RangeIndex: 1586614 entries, 0 to 1586613\n",
      "Data columns (total 13 columns):\n",
      " #   Column              Non-Null Count    Dtype  \n",
      "---  ------              --------------    -----  \n",
      " 0   brewery_id          1586614 non-null  int64  \n",
      " 1   brewery_name        1586599 non-null  object \n",
      " 2   review_time         1586614 non-null  int64  \n",
      " 3   review_overall      1586614 non-null  float64\n",
      " 4   review_aroma        1586614 non-null  float64\n",
      " 5   review_appearance   1586614 non-null  float64\n",
      " 6   review_profilename  1586266 non-null  object \n",
      " 7   beer_style          1586614 non-null  object \n",
      " 8   review_palate       1586614 non-null  float64\n",
      " 9   review_taste        1586614 non-null  float64\n",
      " 10  beer_name           1586614 non-null  object \n",
      " 11  beer_abv            1518829 non-null  float64\n",
      " 12  beer_beerid         1586614 non-null  int64  \n",
      "dtypes: float64(6), int64(3), object(4)\n",
      "memory usage: 157.4+ MB\n"
     ]
    }
   ],
   "source": [
    "df.info()"
   ]
  },
  {
   "cell_type": "markdown",
   "metadata": {},
   "source": [
    "### 2.Features Engineering"
   ]
  },
  {
   "cell_type": "markdown",
   "metadata": {},
   "source": [
    "**[2.1]** Let's create a copy of our training dataframe"
   ]
  },
  {
   "cell_type": "code",
   "execution_count": 14,
   "metadata": {
    "tags": []
   },
   "outputs": [],
   "source": [
    "df_cleaned = df.copy()"
   ]
  },
  {
   "cell_type": "markdown",
   "metadata": {
    "tags": []
   },
   "source": [
    "**[2.2]** Select the necessary columns and drop columns 'brewery_id','review_time','review_profilename', \n",
    "       'beer_beerid'"
   ]
  },
  {
   "cell_type": "code",
   "execution_count": 15,
   "metadata": {
    "tags": []
   },
   "outputs": [
    {
     "data": {
      "text/html": [
       "<div>\n",
       "<style scoped>\n",
       "    .dataframe tbody tr th:only-of-type {\n",
       "        vertical-align: middle;\n",
       "    }\n",
       "\n",
       "    .dataframe tbody tr th {\n",
       "        vertical-align: top;\n",
       "    }\n",
       "\n",
       "    .dataframe thead th {\n",
       "        text-align: right;\n",
       "    }\n",
       "</style>\n",
       "<table border=\"1\" class=\"dataframe\">\n",
       "  <thead>\n",
       "    <tr style=\"text-align: right;\">\n",
       "      <th></th>\n",
       "      <th>review_appearance</th>\n",
       "      <th>review_aroma</th>\n",
       "      <th>review_palate</th>\n",
       "      <th>review_taste</th>\n",
       "      <th>beer_abv</th>\n",
       "      <th>beer_name</th>\n",
       "      <th>beer_style</th>\n",
       "    </tr>\n",
       "  </thead>\n",
       "  <tbody>\n",
       "    <tr>\n",
       "      <th>0</th>\n",
       "      <td>2.5</td>\n",
       "      <td>2.0</td>\n",
       "      <td>1.5</td>\n",
       "      <td>1.5</td>\n",
       "      <td>5.0</td>\n",
       "      <td>Sausa Weizen</td>\n",
       "      <td>Hefeweizen</td>\n",
       "    </tr>\n",
       "    <tr>\n",
       "      <th>1</th>\n",
       "      <td>3.0</td>\n",
       "      <td>2.5</td>\n",
       "      <td>3.0</td>\n",
       "      <td>3.0</td>\n",
       "      <td>6.2</td>\n",
       "      <td>Red Moon</td>\n",
       "      <td>English Strong Ale</td>\n",
       "    </tr>\n",
       "    <tr>\n",
       "      <th>2</th>\n",
       "      <td>3.0</td>\n",
       "      <td>2.5</td>\n",
       "      <td>3.0</td>\n",
       "      <td>3.0</td>\n",
       "      <td>6.5</td>\n",
       "      <td>Black Horse Black Beer</td>\n",
       "      <td>Foreign / Export Stout</td>\n",
       "    </tr>\n",
       "    <tr>\n",
       "      <th>3</th>\n",
       "      <td>3.5</td>\n",
       "      <td>3.0</td>\n",
       "      <td>2.5</td>\n",
       "      <td>3.0</td>\n",
       "      <td>5.0</td>\n",
       "      <td>Sausa Pils</td>\n",
       "      <td>German Pilsener</td>\n",
       "    </tr>\n",
       "    <tr>\n",
       "      <th>4</th>\n",
       "      <td>4.0</td>\n",
       "      <td>4.5</td>\n",
       "      <td>4.0</td>\n",
       "      <td>4.5</td>\n",
       "      <td>7.7</td>\n",
       "      <td>Cauldron DIPA</td>\n",
       "      <td>American Double / Imperial IPA</td>\n",
       "    </tr>\n",
       "  </tbody>\n",
       "</table>\n",
       "</div>"
      ],
      "text/plain": [
       "   review_appearance  review_aroma  review_palate  review_taste  beer_abv  \\\n",
       "0                2.5           2.0            1.5           1.5       5.0   \n",
       "1                3.0           2.5            3.0           3.0       6.2   \n",
       "2                3.0           2.5            3.0           3.0       6.5   \n",
       "3                3.5           3.0            2.5           3.0       5.0   \n",
       "4                4.0           4.5            4.0           4.5       7.7   \n",
       "\n",
       "                beer_name                      beer_style  \n",
       "0            Sausa Weizen                      Hefeweizen  \n",
       "1                Red Moon              English Strong Ale  \n",
       "2  Black Horse Black Beer          Foreign / Export Stout  \n",
       "3              Sausa Pils                 German Pilsener  \n",
       "4           Cauldron DIPA  American Double / Imperial IPA  "
      ]
     },
     "execution_count": 15,
     "metadata": {},
     "output_type": "execute_result"
    }
   ],
   "source": [
    "# Select necessary columns\n",
    "df_cleaned = df_cleaned[['review_appearance', 'review_aroma', 'review_palate', 'review_taste', 'beer_abv','beer_name', 'beer_style']]\n",
    "df_cleaned.head()"
   ]
  },
  {
   "cell_type": "markdown",
   "metadata": {},
   "source": [
    "**[2.3]** Handling missing values"
   ]
  },
  {
   "cell_type": "code",
   "execution_count": 16,
   "metadata": {
    "tags": []
   },
   "outputs": [],
   "source": [
    "# Handle missing values\n",
    "df_cleaned['beer_abv'].fillna(df_cleaned['beer_abv'].mean(), inplace=True)\n",
    "df_cleaned['beer_name'].fillna('unknown', inplace=True)"
   ]
  },
  {
   "cell_type": "code",
   "execution_count": 17,
   "metadata": {
    "tags": []
   },
   "outputs": [
    {
     "name": "stdout",
     "output_type": "stream",
     "text": [
      "<class 'pandas.core.frame.DataFrame'>\n",
      "RangeIndex: 1586614 entries, 0 to 1586613\n",
      "Data columns (total 7 columns):\n",
      " #   Column             Non-Null Count    Dtype  \n",
      "---  ------             --------------    -----  \n",
      " 0   review_appearance  1586614 non-null  float64\n",
      " 1   review_aroma       1586614 non-null  float64\n",
      " 2   review_palate      1586614 non-null  float64\n",
      " 3   review_taste       1586614 non-null  float64\n",
      " 4   beer_abv           1586614 non-null  float64\n",
      " 5   beer_name          1586614 non-null  object \n",
      " 6   beer_style         1586614 non-null  object \n",
      "dtypes: float64(5), object(2)\n",
      "memory usage: 84.7+ MB\n"
     ]
    }
   ],
   "source": [
    "df_cleaned.info()"
   ]
  },
  {
   "cell_type": "code",
   "execution_count": 18,
   "metadata": {
    "tags": []
   },
   "outputs": [
    {
     "data": {
      "image/png": "[encoded data removed]",
      "text/plain": [
       "<Figure size 1000x600 with 1 Axes>"
      ]
     },
     "metadata": {},
     "output_type": "display_data"
    }
   ],
   "source": [
    "# Count the occurrence of each beer style and sort in ascending order\n",
    "beer_style_counts = df_cleaned['beer_style'].value_counts().sort_values(ascending=False)\n",
    "\n",
    "# Select the 10 least common beer styles\n",
    "least_common_styles = beer_style_counts.head(10)\n",
    "\n",
    "# Plot the 10 least common beer styles as a bar graph\n",
    "plt.figure(figsize=(10, 6))\n",
    "least_common_styles.plot(kind='bar')\n",
    "plt.xlabel('Beer Style')\n",
    "plt.ylabel('Occurrence Count')\n",
    "plt.title('10 Most Common Beer Styles')\n",
    "plt.xticks(rotation=45)\n",
    "plt.show()\n"
   ]
  },
  {
   "cell_type": "code",
   "execution_count": 19,
   "metadata": {
    "tags": []
   },
   "outputs": [
    {
     "data": {
      "image/png": "[encoded data removed]",
      "text/plain": [
       "<Figure size 1000x600 with 1 Axes>"
      ]
     },
     "metadata": {},
     "output_type": "display_data"
    }
   ],
   "source": [
    "\n",
    "# Count the occurrence of each beer style and sort in ascending order\n",
    "beer_style_counts = df['beer_style'].value_counts().sort_values()\n",
    "\n",
    "# Select the 10 least common beer styles\n",
    "least_common_styles = beer_style_counts.head(10)\n",
    "\n",
    "# Plot the 10 least common beer styles as a bar graph\n",
    "plt.figure(figsize=(10, 6))\n",
    "least_common_styles.plot(kind='bar')\n",
    "plt.xlabel('Beer Style')\n",
    "plt.ylabel('Occurrence Count')\n",
    "plt.title('10 Least Common Beer Styles')\n",
    "plt.xticks(rotation=45)\n",
    "plt.show()\n"
   ]
  },
  {
   "cell_type": "markdown",
   "metadata": {
    "tags": []
   },
   "source": [
    "**[2.4] Categorical feature encoding**: Some features like 'brewery_name', 'beer_name', 'beer_style' are categorical variables. We can encode them using techniques such as one-hot encoding or label encoding to represent them numerically. This allows the model to understand the categorical information"
   ]
  },
  {
   "cell_type": "code",
   "execution_count": 20,
   "metadata": {
    "tags": []
   },
   "outputs": [],
   "source": [
    "import category_encoders as ce"
   ]
  },
  {
   "cell_type": "code",
   "execution_count": 21,
   "metadata": {
    "tags": []
   },
   "outputs": [],
   "source": [
    "# Encode the beer_style column\n",
    "le = LabelEncoder()\n",
    "df_cleaned['beer_style'] = le.fit_transform(df_cleaned['beer_style'])"
   ]
  },
  {
   "cell_type": "code",
   "execution_count": 22,
   "metadata": {
    "tags": []
   },
   "outputs": [],
   "source": [
    "# Select columns to be encoded\n",
    "cols_to_encode = ['beer_name']\n",
    "\n",
    "# Instantiate encoder\n",
    "encoder = ce.TargetEncoder(cols=cols_to_encode)"
   ]
  },
  {
   "cell_type": "code",
   "execution_count": 23,
   "metadata": {
    "tags": []
   },
   "outputs": [],
   "source": [
    "# Fit and transform the columns\n",
    "df_encoded = encoder.fit_transform(df_cleaned[cols_to_encode], df_cleaned['beer_style'])\n",
    "# Replace original columns with encoded ones in the dataframe\n",
    "df_cleaned.drop(cols_to_encode, axis=1, inplace=True)\n",
    "df_cleaned = pd.concat([df_cleaned, df_encoded], axis=1)"
   ]
  },
  {
   "cell_type": "code",
   "execution_count": 25,
   "metadata": {
    "tags": []
   },
   "outputs": [
    {
     "data": {
      "text/html": [
       "<div>\n",
       "<style scoped>\n",
       "    .dataframe tbody tr th:only-of-type {\n",
       "        vertical-align: middle;\n",
       "    }\n",
       "\n",
       "    .dataframe tbody tr th {\n",
       "        vertical-align: top;\n",
       "    }\n",
       "\n",
       "    .dataframe thead th {\n",
       "        text-align: right;\n",
       "    }\n",
       "</style>\n",
       "<table border=\"1\" class=\"dataframe\">\n",
       "  <thead>\n",
       "    <tr style=\"text-align: right;\">\n",
       "      <th></th>\n",
       "      <th>review_appearance</th>\n",
       "      <th>review_aroma</th>\n",
       "      <th>review_palate</th>\n",
       "      <th>review_taste</th>\n",
       "      <th>beer_abv</th>\n",
       "      <th>beer_style</th>\n",
       "      <th>beer_name</th>\n",
       "    </tr>\n",
       "  </thead>\n",
       "  <tbody>\n",
       "    <tr>\n",
       "      <th>0</th>\n",
       "      <td>2.5</td>\n",
       "      <td>2.0</td>\n",
       "      <td>1.5</td>\n",
       "      <td>1.5</td>\n",
       "      <td>5.0</td>\n",
       "      <td>65</td>\n",
       "      <td>45.116395</td>\n",
       "    </tr>\n",
       "    <tr>\n",
       "      <th>1</th>\n",
       "      <td>3.0</td>\n",
       "      <td>2.5</td>\n",
       "      <td>3.0</td>\n",
       "      <td>3.0</td>\n",
       "      <td>6.2</td>\n",
       "      <td>51</td>\n",
       "      <td>43.294876</td>\n",
       "    </tr>\n",
       "    <tr>\n",
       "      <th>2</th>\n",
       "      <td>3.0</td>\n",
       "      <td>2.5</td>\n",
       "      <td>3.0</td>\n",
       "      <td>3.0</td>\n",
       "      <td>6.5</td>\n",
       "      <td>59</td>\n",
       "      <td>44.335744</td>\n",
       "    </tr>\n",
       "    <tr>\n",
       "      <th>3</th>\n",
       "      <td>3.5</td>\n",
       "      <td>3.0</td>\n",
       "      <td>2.5</td>\n",
       "      <td>3.0</td>\n",
       "      <td>5.0</td>\n",
       "      <td>61</td>\n",
       "      <td>44.595961</td>\n",
       "    </tr>\n",
       "    <tr>\n",
       "      <th>4</th>\n",
       "      <td>4.0</td>\n",
       "      <td>4.5</td>\n",
       "      <td>4.0</td>\n",
       "      <td>4.5</td>\n",
       "      <td>7.7</td>\n",
       "      <td>9</td>\n",
       "      <td>37.830320</td>\n",
       "    </tr>\n",
       "    <tr>\n",
       "      <th>...</th>\n",
       "      <td>...</td>\n",
       "      <td>...</td>\n",
       "      <td>...</td>\n",
       "      <td>...</td>\n",
       "      <td>...</td>\n",
       "      <td>...</td>\n",
       "      <td>...</td>\n",
       "    </tr>\n",
       "    <tr>\n",
       "      <th>1586609</th>\n",
       "      <td>3.5</td>\n",
       "      <td>4.0</td>\n",
       "      <td>4.0</td>\n",
       "      <td>4.0</td>\n",
       "      <td>5.2</td>\n",
       "      <td>85</td>\n",
       "      <td>57.328741</td>\n",
       "    </tr>\n",
       "    <tr>\n",
       "      <th>1586610</th>\n",
       "      <td>2.5</td>\n",
       "      <td>5.0</td>\n",
       "      <td>2.0</td>\n",
       "      <td>4.0</td>\n",
       "      <td>5.2</td>\n",
       "      <td>85</td>\n",
       "      <td>57.328741</td>\n",
       "    </tr>\n",
       "    <tr>\n",
       "      <th>1586611</th>\n",
       "      <td>3.0</td>\n",
       "      <td>3.5</td>\n",
       "      <td>3.5</td>\n",
       "      <td>4.0</td>\n",
       "      <td>5.2</td>\n",
       "      <td>85</td>\n",
       "      <td>57.328741</td>\n",
       "    </tr>\n",
       "    <tr>\n",
       "      <th>1586612</th>\n",
       "      <td>4.5</td>\n",
       "      <td>4.5</td>\n",
       "      <td>4.5</td>\n",
       "      <td>4.5</td>\n",
       "      <td>5.2</td>\n",
       "      <td>85</td>\n",
       "      <td>57.328741</td>\n",
       "    </tr>\n",
       "    <tr>\n",
       "      <th>1586613</th>\n",
       "      <td>4.5</td>\n",
       "      <td>4.5</td>\n",
       "      <td>4.5</td>\n",
       "      <td>4.5</td>\n",
       "      <td>5.2</td>\n",
       "      <td>85</td>\n",
       "      <td>57.328741</td>\n",
       "    </tr>\n",
       "  </tbody>\n",
       "</table>\n",
       "<p>1586614 rows × 7 columns</p>\n",
       "</div>"
      ],
      "text/plain": [
       "         review_appearance  review_aroma  review_palate  review_taste  \\\n",
       "0                      2.5           2.0            1.5           1.5   \n",
       "1                      3.0           2.5            3.0           3.0   \n",
       "2                      3.0           2.5            3.0           3.0   \n",
       "3                      3.5           3.0            2.5           3.0   \n",
       "4                      4.0           4.5            4.0           4.5   \n",
       "...                    ...           ...            ...           ...   \n",
       "1586609                3.5           4.0            4.0           4.0   \n",
       "1586610                2.5           5.0            2.0           4.0   \n",
       "1586611                3.0           3.5            3.5           4.0   \n",
       "1586612                4.5           4.5            4.5           4.5   \n",
       "1586613                4.5           4.5            4.5           4.5   \n",
       "\n",
       "         beer_abv  beer_style  beer_name  \n",
       "0             5.0          65  45.116395  \n",
       "1             6.2          51  43.294876  \n",
       "2             6.5          59  44.335744  \n",
       "3             5.0          61  44.595961  \n",
       "4             7.7           9  37.830320  \n",
       "...           ...         ...        ...  \n",
       "1586609       5.2          85  57.328741  \n",
       "1586610       5.2          85  57.328741  \n",
       "1586611       5.2          85  57.328741  \n",
       "1586612       5.2          85  57.328741  \n",
       "1586613       5.2          85  57.328741  \n",
       "\n",
       "[1586614 rows x 7 columns]"
      ]
     },
     "execution_count": 25,
     "metadata": {},
     "output_type": "execute_result"
    }
   ],
   "source": [
    "df_cleaned"
   ]
  },
  {
   "cell_type": "markdown",
   "metadata": {
    "tags": []
   },
   "source": [
    "**[2.6] Standard scalling all features except the target variable**"
   ]
  },
  {
   "cell_type": "code",
   "execution_count": 26,
   "metadata": {
    "tags": []
   },
   "outputs": [],
   "source": [
    "y = df_cleaned.pop(\"beer_style\")\n",
    "X = df_cleaned"
   ]
  },
  {
   "cell_type": "code",
   "execution_count": 27,
   "metadata": {
    "tags": []
   },
   "outputs": [],
   "source": [
    "from sklearn.preprocessing import StandardScaler"
   ]
  },
  {
   "cell_type": "code",
   "execution_count": 28,
   "metadata": {
    "tags": []
   },
   "outputs": [],
   "source": [
    "scaler = StandardScaler()"
   ]
  },
  {
   "cell_type": "code",
   "execution_count": 29,
   "metadata": {
    "tags": []
   },
   "outputs": [],
   "source": [
    "X = pd.DataFrame(scaler.fit_transform(X), columns=X.columns)"
   ]
  },
  {
   "cell_type": "markdown",
   "metadata": {
    "tags": []
   },
   "source": [
    "**[2.7] Split dataset**"
   ]
  },
  {
   "cell_type": "code",
   "execution_count": 30,
   "metadata": {
    "tags": []
   },
   "outputs": [],
   "source": [
    "# Split the data into training and test sets\n",
    "X_train, X_test, y_train, y_test = train_test_split(X, y, test_size = 0.2, random_state=42)"
   ]
  },
  {
   "cell_type": "markdown",
   "metadata": {},
   "source": [
    "### 4.   Defining the Architecture of the Multi-Layer Perceptron"
   ]
  },
  {
   "cell_type": "markdown",
   "metadata": {
    "tags": []
   },
   "source": [
    "**[4.1]** Set the seeds for tensorflow and numpy in order to get reproducible results"
   ]
  },
  {
   "cell_type": "code",
   "execution_count": 31,
   "metadata": {
    "tags": []
   },
   "outputs": [],
   "source": [
    "tf.random.set_seed(42)"
   ]
  },
  {
   "cell_type": "markdown",
   "metadata": {},
   "source": [
    "**[4.2]** Instantiate a [.Sequential()](https://www.tensorflow.org/api_docs/python/tf/keras/Sequential) class and call it `model`"
   ]
  },
  {
   "cell_type": "code",
   "execution_count": 32,
   "metadata": {
    "tags": []
   },
   "outputs": [],
   "source": [
    "model = tf.keras.Sequential()"
   ]
  },
  {
   "cell_type": "markdown",
   "metadata": {},
   "source": [
    "**[4.3]** Import the [Dense()](https://www.tensorflow.org/api_docs/python/tf/keras/layers/Dense) and [Flatten()](https://www.tensorflow.org/api_docs/python/tf/keras/layers/Flatten) classes"
   ]
  },
  {
   "cell_type": "code",
   "execution_count": 33,
   "metadata": {
    "tags": []
   },
   "outputs": [],
   "source": [
    "from tensorflow.keras.layers import Dense, Flatten"
   ]
  },
  {
   "cell_type": "markdown",
   "metadata": {},
   "source": [
    "**[4.4]** Create a hidden layer of 256 fully connected neurins with ReLU as the activation function followed by another fully connected layer responsible of making final predictions"
   ]
  },
  {
   "cell_type": "code",
   "execution_count": 34,
   "metadata": {
    "tags": []
   },
   "outputs": [],
   "source": [
    "# layer1 = Dense(128, activation='relu', input_shape=[20], kernel_regularizer=regularizer)\n",
    "layer1 = Dense(100, activation='relu')\n",
    "top_layer = Dense(104, activation='softmax')"
   ]
  },
  {
   "cell_type": "markdown",
   "metadata": {},
   "source": [
    "**[4.5]** Assemble the different layers we just defined to create our first MLP. We will be using the [.add()](https://www.tensorflow.org/api_docs/python/tf/keras/layers/add) method"
   ]
  },
  {
   "cell_type": "code",
   "execution_count": 35,
   "metadata": {
    "tags": []
   },
   "outputs": [],
   "source": [
    "# model.add(flatten_layer)\n",
    "model.add(Dense(128, activation='relu', input_shape=(X_train.shape[1],)))\n",
    "model.add(layer1)\n",
    "# model.add(Dropout(0.3))\n",
    "model.add(top_layer)"
   ]
  },
  {
   "cell_type": "markdown",
   "metadata": {},
   "source": [
    "**[4.6]** Instantiate the [Adam()](https://www.tensorflow.org/api_docs/python/tf/keras/optimizers/Adam) class, specify the learning rate to be 0.001 and save it into a variable called `optimizer`"
   ]
  },
  {
   "cell_type": "code",
   "execution_count": 36,
   "metadata": {
    "tags": []
   },
   "outputs": [],
   "source": [
    "# optimizer = tf.keras.optimizers.RMSprop(0.001)\n",
    "optimizer = tf.keras.optimizers.Adam(0.001)"
   ]
  },
  {
   "cell_type": "markdown",
   "metadata": {},
   "source": [
    "**[4.7]** Configure the learning process using the [.compile()](https://www.tensorflow.org/api_docs/python/tf/keras/Model#methods_2) method and specify the loss function, optimizer and the metrics to be used"
   ]
  },
  {
   "cell_type": "code",
   "execution_count": 37,
   "metadata": {
    "tags": []
   },
   "outputs": [],
   "source": [
    "model.compile(loss='sparse_categorical_crossentropy', optimizer=optimizer, metrics=['accuracy'])"
   ]
  },
  {
   "cell_type": "markdown",
   "metadata": {},
   "source": [
    "**[4.8]** Print the model architecture with [.summary()](https://www.tensorflow.org/api_docs/python/tf/keras/Model#summary)"
   ]
  },
  {
   "cell_type": "code",
   "execution_count": 38,
   "metadata": {
    "tags": []
   },
   "outputs": [
    {
     "name": "stdout",
     "output_type": "stream",
     "text": [
      "Model: \"sequential\"\n",
      "_________________________________________________________________\n",
      " Layer (type)                Output Shape              Param #   \n",
      "=================================================================\n",
      " dense_2 (Dense)             (None, 128)               896       \n",
      "                                                                 \n",
      " dense (Dense)               (None, 100)               12900     \n",
      "                                                                 \n",
      " dense_1 (Dense)             (None, 104)               10504     \n",
      "                                                                 \n",
      "=================================================================\n",
      "Total params: 24,300\n",
      "Trainable params: 24,300\n",
      "Non-trainable params: 0\n",
      "_________________________________________________________________\n"
     ]
    }
   ],
   "source": [
    "model.summary()"
   ]
  },
  {
   "cell_type": "markdown",
   "metadata": {},
   "source": [
    "### 5. Training and Evaluation of the Model"
   ]
  },
  {
   "cell_type": "markdown",
   "metadata": {},
   "source": [
    "**[5.1]** Train the model using the [.fit()](https://www.tensorflow.org/api_docs/python/tf/keras/Model#fit) method on the training set on 5 epochs and create a validation set (20%)### 5. Training and Evaluation of the Model"
   ]
  },
  {
   "cell_type": "code",
   "execution_count": 39,
   "metadata": {
    "tags": []
   },
   "outputs": [
    {
     "name": "stdout",
     "output_type": "stream",
     "text": [
      "Epoch 1/60\n",
      "3967/3967 [==============================] - 8s 2ms/step - loss: 1.9799 - accuracy: 0.4553 - val_loss: 1.5994 - val_accuracy: 0.5776\n",
      "Epoch 2/60\n",
      "3967/3967 [==============================] - 8s 2ms/step - loss: 1.4675 - accuracy: 0.6150 - val_loss: 1.3753 - val_accuracy: 0.6436\n",
      "Epoch 3/60\n",
      "3967/3967 [==============================] - 7s 2ms/step - loss: 1.3097 - accuracy: 0.6653 - val_loss: 1.2733 - val_accuracy: 0.6838\n",
      "Epoch 4/60\n",
      "3967/3967 [==============================] - 7s 2ms/step - loss: 1.2317 - accuracy: 0.6884 - val_loss: 1.2167 - val_accuracy: 0.6914\n",
      "Epoch 5/60\n",
      "3967/3967 [==============================] - 7s 2ms/step - loss: 1.1812 - accuracy: 0.7029 - val_loss: 1.1676 - val_accuracy: 0.7096\n",
      "Epoch 6/60\n",
      "3967/3967 [==============================] - 7s 2ms/step - loss: 1.1448 - accuracy: 0.7145 - val_loss: 1.1344 - val_accuracy: 0.7148\n",
      "Epoch 7/60\n",
      "3967/3967 [==============================] - 7s 2ms/step - loss: 1.1156 - accuracy: 0.7224 - val_loss: 1.1078 - val_accuracy: 0.7246\n",
      "Epoch 8/60\n",
      "3967/3967 [==============================] - 7s 2ms/step - loss: 1.0914 - accuracy: 0.7296 - val_loss: 1.0836 - val_accuracy: 0.7326\n",
      "Epoch 9/60\n",
      "3967/3967 [==============================] - 7s 2ms/step - loss: 1.0713 - accuracy: 0.7352 - val_loss: 1.0777 - val_accuracy: 0.7329\n",
      "Epoch 10/60\n",
      "3967/3967 [==============================] - 7s 2ms/step - loss: 1.0536 - accuracy: 0.7394 - val_loss: 1.0476 - val_accuracy: 0.7441\n",
      "Epoch 11/60\n",
      "3967/3967 [==============================] - 7s 2ms/step - loss: 1.0375 - accuracy: 0.7432 - val_loss: 1.0306 - val_accuracy: 0.7483\n",
      "Epoch 12/60\n",
      "3967/3967 [==============================] - 8s 2ms/step - loss: 1.0210 - accuracy: 0.7477 - val_loss: 1.0172 - val_accuracy: 0.7504\n",
      "Epoch 13/60\n",
      "3967/3967 [==============================] - 7s 2ms/step - loss: 1.0061 - accuracy: 0.7511 - val_loss: 1.0158 - val_accuracy: 0.7517\n",
      "Epoch 14/60\n",
      "3967/3967 [==============================] - 8s 2ms/step - loss: 0.9943 - accuracy: 0.7540 - val_loss: 0.9919 - val_accuracy: 0.7572\n",
      "Epoch 15/60\n",
      "3967/3967 [==============================] - 8s 2ms/step - loss: 0.9830 - accuracy: 0.7567 - val_loss: 0.9890 - val_accuracy: 0.7567\n",
      "Epoch 16/60\n",
      "3967/3967 [==============================] - 8s 2ms/step - loss: 0.9726 - accuracy: 0.7594 - val_loss: 0.9738 - val_accuracy: 0.7573\n",
      "Epoch 17/60\n",
      "3967/3967 [==============================] - 8s 2ms/step - loss: 0.9644 - accuracy: 0.7614 - val_loss: 0.9687 - val_accuracy: 0.7631\n",
      "Epoch 18/60\n",
      "3967/3967 [==============================] - 8s 2ms/step - loss: 0.9561 - accuracy: 0.7632 - val_loss: 0.9654 - val_accuracy: 0.7604\n",
      "Epoch 19/60\n",
      "3967/3967 [==============================] - 8s 2ms/step - loss: 0.9485 - accuracy: 0.7654 - val_loss: 0.9524 - val_accuracy: 0.7666\n",
      "Epoch 20/60\n",
      "3967/3967 [==============================] - 8s 2ms/step - loss: 0.9418 - accuracy: 0.7667 - val_loss: 0.9573 - val_accuracy: 0.7604\n",
      "Epoch 21/60\n",
      "3967/3967 [==============================] - 8s 2ms/step - loss: 0.9353 - accuracy: 0.7683 - val_loss: 0.9453 - val_accuracy: 0.7667\n",
      "Epoch 22/60\n",
      "3967/3967 [==============================] - 8s 2ms/step - loss: 0.9290 - accuracy: 0.7699 - val_loss: 0.9328 - val_accuracy: 0.7668\n",
      "Epoch 23/60\n",
      "3967/3967 [==============================] - 8s 2ms/step - loss: 0.9233 - accuracy: 0.7711 - val_loss: 0.9217 - val_accuracy: 0.7708\n",
      "Epoch 24/60\n",
      "3967/3967 [==============================] - 8s 2ms/step - loss: 0.9179 - accuracy: 0.7723 - val_loss: 0.9195 - val_accuracy: 0.7715\n",
      "Epoch 25/60\n",
      "3967/3967 [==============================] - 8s 2ms/step - loss: 0.9126 - accuracy: 0.7734 - val_loss: 0.9199 - val_accuracy: 0.7733\n",
      "Epoch 26/60\n",
      "3967/3967 [==============================] - 8s 2ms/step - loss: 0.9074 - accuracy: 0.7748 - val_loss: 0.9127 - val_accuracy: 0.7734\n",
      "Epoch 27/60\n",
      "3967/3967 [==============================] - 8s 2ms/step - loss: 0.9032 - accuracy: 0.7756 - val_loss: 0.9042 - val_accuracy: 0.7741\n",
      "Epoch 28/60\n",
      "3967/3967 [==============================] - 8s 2ms/step - loss: 0.8985 - accuracy: 0.7768 - val_loss: 0.9188 - val_accuracy: 0.7751\n",
      "Epoch 29/60\n",
      "3967/3967 [==============================] - 8s 2ms/step - loss: 0.8940 - accuracy: 0.7780 - val_loss: 0.9045 - val_accuracy: 0.7766\n",
      "Epoch 30/60\n",
      "3967/3967 [==============================] - 8s 2ms/step - loss: 0.8896 - accuracy: 0.7788 - val_loss: 0.8965 - val_accuracy: 0.7789\n",
      "Epoch 31/60\n",
      "3967/3967 [==============================] - 8s 2ms/step - loss: 0.8855 - accuracy: 0.7795 - val_loss: 0.8960 - val_accuracy: 0.7802\n",
      "Epoch 32/60\n",
      "3967/3967 [==============================] - 8s 2ms/step - loss: 0.8817 - accuracy: 0.7806 - val_loss: 0.8917 - val_accuracy: 0.7807\n",
      "Epoch 33/60\n",
      "3967/3967 [==============================] - 8s 2ms/step - loss: 0.8781 - accuracy: 0.7815 - val_loss: 0.8912 - val_accuracy: 0.7794\n",
      "Epoch 34/60\n",
      "3967/3967 [==============================] - 8s 2ms/step - loss: 0.8741 - accuracy: 0.7821 - val_loss: 0.8842 - val_accuracy: 0.7812\n",
      "Epoch 35/60\n",
      "3967/3967 [==============================] - 8s 2ms/step - loss: 0.8704 - accuracy: 0.7829 - val_loss: 0.8744 - val_accuracy: 0.7825\n",
      "Epoch 36/60\n",
      "3967/3967 [==============================] - 8s 2ms/step - loss: 0.8674 - accuracy: 0.7836 - val_loss: 0.8714 - val_accuracy: 0.7868\n",
      "Epoch 37/60\n",
      "3967/3967 [==============================] - 8s 2ms/step - loss: 0.8637 - accuracy: 0.7843 - val_loss: 0.8721 - val_accuracy: 0.7856\n",
      "Epoch 38/60\n",
      "3967/3967 [==============================] - 8s 2ms/step - loss: 0.8611 - accuracy: 0.7848 - val_loss: 0.8714 - val_accuracy: 0.7848\n",
      "Epoch 39/60\n",
      "3967/3967 [==============================] - 8s 2ms/step - loss: 0.8574 - accuracy: 0.7857 - val_loss: 0.8729 - val_accuracy: 0.7849\n",
      "Epoch 40/60\n",
      "3967/3967 [==============================] - 8s 2ms/step - loss: 0.8545 - accuracy: 0.7864 - val_loss: 0.8666 - val_accuracy: 0.7846\n",
      "Epoch 41/60\n",
      "3967/3967 [==============================] - 8s 2ms/step - loss: 0.8512 - accuracy: 0.7872 - val_loss: 0.8528 - val_accuracy: 0.7877\n",
      "Epoch 42/60\n",
      "3967/3967 [==============================] - 8s 2ms/step - loss: 0.8480 - accuracy: 0.7878 - val_loss: 0.8581 - val_accuracy: 0.7878\n",
      "Epoch 43/60\n",
      "3967/3967 [==============================] - 8s 2ms/step - loss: 0.8454 - accuracy: 0.7880 - val_loss: 0.8492 - val_accuracy: 0.7893\n",
      "Epoch 44/60\n",
      "3967/3967 [==============================] - 8s 2ms/step - loss: 0.8419 - accuracy: 0.7894 - val_loss: 0.8478 - val_accuracy: 0.7863\n",
      "Epoch 45/60\n",
      "3967/3967 [==============================] - 8s 2ms/step - loss: 0.8400 - accuracy: 0.7896 - val_loss: 0.8556 - val_accuracy: 0.7866\n",
      "Epoch 46/60\n",
      "3967/3967 [==============================] - 8s 2ms/step - loss: 0.8375 - accuracy: 0.7905 - val_loss: 0.8412 - val_accuracy: 0.7864\n",
      "Epoch 47/60\n",
      "3967/3967 [==============================] - 8s 2ms/step - loss: 0.8349 - accuracy: 0.7909 - val_loss: 0.8458 - val_accuracy: 0.7919\n",
      "Epoch 48/60\n",
      "3967/3967 [==============================] - 8s 2ms/step - loss: 0.8320 - accuracy: 0.7916 - val_loss: 0.8405 - val_accuracy: 0.7912\n",
      "Epoch 49/60\n",
      "3967/3967 [==============================] - 8s 2ms/step - loss: 0.8294 - accuracy: 0.7920 - val_loss: 0.8366 - val_accuracy: 0.7896\n",
      "Epoch 50/60\n",
      "3967/3967 [==============================] - 9s 2ms/step - loss: 0.8271 - accuracy: 0.7924 - val_loss: 0.8283 - val_accuracy: 0.7922\n",
      "Epoch 51/60\n",
      "3967/3967 [==============================] - 10s 2ms/step - loss: 0.8253 - accuracy: 0.7929 - val_loss: 0.8293 - val_accuracy: 0.7921\n",
      "Epoch 52/60\n",
      "3967/3967 [==============================] - 8s 2ms/step - loss: 0.8224 - accuracy: 0.7935 - val_loss: 0.8349 - val_accuracy: 0.7920\n",
      "Epoch 53/60\n",
      "3967/3967 [==============================] - 8s 2ms/step - loss: 0.8202 - accuracy: 0.7941 - val_loss: 0.8322 - val_accuracy: 0.7931\n",
      "Epoch 54/60\n",
      "3967/3967 [==============================] - 8s 2ms/step - loss: 0.8171 - accuracy: 0.7945 - val_loss: 0.8207 - val_accuracy: 0.7953\n",
      "Epoch 55/60\n",
      "3967/3967 [==============================] - 8s 2ms/step - loss: 0.8155 - accuracy: 0.7950 - val_loss: 0.8220 - val_accuracy: 0.7958\n",
      "Epoch 56/60\n",
      "3967/3967 [==============================] - 8s 2ms/step - loss: 0.8125 - accuracy: 0.7956 - val_loss: 0.8178 - val_accuracy: 0.7950\n",
      "Epoch 57/60\n",
      "3967/3967 [==============================] - 8s 2ms/step - loss: 0.8117 - accuracy: 0.7957 - val_loss: 0.8227 - val_accuracy: 0.7946\n",
      "Epoch 58/60\n",
      "3967/3967 [==============================] - 8s 2ms/step - loss: 0.8092 - accuracy: 0.7962 - val_loss: 0.8324 - val_accuracy: 0.7931\n",
      "Epoch 59/60\n",
      "3967/3967 [==============================] - 8s 2ms/step - loss: 0.8077 - accuracy: 0.7964 - val_loss: 0.8190 - val_accuracy: 0.7950\n",
      "Epoch 60/60\n",
      "3967/3967 [==============================] - 8s 2ms/step - loss: 0.8058 - accuracy: 0.7971 - val_loss: 0.8150 - val_accuracy: 0.7971\n"
     ]
    }
   ],
   "source": [
    "# Train the model\n",
    "history = model.fit(X_train, y_train, epochs=60, batch_size=256, validation_split=0.2, verbose=1)\n",
    "# history = model.fit(X_train, y_train, epochs=30, validation_split=0.2)"
   ]
  },
  {
   "cell_type": "markdown",
   "metadata": {},
   "source": [
    "**[5.2]** Evaluate the performance of this model on the testing set using [.evaluate()](https://www.tensorflow.org/api_docs/python/tf/keras/Model#evaluate)"
   ]
  },
  {
   "cell_type": "code",
   "execution_count": 40,
   "metadata": {
    "tags": []
   },
   "outputs": [
    {
     "name": "stdout",
     "output_type": "stream",
     "text": [
      "9917/9917 [==============================] - 8s 791us/step - loss: 0.8147 - accuracy: 0.7983\n"
     ]
    },
    {
     "data": {
      "text/plain": [
       "[0.814651370048523, 0.7982938289642334]"
      ]
     },
     "execution_count": 40,
     "metadata": {},
     "output_type": "execute_result"
    }
   ],
   "source": [
    "# Evaluate the model\n",
    "model.evaluate(X_test, y_test)"
   ]
  },
  {
   "cell_type": "markdown",
   "metadata": {},
   "source": [
    "### 6. Analysing the Results"
   ]
  },
  {
   "cell_type": "markdown",
   "metadata": {},
   "source": [
    "**[6.1]** Plot the learning curve for accuracy score on the training and validation sets. We will use the [.plot()](https://matplotlib.org/3.1.1/api/_as_gen/matplotlib.pyplot.plot.html#matplotlib.pyplot.plot) method to create a line chart."
   ]
  },
  {
   "cell_type": "code",
   "execution_count": 41,
   "metadata": {
    "tags": []
   },
   "outputs": [
    {
     "data": {
      "image/png": "[encoded data removed]",
      "text/plain": [
       "<Figure size 640x480 with 1 Axes>"
      ]
     },
     "metadata": {},
     "output_type": "display_data"
    }
   ],
   "source": [
    "plt.plot(history.history['accuracy'], label='MSE training')\n",
    "plt.plot(history.history['val_accuracy'], label='MSE validation')\n",
    "plt.ylabel('accuracy')\n",
    "plt.xlabel('Epoch')\n",
    "plt.show()"
   ]
  },
  {
   "cell_type": "markdown",
   "metadata": {},
   "source": [
    "**[6.2]** Using the trained model, print the predicted outcome on the first observation of the testing set by using the [.predict()](https://www.tensorflow.org/api_docs/python/tf/keras/Model#predict) method"
   ]
  },
  {
   "cell_type": "code",
   "execution_count": 42,
   "metadata": {
    "tags": []
   },
   "outputs": [
    {
     "name": "stdout",
     "output_type": "stream",
     "text": [
      "9917/9917 [==============================] - 7s 656us/step\n"
     ]
    },
    {
     "data": {
      "text/plain": [
       "array([0.00000000e+00, 3.50285514e-28, 3.19161964e-09, 0.00000000e+00,\n",
       "       9.29928184e-01, 2.77373692e-05, 1.05292350e-29, 1.35472487e-06,\n",
       "       0.00000000e+00, 3.70975062e-02, 1.56304233e-10, 1.01437587e-08,\n",
       "       3.25427988e-26, 0.00000000e+00, 0.00000000e+00, 0.00000000e+00,\n",
       "       9.95176089e-34, 0.00000000e+00, 1.14596835e-20, 3.29324603e-02,\n",
       "       0.00000000e+00, 0.00000000e+00, 0.00000000e+00, 0.00000000e+00,\n",
       "       0.00000000e+00, 0.00000000e+00, 9.57375529e-21, 0.00000000e+00,\n",
       "       0.00000000e+00, 0.00000000e+00, 0.00000000e+00, 0.00000000e+00,\n",
       "       0.00000000e+00, 0.00000000e+00, 0.00000000e+00, 0.00000000e+00,\n",
       "       0.00000000e+00, 0.00000000e+00, 0.00000000e+00, 0.00000000e+00,\n",
       "       0.00000000e+00, 0.00000000e+00, 3.07069627e-06, 8.71609862e-15,\n",
       "       0.00000000e+00, 0.00000000e+00, 0.00000000e+00, 0.00000000e+00,\n",
       "       0.00000000e+00, 0.00000000e+00, 0.00000000e+00, 8.24203105e-14,\n",
       "       0.00000000e+00, 0.00000000e+00, 0.00000000e+00, 1.15780592e-20,\n",
       "       0.00000000e+00, 3.70795653e-38, 0.00000000e+00, 0.00000000e+00,\n",
       "       0.00000000e+00, 0.00000000e+00, 0.00000000e+00, 0.00000000e+00,\n",
       "       0.00000000e+00, 0.00000000e+00, 2.92288535e-20, 0.00000000e+00,\n",
       "       0.00000000e+00, 0.00000000e+00, 0.00000000e+00, 0.00000000e+00,\n",
       "       0.00000000e+00, 0.00000000e+00, 0.00000000e+00, 0.00000000e+00,\n",
       "       0.00000000e+00, 0.00000000e+00, 0.00000000e+00, 0.00000000e+00,\n",
       "       0.00000000e+00, 0.00000000e+00, 0.00000000e+00, 0.00000000e+00,\n",
       "       0.00000000e+00, 0.00000000e+00, 1.91136508e-17, 0.00000000e+00,\n",
       "       0.00000000e+00, 9.61177557e-06, 6.12172099e-37, 0.00000000e+00,\n",
       "       1.00211022e-24, 3.50748596e-33, 0.00000000e+00, 0.00000000e+00,\n",
       "       0.00000000e+00, 2.78040443e-32, 3.12588128e-15, 0.00000000e+00,\n",
       "       0.00000000e+00, 0.00000000e+00, 7.65754959e-10, 0.00000000e+00],\n",
       "      dtype=float32)"
      ]
     },
     "execution_count": 42,
     "metadata": {},
     "output_type": "execute_result"
    }
   ],
   "source": [
    "sparse_pred_test = model.predict(X_test)\n",
    "sparse_pred_test[0]"
   ]
  },
  {
   "cell_type": "markdown",
   "metadata": {},
   "source": [
    "**[6.3]**  The output from the model is the probability for each class of the target variable. In order to get the final predicted value, we need to the [.argmax()](https://docs.scipy.org/doc/numpy/reference/generated/numpy.argmax.html) method from numpy."
   ]
  },
  {
   "cell_type": "code",
   "execution_count": 43,
   "metadata": {
    "tags": []
   },
   "outputs": [
    {
     "data": {
      "text/plain": [
       "4"
      ]
     },
     "execution_count": 43,
     "metadata": {},
     "output_type": "execute_result"
    }
   ],
   "source": [
    "pred_test = np.argmax(sparse_pred_test, 1)\n",
    "pred_test[0]"
   ]
  },
  {
   "cell_type": "markdown",
   "metadata": {},
   "source": [
    "**[6.4]** Let's compare this prediction to the actual true value"
   ]
  },
  {
   "cell_type": "code",
   "execution_count": 49,
   "metadata": {
    "tags": []
   },
   "outputs": [
    {
     "data": {
      "text/plain": [
       "859964    4\n",
       "Name: beer_style, dtype: int32"
      ]
     },
     "execution_count": 49,
     "metadata": {},
     "output_type": "execute_result"
    }
   ],
   "source": [
    "y_test.head(1)"
   ]
  },
  {
   "cell_type": "code",
   "execution_count": null,
   "metadata": {},
   "outputs": [],
   "source": []
  }
 ],
 "metadata": {
  "kernelspec": {
   "display_name": "Python 3 (ipykernel)",
   "language": "python",
   "name": "python3"
  },
  "language_info": {
   "codemirror_mode": {
    "name": "ipython",
    "version": 3
   },
   "file_extension": ".py",
   "mimetype": "text/x-python",
   "name": "python",
   "nbconvert_exporter": "python",
   "pygments_lexer": "ipython3",
   "version": "3.10.6"
  }
 },
 "nbformat": 4,
 "nbformat_minor": 4
}
