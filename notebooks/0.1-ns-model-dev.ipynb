{
 "cells": [
  {
   "cell_type": "code",
   "execution_count": 2,
   "metadata": {},
   "outputs": [
    {
     "name": "stdout",
     "output_type": "stream",
     "text": [
      "Collecting category_encoders\n",
      "  Downloading category_encoders-2.6.1-py2.py3-none-any.whl (81 kB)\n",
      "\u001b[2K     \u001b[90m━━━━━━━━━━━━━━━━━━━━━━━━━━━━━━━━━━━━━━━━\u001b[0m \u001b[32m81.9/81.9 kB\u001b[0m \u001b[31m1.2 MB/s\u001b[0m eta \u001b[36m0:00:00\u001b[0ma \u001b[36m0:00:01\u001b[0m\n",
      "\u001b[?25hRequirement already satisfied: pandas>=1.0.5 in /opt/conda/lib/python3.9/site-packages (from category_encoders) (1.4.4)\n",
      "Requirement already satisfied: scikit-learn>=0.20.0 in /opt/conda/lib/python3.9/site-packages (from category_encoders) (1.1.2)\n",
      "Requirement already satisfied: patsy>=0.5.1 in /opt/conda/lib/python3.9/site-packages (from category_encoders) (0.5.2)\n",
      "Requirement already satisfied: numpy>=1.14.0 in /opt/conda/lib/python3.9/site-packages (from category_encoders) (1.19.5)\n",
      "Requirement already satisfied: statsmodels>=0.9.0 in /opt/conda/lib/python3.9/site-packages (from category_encoders) (0.13.2)\n",
      "Requirement already satisfied: scipy>=1.0.0 in /opt/conda/lib/python3.9/site-packages (from category_encoders) (1.9.1)\n",
      "Requirement already satisfied: python-dateutil>=2.8.1 in /opt/conda/lib/python3.9/site-packages (from pandas>=1.0.5->category_encoders) (2.8.2)\n",
      "Requirement already satisfied: pytz>=2020.1 in /opt/conda/lib/python3.9/site-packages (from pandas>=1.0.5->category_encoders) (2022.4)\n",
      "Requirement already satisfied: six in /opt/conda/lib/python3.9/site-packages (from patsy>=0.5.1->category_encoders) (1.15.0)\n",
      "Requirement already satisfied: joblib>=1.0.0 in /opt/conda/lib/python3.9/site-packages (from scikit-learn>=0.20.0->category_encoders) (1.2.0)\n",
      "Requirement already satisfied: threadpoolctl>=2.0.0 in /opt/conda/lib/python3.9/site-packages (from scikit-learn>=0.20.0->category_encoders) (3.1.0)\n",
      "Requirement already satisfied: packaging>=21.3 in /opt/conda/lib/python3.9/site-packages (from statsmodels>=0.9.0->category_encoders) (21.3)\n",
      "Requirement already satisfied: pyparsing!=3.0.5,>=2.0.2 in /opt/conda/lib/python3.9/site-packages (from packaging>=21.3->statsmodels>=0.9.0->category_encoders) (3.0.9)\n",
      "Installing collected packages: category_encoders\n",
      "Successfully installed category_encoders-2.6.1\n"
     ]
    }
   ],
   "source": [
    "!pip install category_encoders"
   ]
  },
  {
   "cell_type": "code",
   "execution_count": 3,
   "metadata": {},
   "outputs": [],
   "source": [
    "import pandas as pd\n",
    "import numpy as np\n",
    "import category_encoders as ce\n",
    "import tensorflow as tf\n",
    "from tensorflow.keras.models import Sequential\n",
    "from tensorflow.keras.layers import Dense, Dropout\n",
    "from sklearn.preprocessing import LabelEncoder\n",
    "from sklearn.model_selection import train_test_split"
   ]
  },
  {
   "cell_type": "code",
   "execution_count": 4,
   "metadata": {},
   "outputs": [
    {
     "data": {
      "text/html": [
       "<div>\n",
       "<style scoped>\n",
       "    .dataframe tbody tr th:only-of-type {\n",
       "        vertical-align: middle;\n",
       "    }\n",
       "\n",
       "    .dataframe tbody tr th {\n",
       "        vertical-align: top;\n",
       "    }\n",
       "\n",
       "    .dataframe thead th {\n",
       "        text-align: right;\n",
       "    }\n",
       "</style>\n",
       "<table border=\"1\" class=\"dataframe\">\n",
       "  <thead>\n",
       "    <tr style=\"text-align: right;\">\n",
       "      <th></th>\n",
       "      <th>review_overall</th>\n",
       "      <th>review_appearance</th>\n",
       "      <th>review_aroma</th>\n",
       "      <th>review_palate</th>\n",
       "      <th>review_taste</th>\n",
       "      <th>beer_abv</th>\n",
       "      <th>brewery_name</th>\n",
       "      <th>beer_name</th>\n",
       "      <th>review_profilename</th>\n",
       "      <th>beer_style</th>\n",
       "    </tr>\n",
       "  </thead>\n",
       "  <tbody>\n",
       "    <tr>\n",
       "      <th>0</th>\n",
       "      <td>1.5</td>\n",
       "      <td>2.5</td>\n",
       "      <td>2.0</td>\n",
       "      <td>1.5</td>\n",
       "      <td>1.5</td>\n",
       "      <td>5.0</td>\n",
       "      <td>Vecchio Birraio</td>\n",
       "      <td>Sausa Weizen</td>\n",
       "      <td>stcules</td>\n",
       "      <td>Hefeweizen</td>\n",
       "    </tr>\n",
       "    <tr>\n",
       "      <th>1</th>\n",
       "      <td>3.0</td>\n",
       "      <td>3.0</td>\n",
       "      <td>2.5</td>\n",
       "      <td>3.0</td>\n",
       "      <td>3.0</td>\n",
       "      <td>6.2</td>\n",
       "      <td>Vecchio Birraio</td>\n",
       "      <td>Red Moon</td>\n",
       "      <td>stcules</td>\n",
       "      <td>English Strong Ale</td>\n",
       "    </tr>\n",
       "    <tr>\n",
       "      <th>2</th>\n",
       "      <td>3.0</td>\n",
       "      <td>3.0</td>\n",
       "      <td>2.5</td>\n",
       "      <td>3.0</td>\n",
       "      <td>3.0</td>\n",
       "      <td>6.5</td>\n",
       "      <td>Vecchio Birraio</td>\n",
       "      <td>Black Horse Black Beer</td>\n",
       "      <td>stcules</td>\n",
       "      <td>Foreign / Export Stout</td>\n",
       "    </tr>\n",
       "    <tr>\n",
       "      <th>3</th>\n",
       "      <td>3.0</td>\n",
       "      <td>3.5</td>\n",
       "      <td>3.0</td>\n",
       "      <td>2.5</td>\n",
       "      <td>3.0</td>\n",
       "      <td>5.0</td>\n",
       "      <td>Vecchio Birraio</td>\n",
       "      <td>Sausa Pils</td>\n",
       "      <td>stcules</td>\n",
       "      <td>German Pilsener</td>\n",
       "    </tr>\n",
       "    <tr>\n",
       "      <th>4</th>\n",
       "      <td>4.0</td>\n",
       "      <td>4.0</td>\n",
       "      <td>4.5</td>\n",
       "      <td>4.0</td>\n",
       "      <td>4.5</td>\n",
       "      <td>7.7</td>\n",
       "      <td>Caldera Brewing Company</td>\n",
       "      <td>Cauldron DIPA</td>\n",
       "      <td>johnmichaelsen</td>\n",
       "      <td>American Double / Imperial IPA</td>\n",
       "    </tr>\n",
       "  </tbody>\n",
       "</table>\n",
       "</div>"
      ],
      "text/plain": [
       "   review_overall  review_appearance  review_aroma  review_palate  \\\n",
       "0             1.5                2.5           2.0            1.5   \n",
       "1             3.0                3.0           2.5            3.0   \n",
       "2             3.0                3.0           2.5            3.0   \n",
       "3             3.0                3.5           3.0            2.5   \n",
       "4             4.0                4.0           4.5            4.0   \n",
       "\n",
       "   review_taste  beer_abv             brewery_name               beer_name  \\\n",
       "0           1.5       5.0          Vecchio Birraio            Sausa Weizen   \n",
       "1           3.0       6.2          Vecchio Birraio                Red Moon   \n",
       "2           3.0       6.5          Vecchio Birraio  Black Horse Black Beer   \n",
       "3           3.0       5.0          Vecchio Birraio              Sausa Pils   \n",
       "4           4.5       7.7  Caldera Brewing Company           Cauldron DIPA   \n",
       "\n",
       "  review_profilename                      beer_style  \n",
       "0            stcules                      Hefeweizen  \n",
       "1            stcules              English Strong Ale  \n",
       "2            stcules          Foreign / Export Stout  \n",
       "3            stcules                 German Pilsener  \n",
       "4     johnmichaelsen  American Double / Imperial IPA  "
      ]
     },
     "execution_count": 4,
     "metadata": {},
     "output_type": "execute_result"
    }
   ],
   "source": [
    "# Read in the csv\n",
    "df = pd.read_csv(\"../data/raw/beer_reviews.csv\")\n",
    "# Select necessary columns\n",
    "df = df[['review_overall','review_appearance', 'review_aroma', 'review_palate', 'review_taste', 'beer_abv', 'brewery_name', 'beer_name', 'review_profilename','beer_style']]\n",
    "df.head()"
   ]
  },
  {
   "cell_type": "code",
   "execution_count": 5,
   "metadata": {},
   "outputs": [
    {
     "data": {
      "text/plain": [
       "(1048575, 10)"
      ]
     },
     "execution_count": 5,
     "metadata": {},
     "output_type": "execute_result"
    }
   ],
   "source": [
    "df.shape"
   ]
  },
  {
   "cell_type": "code",
   "execution_count": 6,
   "metadata": {},
   "outputs": [
    {
     "name": "stdout",
     "output_type": "stream",
     "text": [
      "<class 'pandas.core.frame.DataFrame'>\n",
      "RangeIndex: 1048575 entries, 0 to 1048574\n",
      "Data columns (total 10 columns):\n",
      " #   Column              Non-Null Count    Dtype  \n",
      "---  ------              --------------    -----  \n",
      " 0   review_overall      1048575 non-null  float64\n",
      " 1   review_appearance   1048575 non-null  float64\n",
      " 2   review_aroma        1048575 non-null  float64\n",
      " 3   review_palate       1048575 non-null  float64\n",
      " 4   review_taste        1048575 non-null  float64\n",
      " 5   beer_abv            1005757 non-null  float64\n",
      " 6   brewery_name        1048566 non-null  object \n",
      " 7   beer_name           1048575 non-null  object \n",
      " 8   review_profilename  1048340 non-null  object \n",
      " 9   beer_style          1048575 non-null  object \n",
      "dtypes: float64(6), object(4)\n",
      "memory usage: 80.0+ MB\n"
     ]
    }
   ],
   "source": [
    "df.info()"
   ]
  },
  {
   "cell_type": "code",
   "execution_count": 7,
   "metadata": {},
   "outputs": [
    {
     "data": {
      "text/plain": [
       "review_overall            0\n",
       "review_appearance         0\n",
       "review_aroma              0\n",
       "review_palate             0\n",
       "review_taste              0\n",
       "beer_abv              42818\n",
       "brewery_name              9\n",
       "beer_name                 0\n",
       "review_profilename      235\n",
       "beer_style                0\n",
       "dtype: int64"
      ]
     },
     "execution_count": 7,
     "metadata": {},
     "output_type": "execute_result"
    }
   ],
   "source": [
    "df.isnull().sum()"
   ]
  },
  {
   "cell_type": "code",
   "execution_count": 8,
   "metadata": {},
   "outputs": [
    {
     "data": {
      "text/html": [
       "<div>\n",
       "<style scoped>\n",
       "    .dataframe tbody tr th:only-of-type {\n",
       "        vertical-align: middle;\n",
       "    }\n",
       "\n",
       "    .dataframe tbody tr th {\n",
       "        vertical-align: top;\n",
       "    }\n",
       "\n",
       "    .dataframe thead th {\n",
       "        text-align: right;\n",
       "    }\n",
       "</style>\n",
       "<table border=\"1\" class=\"dataframe\">\n",
       "  <thead>\n",
       "    <tr style=\"text-align: right;\">\n",
       "      <th></th>\n",
       "      <th>review_overall</th>\n",
       "      <th>review_appearance</th>\n",
       "      <th>review_aroma</th>\n",
       "      <th>review_palate</th>\n",
       "      <th>review_taste</th>\n",
       "      <th>beer_abv</th>\n",
       "    </tr>\n",
       "  </thead>\n",
       "  <tbody>\n",
       "    <tr>\n",
       "      <th>count</th>\n",
       "      <td>1048575.00</td>\n",
       "      <td>1048575.00</td>\n",
       "      <td>1048575.00</td>\n",
       "      <td>1048575.00</td>\n",
       "      <td>1048575.00</td>\n",
       "      <td>1005757.00</td>\n",
       "    </tr>\n",
       "    <tr>\n",
       "      <th>mean</th>\n",
       "      <td>3.83</td>\n",
       "      <td>3.86</td>\n",
       "      <td>3.76</td>\n",
       "      <td>3.76</td>\n",
       "      <td>3.81</td>\n",
       "      <td>7.07</td>\n",
       "    </tr>\n",
       "    <tr>\n",
       "      <th>std</th>\n",
       "      <td>0.71</td>\n",
       "      <td>0.60</td>\n",
       "      <td>0.68</td>\n",
       "      <td>0.67</td>\n",
       "      <td>0.71</td>\n",
       "      <td>2.32</td>\n",
       "    </tr>\n",
       "    <tr>\n",
       "      <th>min</th>\n",
       "      <td>0.00</td>\n",
       "      <td>0.00</td>\n",
       "      <td>1.00</td>\n",
       "      <td>1.00</td>\n",
       "      <td>1.00</td>\n",
       "      <td>0.01</td>\n",
       "    </tr>\n",
       "    <tr>\n",
       "      <th>25%</th>\n",
       "      <td>3.50</td>\n",
       "      <td>3.50</td>\n",
       "      <td>3.50</td>\n",
       "      <td>3.50</td>\n",
       "      <td>3.50</td>\n",
       "      <td>5.30</td>\n",
       "    </tr>\n",
       "    <tr>\n",
       "      <th>50%</th>\n",
       "      <td>4.00</td>\n",
       "      <td>4.00</td>\n",
       "      <td>4.00</td>\n",
       "      <td>4.00</td>\n",
       "      <td>4.00</td>\n",
       "      <td>6.50</td>\n",
       "    </tr>\n",
       "    <tr>\n",
       "      <th>75%</th>\n",
       "      <td>4.50</td>\n",
       "      <td>4.00</td>\n",
       "      <td>4.00</td>\n",
       "      <td>4.00</td>\n",
       "      <td>4.50</td>\n",
       "      <td>8.50</td>\n",
       "    </tr>\n",
       "    <tr>\n",
       "      <th>max</th>\n",
       "      <td>5.00</td>\n",
       "      <td>5.00</td>\n",
       "      <td>5.00</td>\n",
       "      <td>5.00</td>\n",
       "      <td>5.00</td>\n",
       "      <td>57.70</td>\n",
       "    </tr>\n",
       "  </tbody>\n",
       "</table>\n",
       "</div>"
      ],
      "text/plain": [
       "       review_overall  review_appearance  review_aroma  review_palate  \\\n",
       "count      1048575.00         1048575.00    1048575.00     1048575.00   \n",
       "mean             3.83               3.86          3.76           3.76   \n",
       "std              0.71               0.60          0.68           0.67   \n",
       "min              0.00               0.00          1.00           1.00   \n",
       "25%              3.50               3.50          3.50           3.50   \n",
       "50%              4.00               4.00          4.00           4.00   \n",
       "75%              4.50               4.00          4.00           4.00   \n",
       "max              5.00               5.00          5.00           5.00   \n",
       "\n",
       "       review_taste    beer_abv  \n",
       "count    1048575.00  1005757.00  \n",
       "mean           3.81        7.07  \n",
       "std            0.71        2.32  \n",
       "min            1.00        0.01  \n",
       "25%            3.50        5.30  \n",
       "50%            4.00        6.50  \n",
       "75%            4.50        8.50  \n",
       "max            5.00       57.70  "
      ]
     },
     "execution_count": 8,
     "metadata": {},
     "output_type": "execute_result"
    }
   ],
   "source": [
    "df.describe().round(decimals=2)"
   ]
  },
  {
   "cell_type": "code",
   "execution_count": 9,
   "metadata": {},
   "outputs": [
    {
     "name": "stdout",
     "output_type": "stream",
     "text": [
      "Unique values in review_overall: 10\n",
      "Unique values in review_appearance: 10\n",
      "Unique values in review_aroma: 9\n",
      "Unique values in review_palate: 9\n",
      "Unique values in review_taste: 9\n",
      "Unique values in beer_abv: 423\n",
      "Unique values in brewery_name: 3793\n",
      "Unique values in beer_name: 37770\n",
      "Unique values in review_profilename: 28761\n",
      "Unique values in beer_style: 104\n"
     ]
    }
   ],
   "source": [
    "for col in df.columns:\n",
    "    print(f'Unique values in {col}: {df[col].nunique()}')"
   ]
  },
  {
   "cell_type": "code",
   "execution_count": 10,
   "metadata": {},
   "outputs": [],
   "source": [
    "# Handle missing values\n",
    "df['beer_abv'].fillna(df['beer_abv'].median(), inplace=True)\n",
    "df['brewery_name'].fillna('unknown', inplace=True)\n",
    "df['review_profilename'].fillna('unknown', inplace=True)"
   ]
  },
  {
   "cell_type": "code",
   "execution_count": 11,
   "metadata": {},
   "outputs": [],
   "source": [
    "# Encode the beer_style column\n",
    "le = LabelEncoder()\n",
    "df['beer_style'] = le.fit_transform(df['beer_style'])"
   ]
  },
  {
   "cell_type": "code",
   "execution_count": 12,
   "metadata": {},
   "outputs": [],
   "source": [
    "# Select columns to be encoded\n",
    "cols_to_encode = ['brewery_name','beer_name', 'review_profilename']\n",
    "\n",
    "# Instantiate encoder\n",
    "encoder = ce.TargetEncoder(cols=cols_to_encode)"
   ]
  },
  {
   "cell_type": "code",
   "execution_count": 13,
   "metadata": {},
   "outputs": [],
   "source": [
    "# Fit and transform the columns\n",
    "df_encoded = encoder.fit_transform(df[cols_to_encode], df['beer_style'])\n",
    "\n",
    "# Replace original columns with encoded ones in the dataframe\n",
    "df.drop(cols_to_encode, axis=1, inplace=True)\n",
    "df = pd.concat([df, df_encoded], axis=1)"
   ]
  },
  {
   "cell_type": "code",
   "execution_count": 14,
   "metadata": {},
   "outputs": [],
   "source": [
    "# Assuming that df_X contains your features and df_y contains your target\n",
    "df_X = df.drop('beer_style', axis=1)\n",
    "df_y = df['beer_style']\n",
    "\n",
    "# Split the data into training and test sets\n",
    "X_train, X_test, y_train, y_test = train_test_split(df_X, df_y, test_size=0.2, random_state=42)"
   ]
  },
  {
   "cell_type": "code",
   "execution_count": 15,
   "metadata": {},
   "outputs": [
    {
     "name": "stdout",
     "output_type": "stream",
     "text": [
      "(838860, 9)\n",
      "(209715, 9)\n",
      "(838860,)\n",
      "(209715,)\n"
     ]
    }
   ],
   "source": [
    "print(X_train.shape)\n",
    "print(X_test.shape)\n",
    "print(y_train.shape)\n",
    "print(y_test.shape)"
   ]
  },
  {
   "cell_type": "code",
   "execution_count": 16,
   "metadata": {},
   "outputs": [],
   "source": [
    "import tensorflow as tf\n",
    "import numpy as np"
   ]
  },
  {
   "cell_type": "code",
   "execution_count": 17,
   "metadata": {},
   "outputs": [],
   "source": [
    "tf.random.set_seed(42)"
   ]
  },
  {
   "cell_type": "code",
   "execution_count": 19,
   "metadata": {},
   "outputs": [],
   "source": [
    "model = tf.keras.Sequential()"
   ]
  },
  {
   "cell_type": "code",
   "execution_count": 20,
   "metadata": {},
   "outputs": [],
   "source": [
    "from tensorflow.keras.layers import Dense, Flatten"
   ]
  },
  {
   "cell_type": "code",
   "execution_count": 21,
   "metadata": {},
   "outputs": [],
   "source": [
    "from tensorflow.keras.layers import Dense, Dropout"
   ]
  },
  {
   "cell_type": "code",
   "execution_count": 23,
   "metadata": {},
   "outputs": [],
   "source": [
    "# layer1 = Dense(128, activation='relu', input_shape=[20], kernel_regularizer=regularizer)\n",
    "layer1 = Dense(100, activation='relu')\n",
    "top_layer = Dense(104, activation='softmax')"
   ]
  },
  {
   "cell_type": "code",
   "execution_count": 24,
   "metadata": {},
   "outputs": [],
   "source": [
    "# model.add(flatten_layer)\n",
    "model.add(Dense(128, activation='relu', input_shape=(X_train.shape[1],)))\n",
    "model.add(layer1)\n",
    "# model.add(Dropout(0.3))\n",
    "model.add(top_layer)"
   ]
  },
  {
   "cell_type": "code",
   "execution_count": 25,
   "metadata": {},
   "outputs": [],
   "source": [
    "# optimizer = tf.keras.optimizers.RMSprop(0.001)\n",
    "optimizer = tf.keras.optimizers.Adam(0.001)"
   ]
  },
  {
   "cell_type": "code",
   "execution_count": 26,
   "metadata": {},
   "outputs": [],
   "source": [
    "model.compile(loss='sparse_categorical_crossentropy', optimizer=optimizer, metrics=['accuracy'])"
   ]
  },
  {
   "cell_type": "code",
   "execution_count": 27,
   "metadata": {},
   "outputs": [
    {
     "name": "stdout",
     "output_type": "stream",
     "text": [
      "Model: \"sequential_1\"\n",
      "_________________________________________________________________\n",
      "Layer (type)                 Output Shape              Param #   \n",
      "=================================================================\n",
      "dense_2 (Dense)              (None, 128)               1280      \n",
      "_________________________________________________________________\n",
      "dense (Dense)                (None, 100)               12900     \n",
      "_________________________________________________________________\n",
      "dense_1 (Dense)              (None, 104)               10504     \n",
      "=================================================================\n",
      "Total params: 24,684\n",
      "Trainable params: 24,684\n",
      "Non-trainable params: 0\n",
      "_________________________________________________________________\n"
     ]
    }
   ],
   "source": [
    "model.summary()"
   ]
  },
  {
   "cell_type": "code",
   "execution_count": 28,
   "metadata": {},
   "outputs": [
    {
     "name": "stderr",
     "output_type": "stream",
     "text": [
      "2023-07-03 14:07:00.483514: I tensorflow/compiler/mlir/mlir_graph_optimization_pass.cc:185] None of the MLIR Optimization Passes are enabled (registered 2)\n"
     ]
    },
    {
     "name": "stdout",
     "output_type": "stream",
     "text": [
      "Epoch 1/20\n",
      "2622/2622 [==============================] - 17s 6ms/step - loss: 2.0470 - accuracy: 0.4357 - val_loss: 1.7535 - val_accuracy: 0.5029\n",
      "Epoch 2/20\n",
      "2622/2622 [==============================] - 17s 7ms/step - loss: 1.6377 - accuracy: 0.5387 - val_loss: 1.5109 - val_accuracy: 0.5807\n",
      "Epoch 3/20\n",
      "2622/2622 [==============================] - 21s 8ms/step - loss: 1.4179 - accuracy: 0.6127 - val_loss: 1.3341 - val_accuracy: 0.6461\n",
      "Epoch 4/20\n",
      "2622/2622 [==============================] - 18s 7ms/step - loss: 1.2727 - accuracy: 0.6640 - val_loss: 1.2185 - val_accuracy: 0.6849\n",
      "Epoch 5/20\n",
      "2622/2622 [==============================] - 19s 7ms/step - loss: 1.1850 - accuracy: 0.6917 - val_loss: 1.1436 - val_accuracy: 0.7065\n",
      "Epoch 6/20\n",
      "2622/2622 [==============================] - 18s 7ms/step - loss: 1.1293 - accuracy: 0.7086 - val_loss: 1.0952 - val_accuracy: 0.7198\n",
      "Epoch 7/20\n",
      "2622/2622 [==============================] - 19s 7ms/step - loss: 1.0882 - accuracy: 0.7202 - val_loss: 1.0594 - val_accuracy: 0.7262\n",
      "Epoch 8/20\n",
      "2622/2622 [==============================] - 19s 7ms/step - loss: 1.0589 - accuracy: 0.7284 - val_loss: 1.0429 - val_accuracy: 0.7303\n",
      "Epoch 9/20\n",
      "2622/2622 [==============================] - 23s 9ms/step - loss: 1.0336 - accuracy: 0.7357 - val_loss: 1.0284 - val_accuracy: 0.7452\n",
      "Epoch 10/20\n",
      "2622/2622 [==============================] - 19s 7ms/step - loss: 1.0156 - accuracy: 0.7407 - val_loss: 1.0034 - val_accuracy: 0.7439\n",
      "Epoch 11/20\n",
      "2622/2622 [==============================] - 21s 8ms/step - loss: 0.9970 - accuracy: 0.7459 - val_loss: 0.9821 - val_accuracy: 0.7509\n",
      "Epoch 12/20\n",
      "2622/2622 [==============================] - 19s 7ms/step - loss: 0.9825 - accuracy: 0.7497 - val_loss: 0.9623 - val_accuracy: 0.7553\n",
      "Epoch 13/20\n",
      "2622/2622 [==============================] - 21s 8ms/step - loss: 0.9687 - accuracy: 0.7537 - val_loss: 0.9687 - val_accuracy: 0.7513\n",
      "Epoch 14/20\n",
      "2622/2622 [==============================] - 21s 8ms/step - loss: 0.9569 - accuracy: 0.7570 - val_loss: 0.9476 - val_accuracy: 0.7622\n",
      "Epoch 15/20\n",
      "2622/2622 [==============================] - 23s 9ms/step - loss: 0.9474 - accuracy: 0.7585 - val_loss: 0.9478 - val_accuracy: 0.7560\n",
      "Epoch 16/20\n",
      "2622/2622 [==============================] - 20s 8ms/step - loss: 0.9361 - accuracy: 0.7620 - val_loss: 0.9192 - val_accuracy: 0.7666\n",
      "Epoch 17/20\n",
      "2622/2622 [==============================] - 23s 9ms/step - loss: 0.9242 - accuracy: 0.7655 - val_loss: 0.9386 - val_accuracy: 0.7633\n",
      "Epoch 18/20\n",
      "2622/2622 [==============================] - 19s 7ms/step - loss: 0.9186 - accuracy: 0.7667 - val_loss: 0.9083 - val_accuracy: 0.7749\n",
      "Epoch 19/20\n",
      "2622/2622 [==============================] - 22s 8ms/step - loss: 0.9091 - accuracy: 0.7694 - val_loss: 0.9032 - val_accuracy: 0.7735\n",
      "Epoch 20/20\n",
      "2622/2622 [==============================] - 20s 8ms/step - loss: 0.9020 - accuracy: 0.7712 - val_loss: 0.8927 - val_accuracy: 0.7759\n"
     ]
    }
   ],
   "source": [
    "# Train the model\n",
    "history = model.fit(X_train, y_train, epochs=20, batch_size=256, validation_split=0.2, verbose=1)\n",
    "# history = model.fit(X_train, y_train, epochs=30, validation_split=0.2)"
   ]
  },
  {
   "cell_type": "code",
   "execution_count": 29,
   "metadata": {},
   "outputs": [
    {
     "name": "stdout",
     "output_type": "stream",
     "text": [
      "6554/6554 [==============================] - 11s 2ms/step - loss: 0.8942 - accuracy: 0.7751\n"
     ]
    },
    {
     "data": {
      "text/plain": [
       "[0.8942193388938904, 0.775104284286499]"
      ]
     },
     "execution_count": 29,
     "metadata": {},
     "output_type": "execute_result"
    }
   ],
   "source": [
    "# Evaluate the model\n",
    "model.evaluate(X_test, y_test)"
   ]
  },
  {
   "cell_type": "code",
   "execution_count": 31,
   "metadata": {},
   "outputs": [
    {
     "data": {
      "image/png": "[encoded data removed]",
      "text/plain": [
       "<Figure size 640x480 with 1 Axes>"
      ]
     },
     "metadata": {},
     "output_type": "display_data"
    }
   ],
   "source": [
    "import matplotlib.pyplot as plt\n",
    "plt.plot(history.history['accuracy'], label='MSE training')\n",
    "plt.plot(history.history['val_accuracy'], label='MSE validation')\n",
    "plt.ylabel('accuracy')\n",
    "plt.xlabel('Epoch')\n",
    "plt.show()"
   ]
  },
  {
   "cell_type": "code",
   "execution_count": 32,
   "metadata": {},
   "outputs": [
    {
     "data": {
      "text/plain": [
       "array([3.81468453e-05, 1.71692227e-05, 3.35835677e-04, 9.00301529e-07,\n",
       "       4.52939958e-06, 2.17948342e-04, 3.32762684e-05, 7.99308182e-04,\n",
       "       3.12121983e-07, 6.71634871e-06, 1.47510439e-08, 2.82479217e-04,\n",
       "       9.98058259e-01, 6.88442725e-08, 1.73663342e-04, 1.56385624e-08,\n",
       "       4.78009589e-34, 0.00000000e+00, 2.47013159e-05, 5.25324718e-14,\n",
       "       0.00000000e+00, 0.00000000e+00, 0.00000000e+00, 0.00000000e+00,\n",
       "       4.21942923e-06, 7.40106290e-29, 0.00000000e+00, 0.00000000e+00,\n",
       "       0.00000000e+00, 0.00000000e+00, 0.00000000e+00, 0.00000000e+00,\n",
       "       0.00000000e+00, 3.33997163e-09, 0.00000000e+00, 0.00000000e+00,\n",
       "       5.12346215e-35, 1.47192687e-29, 2.58934614e-17, 8.44589132e-23,\n",
       "       7.17067697e-36, 6.06595970e-33, 2.37796093e-15, 1.47037701e-06,\n",
       "       5.30283817e-10, 0.00000000e+00, 5.63222161e-19, 4.08853111e-08,\n",
       "       3.51400332e-11, 0.00000000e+00, 1.04518044e-11, 0.00000000e+00,\n",
       "       8.20727372e-37, 3.85781611e-08, 3.74923776e-33, 1.12638894e-07,\n",
       "       5.53800283e-37, 9.18187545e-34, 1.43252906e-38, 6.51952121e-07,\n",
       "       0.00000000e+00, 3.11047638e-21, 3.53003066e-34, 1.80925831e-29,\n",
       "       5.55039614e-37, 1.60335833e-09, 1.23862648e-29, 0.00000000e+00,\n",
       "       9.26806409e-10, 2.24785583e-37, 3.30430895e-36, 1.66286583e-31,\n",
       "       4.84446681e-37, 1.63066734e-14, 2.07850115e-27, 6.00582043e-25,\n",
       "       1.07604807e-27, 9.67998679e-28, 4.03120939e-25, 1.97075845e-09,\n",
       "       2.71390902e-19, 1.81827643e-11, 2.13151647e-08, 7.68172714e-20,\n",
       "       0.00000000e+00, 5.10602270e-26, 2.74250167e-31, 1.31573790e-21,\n",
       "       9.79360113e-29, 2.71354789e-33, 2.71845774e-19, 2.99051170e-32,\n",
       "       0.00000000e+00, 9.79550916e-21, 1.44071804e-36, 3.33428964e-08,\n",
       "       3.04776777e-28, 1.46849450e-29, 8.01047524e-25, 7.05556583e-31,\n",
       "       1.26192826e-38, 0.00000000e+00, 1.08435444e-36, 5.63439765e-17],\n",
       "      dtype=float32)"
      ]
     },
     "execution_count": 32,
     "metadata": {},
     "output_type": "execute_result"
    }
   ],
   "source": [
    "sparse_pred_test = model.predict(X_test)\n",
    "sparse_pred_test[0]"
   ]
  },
  {
   "cell_type": "code",
   "execution_count": 33,
   "metadata": {},
   "outputs": [
    {
     "data": {
      "text/plain": [
       "12"
      ]
     },
     "execution_count": 33,
     "metadata": {},
     "output_type": "execute_result"
    }
   ],
   "source": [
    "pred_test = np.argmax(sparse_pred_test, 1)\n",
    "pred_test[0]"
   ]
  },
  {
   "cell_type": "code",
   "execution_count": 34,
   "metadata": {},
   "outputs": [
    {
     "data": {
      "text/plain": [
       "65"
      ]
     },
     "execution_count": 34,
     "metadata": {},
     "output_type": "execute_result"
    }
   ],
   "source": [
    "y_test[0]"
   ]
  },
  {
   "cell_type": "code",
   "execution_count": 36,
   "metadata": {},
   "outputs": [
    {
     "name": "stdout",
     "output_type": "stream",
     "text": [
      "INFO:tensorflow:Assets written to: ../models/tf_multi_class/assets\n"
     ]
    }
   ],
   "source": [
    "model.save('../models/tf_multi_class')"
   ]
  },
  {
   "cell_type": "code",
   "execution_count": null,
   "metadata": {},
   "outputs": [],
   "source": []
  }
 ],
 "metadata": {
  "kernelspec": {
   "display_name": "Python 3 (ipykernel)",
   "language": "python",
   "name": "python3"
  },
  "language_info": {
   "codemirror_mode": {
    "name": "ipython",
    "version": 3
   },
   "file_extension": ".py",
   "mimetype": "text/x-python",
   "name": "python",
   "nbconvert_exporter": "python",
   "pygments_lexer": "ipython3",
   "version": "3.9.13"
  }
 },
 "nbformat": 4,
 "nbformat_minor": 4
}
