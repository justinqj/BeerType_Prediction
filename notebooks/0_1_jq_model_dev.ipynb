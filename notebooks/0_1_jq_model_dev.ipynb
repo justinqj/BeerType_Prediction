{
  "cells": [
    {
      "cell_type": "code",
      "source": [
        "from google.colab import drive\n",
        "drive.mount('/content/gdrive')"
      ],
      "metadata": {
        "colab": {
          "base_uri": "https://localhost:8080/"
        },
        "id": "jG4FJCIjPFIN",
        "outputId": "018a8d92-37e3-4569-c635-6407cdfbef43"
      },
      "execution_count": 1,
      "outputs": [
        {
          "output_type": "stream",
          "name": "stdout",
          "text": [
            "Mounted at /content/gdrive\n"
          ]
        }
      ]
    },
    {
      "cell_type": "code",
      "source": [
        "%cd /content/gdrive/MyDrive/36114_ADSI/AT2"
      ],
      "metadata": {
        "colab": {
          "base_uri": "https://localhost:8080/"
        },
        "id": "r1UqNlcXPGoM",
        "outputId": "968513f2-3f4c-47b2-96b1-e1787d189088"
      },
      "execution_count": 2,
      "outputs": [
        {
          "output_type": "stream",
          "name": "stdout",
          "text": [
            "/content/gdrive/MyDrive/36114_ADSI/AT2\n"
          ]
        }
      ]
    },
    {
      "cell_type": "code",
      "source": [
        "!pip install category_encoders"
      ],
      "metadata": {
        "id": "Z__vP97XVQ6J",
        "colab": {
          "base_uri": "https://localhost:8080/"
        },
        "outputId": "4c4fbcd6-b2b8-4443-901f-ec484cb9a204"
      },
      "execution_count": 3,
      "outputs": [
        {
          "output_type": "stream",
          "name": "stdout",
          "text": [
            "Collecting category_encoders\n",
            "  Downloading category_encoders-2.6.1-py2.py3-none-any.whl (81 kB)\n",
            "\u001b[?25l     \u001b[90m━━━━━━━━━━━━━━━━━━━━━━━━━━━━━━━━━━━━━━━━\u001b[0m \u001b[32m0.0/81.9 kB\u001b[0m \u001b[31m?\u001b[0m eta \u001b[36m-:--:--\u001b[0m\r\u001b[2K     \u001b[90m━━━━━━━━━━━━━━━━━━━━━━━━━━━━━━━━━━━━━━━━\u001b[0m \u001b[32m81.9/81.9 kB\u001b[0m \u001b[31m7.3 MB/s\u001b[0m eta \u001b[36m0:00:00\u001b[0m\n",
            "\u001b[?25hRequirement already satisfied: numpy>=1.14.0 in /usr/local/lib/python3.10/dist-packages (from category_encoders) (1.22.4)\n",
            "Requirement already satisfied: scikit-learn>=0.20.0 in /usr/local/lib/python3.10/dist-packages (from category_encoders) (1.2.2)\n",
            "Requirement already satisfied: scipy>=1.0.0 in /usr/local/lib/python3.10/dist-packages (from category_encoders) (1.10.1)\n",
            "Requirement already satisfied: statsmodels>=0.9.0 in /usr/local/lib/python3.10/dist-packages (from category_encoders) (0.13.5)\n",
            "Requirement already satisfied: pandas>=1.0.5 in /usr/local/lib/python3.10/dist-packages (from category_encoders) (1.5.3)\n",
            "Requirement already satisfied: patsy>=0.5.1 in /usr/local/lib/python3.10/dist-packages (from category_encoders) (0.5.3)\n",
            "Requirement already satisfied: python-dateutil>=2.8.1 in /usr/local/lib/python3.10/dist-packages (from pandas>=1.0.5->category_encoders) (2.8.2)\n",
            "Requirement already satisfied: pytz>=2020.1 in /usr/local/lib/python3.10/dist-packages (from pandas>=1.0.5->category_encoders) (2022.7.1)\n",
            "Requirement already satisfied: six in /usr/local/lib/python3.10/dist-packages (from patsy>=0.5.1->category_encoders) (1.16.0)\n",
            "Requirement already satisfied: joblib>=1.1.1 in /usr/local/lib/python3.10/dist-packages (from scikit-learn>=0.20.0->category_encoders) (1.3.1)\n",
            "Requirement already satisfied: threadpoolctl>=2.0.0 in /usr/local/lib/python3.10/dist-packages (from scikit-learn>=0.20.0->category_encoders) (3.1.0)\n",
            "Requirement already satisfied: packaging>=21.3 in /usr/local/lib/python3.10/dist-packages (from statsmodels>=0.9.0->category_encoders) (23.1)\n",
            "Installing collected packages: category_encoders\n",
            "Successfully installed category_encoders-2.6.1\n"
          ]
        }
      ]
    },
    {
      "cell_type": "code",
      "execution_count": 4,
      "metadata": {
        "id": "xxKQLD89PB9S"
      },
      "outputs": [],
      "source": [
        "import pandas as pd\n",
        "import numpy as np\n",
        "import category_encoders as ce\n",
        "import tensorflow as tf\n",
        "import matplotlib.pyplot as plt\n",
        "from joblib import dump\n",
        "from tensorflow.keras.models import Sequential\n",
        "from tensorflow.keras.layers import Dense, Dropout\n",
        "from sklearn.preprocessing import LabelEncoder\n",
        "from sklearn.model_selection import train_test_split"
      ]
    },
    {
      "cell_type": "code",
      "source": [
        "!pwd"
      ],
      "metadata": {
        "colab": {
          "base_uri": "https://localhost:8080/"
        },
        "id": "274gKoC2RcBL",
        "outputId": "39340597-bf1a-4f7e-d0c1-2b4bf836bbb1"
      },
      "execution_count": null,
      "outputs": [
        {
          "output_type": "stream",
          "name": "stdout",
          "text": [
            "/content/gdrive/MyDrive/36114_ADSI/AT2\n"
          ]
        }
      ]
    },
    {
      "cell_type": "code",
      "execution_count": 5,
      "metadata": {
        "id": "1f4LEKJWPB9V"
      },
      "outputs": [],
      "source": [
        "# Read in the csv\n",
        "df = pd.read_csv(\"/content/gdrive/MyDrive/36114_ADSI/AT2/beer_reviews.csv\")\n"
      ]
    },
    {
      "cell_type": "code",
      "source": [
        "# Select necessary columns\n",
        "df = df[['review_appearance', 'review_aroma', 'review_palate', 'review_taste', 'beer_abv', 'brewery_name', 'beer_style', 'beer_name']]\n",
        "df.head()"
      ],
      "metadata": {
        "id": "eB0StGyhSRZx",
        "colab": {
          "base_uri": "https://localhost:8080/",
          "height": 206
        },
        "outputId": "57a09b61-6764-4e42-bb8a-3eebe24c43e9"
      },
      "execution_count": 6,
      "outputs": [
        {
          "output_type": "execute_result",
          "data": {
            "text/plain": [
              "   review_appearance  review_aroma  review_palate  review_taste  beer_abv  \\\n",
              "0                2.5           2.0            1.5           1.5       5.0   \n",
              "1                3.0           2.5            3.0           3.0       6.2   \n",
              "2                3.0           2.5            3.0           3.0       6.5   \n",
              "3                3.5           3.0            2.5           3.0       5.0   \n",
              "4                4.0           4.5            4.0           4.5       7.7   \n",
              "\n",
              "              brewery_name                      beer_style  \\\n",
              "0          Vecchio Birraio                      Hefeweizen   \n",
              "1          Vecchio Birraio              English Strong Ale   \n",
              "2          Vecchio Birraio          Foreign / Export Stout   \n",
              "3          Vecchio Birraio                 German Pilsener   \n",
              "4  Caldera Brewing Company  American Double / Imperial IPA   \n",
              "\n",
              "                beer_name  \n",
              "0            Sausa Weizen  \n",
              "1                Red Moon  \n",
              "2  Black Horse Black Beer  \n",
              "3              Sausa Pils  \n",
              "4           Cauldron DIPA  "
            ],
            "text/html": [
              "\n",
              "\n",
              "  <div id=\"df-ba41f8e1-d152-415d-ac94-a43d0d1a4084\">\n",
              "    <div class=\"colab-df-container\">\n",
              "      <div>\n",
              "<style scoped>\n",
              "    .dataframe tbody tr th:only-of-type {\n",
              "        vertical-align: middle;\n",
              "    }\n",
              "\n",
              "    .dataframe tbody tr th {\n",
              "        vertical-align: top;\n",
              "    }\n",
              "\n",
              "    .dataframe thead th {\n",
              "        text-align: right;\n",
              "    }\n",
              "</style>\n",
              "<table border=\"1\" class=\"dataframe\">\n",
              "  <thead>\n",
              "    <tr style=\"text-align: right;\">\n",
              "      <th></th>\n",
              "      <th>review_appearance</th>\n",
              "      <th>review_aroma</th>\n",
              "      <th>review_palate</th>\n",
              "      <th>review_taste</th>\n",
              "      <th>beer_abv</th>\n",
              "      <th>brewery_name</th>\n",
              "      <th>beer_style</th>\n",
              "      <th>beer_name</th>\n",
              "    </tr>\n",
              "  </thead>\n",
              "  <tbody>\n",
              "    <tr>\n",
              "      <th>0</th>\n",
              "      <td>2.5</td>\n",
              "      <td>2.0</td>\n",
              "      <td>1.5</td>\n",
              "      <td>1.5</td>\n",
              "      <td>5.0</td>\n",
              "      <td>Vecchio Birraio</td>\n",
              "      <td>Hefeweizen</td>\n",
              "      <td>Sausa Weizen</td>\n",
              "    </tr>\n",
              "    <tr>\n",
              "      <th>1</th>\n",
              "      <td>3.0</td>\n",
              "      <td>2.5</td>\n",
              "      <td>3.0</td>\n",
              "      <td>3.0</td>\n",
              "      <td>6.2</td>\n",
              "      <td>Vecchio Birraio</td>\n",
              "      <td>English Strong Ale</td>\n",
              "      <td>Red Moon</td>\n",
              "    </tr>\n",
              "    <tr>\n",
              "      <th>2</th>\n",
              "      <td>3.0</td>\n",
              "      <td>2.5</td>\n",
              "      <td>3.0</td>\n",
              "      <td>3.0</td>\n",
              "      <td>6.5</td>\n",
              "      <td>Vecchio Birraio</td>\n",
              "      <td>Foreign / Export Stout</td>\n",
              "      <td>Black Horse Black Beer</td>\n",
              "    </tr>\n",
              "    <tr>\n",
              "      <th>3</th>\n",
              "      <td>3.5</td>\n",
              "      <td>3.0</td>\n",
              "      <td>2.5</td>\n",
              "      <td>3.0</td>\n",
              "      <td>5.0</td>\n",
              "      <td>Vecchio Birraio</td>\n",
              "      <td>German Pilsener</td>\n",
              "      <td>Sausa Pils</td>\n",
              "    </tr>\n",
              "    <tr>\n",
              "      <th>4</th>\n",
              "      <td>4.0</td>\n",
              "      <td>4.5</td>\n",
              "      <td>4.0</td>\n",
              "      <td>4.5</td>\n",
              "      <td>7.7</td>\n",
              "      <td>Caldera Brewing Company</td>\n",
              "      <td>American Double / Imperial IPA</td>\n",
              "      <td>Cauldron DIPA</td>\n",
              "    </tr>\n",
              "  </tbody>\n",
              "</table>\n",
              "</div>\n",
              "      <button class=\"colab-df-convert\" onclick=\"convertToInteractive('df-ba41f8e1-d152-415d-ac94-a43d0d1a4084')\"\n",
              "              title=\"Convert this dataframe to an interactive table.\"\n",
              "              style=\"display:none;\">\n",
              "\n",
              "  <svg xmlns=\"http://www.w3.org/2000/svg\" height=\"24px\"viewBox=\"0 0 24 24\"\n",
              "       width=\"24px\">\n",
              "    <path d=\"M0 0h24v24H0V0z\" fill=\"none\"/>\n",
              "    <path d=\"M18.56 5.44l.94 2.06.94-2.06 2.06-.94-2.06-.94-.94-2.06-.94 2.06-2.06.94zm-11 1L8.5 8.5l.94-2.06 2.06-.94-2.06-.94L8.5 2.5l-.94 2.06-2.06.94zm10 10l.94 2.06.94-2.06 2.06-.94-2.06-.94-.94-2.06-.94 2.06-2.06.94z\"/><path d=\"M17.41 7.96l-1.37-1.37c-.4-.4-.92-.59-1.43-.59-.52 0-1.04.2-1.43.59L10.3 9.45l-7.72 7.72c-.78.78-.78 2.05 0 2.83L4 21.41c.39.39.9.59 1.41.59.51 0 1.02-.2 1.41-.59l7.78-7.78 2.81-2.81c.8-.78.8-2.07 0-2.86zM5.41 20L4 18.59l7.72-7.72 1.47 1.35L5.41 20z\"/>\n",
              "  </svg>\n",
              "      </button>\n",
              "\n",
              "\n",
              "\n",
              "    <div id=\"df-84bfccb8-e10d-40c1-a809-7c708d3359ca\">\n",
              "      <button class=\"colab-df-quickchart\" onclick=\"quickchart('df-84bfccb8-e10d-40c1-a809-7c708d3359ca')\"\n",
              "              title=\"Suggest charts.\"\n",
              "              style=\"display:none;\">\n",
              "\n",
              "<svg xmlns=\"http://www.w3.org/2000/svg\" height=\"24px\"viewBox=\"0 0 24 24\"\n",
              "     width=\"24px\">\n",
              "    <g>\n",
              "        <path d=\"M19 3H5c-1.1 0-2 .9-2 2v14c0 1.1.9 2 2 2h14c1.1 0 2-.9 2-2V5c0-1.1-.9-2-2-2zM9 17H7v-7h2v7zm4 0h-2V7h2v10zm4 0h-2v-4h2v4z\"/>\n",
              "    </g>\n",
              "</svg>\n",
              "      </button>\n",
              "    </div>\n",
              "\n",
              "<style>\n",
              "  .colab-df-quickchart {\n",
              "    background-color: #E8F0FE;\n",
              "    border: none;\n",
              "    border-radius: 50%;\n",
              "    cursor: pointer;\n",
              "    display: none;\n",
              "    fill: #1967D2;\n",
              "    height: 32px;\n",
              "    padding: 0 0 0 0;\n",
              "    width: 32px;\n",
              "  }\n",
              "\n",
              "  .colab-df-quickchart:hover {\n",
              "    background-color: #E2EBFA;\n",
              "    box-shadow: 0px 1px 2px rgba(60, 64, 67, 0.3), 0px 1px 3px 1px rgba(60, 64, 67, 0.15);\n",
              "    fill: #174EA6;\n",
              "  }\n",
              "\n",
              "  [theme=dark] .colab-df-quickchart {\n",
              "    background-color: #3B4455;\n",
              "    fill: #D2E3FC;\n",
              "  }\n",
              "\n",
              "  [theme=dark] .colab-df-quickchart:hover {\n",
              "    background-color: #434B5C;\n",
              "    box-shadow: 0px 1px 3px 1px rgba(0, 0, 0, 0.15);\n",
              "    filter: drop-shadow(0px 1px 2px rgba(0, 0, 0, 0.3));\n",
              "    fill: #FFFFFF;\n",
              "  }\n",
              "</style>\n",
              "\n",
              "    <script>\n",
              "      async function quickchart(key) {\n",
              "        const containerElement = document.querySelector('#' + key);\n",
              "        const charts = await google.colab.kernel.invokeFunction(\n",
              "            'suggestCharts', [key], {});\n",
              "      }\n",
              "    </script>\n",
              "\n",
              "      <script>\n",
              "\n",
              "function displayQuickchartButton(domScope) {\n",
              "  let quickchartButtonEl =\n",
              "    domScope.querySelector('#df-84bfccb8-e10d-40c1-a809-7c708d3359ca button.colab-df-quickchart');\n",
              "  quickchartButtonEl.style.display =\n",
              "    google.colab.kernel.accessAllowed ? 'block' : 'none';\n",
              "}\n",
              "\n",
              "        displayQuickchartButton(document);\n",
              "      </script>\n",
              "      <style>\n",
              "    .colab-df-container {\n",
              "      display:flex;\n",
              "      flex-wrap:wrap;\n",
              "      gap: 12px;\n",
              "    }\n",
              "\n",
              "    .colab-df-convert {\n",
              "      background-color: #E8F0FE;\n",
              "      border: none;\n",
              "      border-radius: 50%;\n",
              "      cursor: pointer;\n",
              "      display: none;\n",
              "      fill: #1967D2;\n",
              "      height: 32px;\n",
              "      padding: 0 0 0 0;\n",
              "      width: 32px;\n",
              "    }\n",
              "\n",
              "    .colab-df-convert:hover {\n",
              "      background-color: #E2EBFA;\n",
              "      box-shadow: 0px 1px 2px rgba(60, 64, 67, 0.3), 0px 1px 3px 1px rgba(60, 64, 67, 0.15);\n",
              "      fill: #174EA6;\n",
              "    }\n",
              "\n",
              "    [theme=dark] .colab-df-convert {\n",
              "      background-color: #3B4455;\n",
              "      fill: #D2E3FC;\n",
              "    }\n",
              "\n",
              "    [theme=dark] .colab-df-convert:hover {\n",
              "      background-color: #434B5C;\n",
              "      box-shadow: 0px 1px 3px 1px rgba(0, 0, 0, 0.15);\n",
              "      filter: drop-shadow(0px 1px 2px rgba(0, 0, 0, 0.3));\n",
              "      fill: #FFFFFF;\n",
              "    }\n",
              "  </style>\n",
              "\n",
              "      <script>\n",
              "        const buttonEl =\n",
              "          document.querySelector('#df-ba41f8e1-d152-415d-ac94-a43d0d1a4084 button.colab-df-convert');\n",
              "        buttonEl.style.display =\n",
              "          google.colab.kernel.accessAllowed ? 'block' : 'none';\n",
              "\n",
              "        async function convertToInteractive(key) {\n",
              "          const element = document.querySelector('#df-ba41f8e1-d152-415d-ac94-a43d0d1a4084');\n",
              "          const dataTable =\n",
              "            await google.colab.kernel.invokeFunction('convertToInteractive',\n",
              "                                                     [key], {});\n",
              "          if (!dataTable) return;\n",
              "\n",
              "          const docLinkHtml = 'Like what you see? Visit the ' +\n",
              "            '<a target=\"_blank\" href=https://colab.research.google.com/notebooks/data_table.ipynb>data table notebook</a>'\n",
              "            + ' to learn more about interactive tables.';\n",
              "          element.innerHTML = '';\n",
              "          dataTable['output_type'] = 'display_data';\n",
              "          await google.colab.output.renderOutput(dataTable, element);\n",
              "          const docLink = document.createElement('div');\n",
              "          docLink.innerHTML = docLinkHtml;\n",
              "          element.appendChild(docLink);\n",
              "        }\n",
              "      </script>\n",
              "    </div>\n",
              "  </div>\n"
            ]
          },
          "metadata": {},
          "execution_count": 6
        }
      ]
    },
    {
      "cell_type": "code",
      "source": [
        "# Handle missing values\n",
        "df['beer_abv'].fillna(df['beer_abv'].median(), inplace=True)\n",
        "df['brewery_name'].fillna('unknown', inplace=True)"
      ],
      "metadata": {
        "id": "u6HAJl6voC1E"
      },
      "execution_count": 7,
      "outputs": []
    },
    {
      "cell_type": "code",
      "source": [
        "# Encode the beer_style column\n",
        "le = LabelEncoder()\n",
        "df['beer_style'] = le.fit_transform(df['beer_style'])"
      ],
      "metadata": {
        "id": "1JYqh338oQyQ"
      },
      "execution_count": 8,
      "outputs": []
    },
    {
      "cell_type": "code",
      "source": [
        "# Select columns to be encoded\n",
        "cols_to_encode = ['brewery_name','beer_name']\n",
        "\n",
        "# Instantiate encoder\n",
        "encoder = ce.TargetEncoder(cols=cols_to_encode)"
      ],
      "metadata": {
        "id": "ddjcPTG0oWpP"
      },
      "execution_count": 9,
      "outputs": []
    },
    {
      "cell_type": "code",
      "source": [
        "# Fit and transform the columns\n",
        "df_encoded = encoder.fit_transform(df[cols_to_encode], df['beer_style'])\n",
        "\n",
        "# Replace original columns with encoded ones in the dataframe\n",
        "df.drop(cols_to_encode, axis=1, inplace=True)\n",
        "df = pd.concat([df, df_encoded], axis=1)"
      ],
      "metadata": {
        "id": "JAc-HhrwUQ9E"
      },
      "execution_count": 10,
      "outputs": []
    },
    {
      "cell_type": "code",
      "source": [
        "# Assuming that df_X contains your features and df_y contains your target\n",
        "df_X = df.drop('beer_style', axis=1)\n",
        "df_y = df['beer_style']\n",
        "\n",
        "# Split the data into training and test sets\n",
        "X_train, X_test, y_train, y_test = train_test_split(df_X, df_y, test_size=0.2, random_state=42)"
      ],
      "metadata": {
        "id": "M46j711yqqYY"
      },
      "execution_count": 11,
      "outputs": []
    },
    {
      "cell_type": "code",
      "source": [
        "from tensorflow.keras.models import Sequential\n",
        "from tensorflow.keras.layers import Dense, Flatten"
      ],
      "metadata": {
        "id": "LxjP6nkkDOjM"
      },
      "execution_count": 12,
      "outputs": []
    },
    {
      "cell_type": "code",
      "source": [
        "# Initialize the constructor\n",
        "model = Sequential()\n",
        "\n",
        "# Input Layer\n",
        "model.add(Dense(128, activation='relu', input_shape=(X_train.shape[1],)))\n",
        "\n",
        "# Hidden Layers\n",
        "model.add(Dense(100, activation='relu'))\n",
        "model.add(Dropout(0.3)) # Dropout layer after each Dense layer\n",
        "model.add(Dense(64, activation='relu'))\n",
        "model.add(Dropout(0.3))\n",
        "\n",
        "# Output Layer\n",
        "model.add(Dense(104, activation='softmax'))\n",
        "\n",
        "# Compile the model\n",
        "model.compile(loss='sparse_categorical_crossentropy',\n",
        "              optimizer='adam',\n",
        "              metrics=['accuracy'])"
      ],
      "metadata": {
        "id": "vOd2DXXNrdnU"
      },
      "execution_count": 14,
      "outputs": []
    },
    {
      "cell_type": "code",
      "source": [
        "# model.compile(loss='sparse_categorical_crossentropy',\n",
        "#               optimizer='SGD',\n",
        "#               metrics=['accuracy'])\n"
      ],
      "metadata": {
        "id": "jCwhQMOcZeUH"
      },
      "execution_count": 38,
      "outputs": []
    },
    {
      "cell_type": "code",
      "source": [
        "# Train the model\n",
        "history = model.fit(X_train, y_train, epochs=100, batch_size=256, validation_split=0.2, verbose=1)"
      ],
      "metadata": {
        "colab": {
          "base_uri": "https://localhost:8080/"
        },
        "id": "57Ns9VdtUx-j",
        "outputId": "3226e248-b361-4398-f639-2890ab976410"
      },
      "execution_count": 15,
      "outputs": [
        {
          "output_type": "stream",
          "name": "stdout",
          "text": [
            "Epoch 1/100\n",
            "3967/3967 [==============================] - 19s 3ms/step - loss: 2.3266 - accuracy: 0.3685 - val_loss: 1.6683 - val_accuracy: 0.5243\n",
            "Epoch 2/100\n",
            "3967/3967 [==============================] - 13s 3ms/step - loss: 1.7882 - accuracy: 0.4960 - val_loss: 1.4694 - val_accuracy: 0.5949\n",
            "Epoch 3/100\n",
            "3967/3967 [==============================] - 13s 3ms/step - loss: 1.6766 - accuracy: 0.5294 - val_loss: 1.3907 - val_accuracy: 0.6311\n",
            "Epoch 4/100\n",
            "3967/3967 [==============================] - 13s 3ms/step - loss: 1.6172 - accuracy: 0.5490 - val_loss: 1.3803 - val_accuracy: 0.6159\n",
            "Epoch 5/100\n",
            "3967/3967 [==============================] - 13s 3ms/step - loss: 1.5776 - accuracy: 0.5624 - val_loss: 1.2927 - val_accuracy: 0.6560\n",
            "Epoch 6/100\n",
            "3967/3967 [==============================] - 13s 3ms/step - loss: 1.5474 - accuracy: 0.5729 - val_loss: 1.3511 - val_accuracy: 0.6343\n",
            "Epoch 7/100\n",
            "3967/3967 [==============================] - 13s 3ms/step - loss: 1.5242 - accuracy: 0.5819 - val_loss: 1.3743 - val_accuracy: 0.6104\n",
            "Epoch 8/100\n",
            "3967/3967 [==============================] - 13s 3ms/step - loss: 1.5060 - accuracy: 0.5868 - val_loss: 1.2487 - val_accuracy: 0.6689\n",
            "Epoch 9/100\n",
            "3967/3967 [==============================] - 13s 3ms/step - loss: 1.4900 - accuracy: 0.5934 - val_loss: 1.2371 - val_accuracy: 0.6755\n",
            "Epoch 10/100\n",
            "3967/3967 [==============================] - 13s 3ms/step - loss: 1.4768 - accuracy: 0.5975 - val_loss: 1.3009 - val_accuracy: 0.6347\n",
            "Epoch 11/100\n",
            "3967/3967 [==============================] - 13s 3ms/step - loss: 1.4660 - accuracy: 0.6019 - val_loss: 1.2849 - val_accuracy: 0.6496\n",
            "Epoch 12/100\n",
            "3967/3967 [==============================] - 13s 3ms/step - loss: 1.4555 - accuracy: 0.6048 - val_loss: 1.2182 - val_accuracy: 0.6782\n",
            "Epoch 13/100\n",
            "3967/3967 [==============================] - 13s 3ms/step - loss: 1.4493 - accuracy: 0.6073 - val_loss: 1.1914 - val_accuracy: 0.6816\n",
            "Epoch 14/100\n",
            "3967/3967 [==============================] - 13s 3ms/step - loss: 1.4419 - accuracy: 0.6100 - val_loss: 1.1777 - val_accuracy: 0.6894\n",
            "Epoch 15/100\n",
            "3967/3967 [==============================] - 13s 3ms/step - loss: 1.4332 - accuracy: 0.6129 - val_loss: 1.2473 - val_accuracy: 0.6607\n",
            "Epoch 16/100\n",
            "3967/3967 [==============================] - 13s 3ms/step - loss: 1.4304 - accuracy: 0.6140 - val_loss: 1.1824 - val_accuracy: 0.6852\n",
            "Epoch 17/100\n",
            "3967/3967 [==============================] - 13s 3ms/step - loss: 1.4272 - accuracy: 0.6147 - val_loss: 1.1761 - val_accuracy: 0.6854\n",
            "Epoch 18/100\n",
            "3967/3967 [==============================] - 13s 3ms/step - loss: 1.4236 - accuracy: 0.6164 - val_loss: 1.1630 - val_accuracy: 0.6953\n",
            "Epoch 19/100\n",
            "3967/3967 [==============================] - 13s 3ms/step - loss: 1.4231 - accuracy: 0.6167 - val_loss: 1.1769 - val_accuracy: 0.6844\n",
            "Epoch 20/100\n",
            "3967/3967 [==============================] - 13s 3ms/step - loss: 1.4134 - accuracy: 0.6202 - val_loss: 1.2530 - val_accuracy: 0.6535\n",
            "Epoch 21/100\n",
            "3967/3967 [==============================] - 13s 3ms/step - loss: 1.4073 - accuracy: 0.6221 - val_loss: 1.1834 - val_accuracy: 0.6857\n",
            "Epoch 22/100\n",
            "3967/3967 [==============================] - 13s 3ms/step - loss: 1.4046 - accuracy: 0.6231 - val_loss: 1.1566 - val_accuracy: 0.6960\n",
            "Epoch 23/100\n",
            "3967/3967 [==============================] - 13s 3ms/step - loss: 1.4008 - accuracy: 0.6247 - val_loss: 1.1626 - val_accuracy: 0.6920\n",
            "Epoch 24/100\n",
            "3967/3967 [==============================] - 13s 3ms/step - loss: 1.3999 - accuracy: 0.6251 - val_loss: 1.1696 - val_accuracy: 0.6891\n",
            "Epoch 25/100\n",
            "3967/3967 [==============================] - 13s 3ms/step - loss: 1.3980 - accuracy: 0.6266 - val_loss: 1.1552 - val_accuracy: 0.6930\n",
            "Epoch 26/100\n",
            "3967/3967 [==============================] - 13s 3ms/step - loss: 1.3969 - accuracy: 0.6264 - val_loss: 1.1598 - val_accuracy: 0.6975\n",
            "Epoch 27/100\n",
            "3967/3967 [==============================] - 13s 3ms/step - loss: 1.3898 - accuracy: 0.6292 - val_loss: 1.1723 - val_accuracy: 0.6932\n",
            "Epoch 28/100\n",
            "3967/3967 [==============================] - 13s 3ms/step - loss: 1.3877 - accuracy: 0.6297 - val_loss: 1.2329 - val_accuracy: 0.6604\n",
            "Epoch 29/100\n",
            "3967/3967 [==============================] - 13s 3ms/step - loss: 1.3847 - accuracy: 0.6308 - val_loss: 1.1572 - val_accuracy: 0.6963\n",
            "Epoch 30/100\n",
            "3967/3967 [==============================] - 13s 3ms/step - loss: 1.3821 - accuracy: 0.6311 - val_loss: 1.1587 - val_accuracy: 0.6946\n",
            "Epoch 31/100\n",
            "3967/3967 [==============================] - 13s 3ms/step - loss: 1.3814 - accuracy: 0.6315 - val_loss: 1.2446 - val_accuracy: 0.6479\n",
            "Epoch 32/100\n",
            "3967/3967 [==============================] - 13s 3ms/step - loss: 1.3827 - accuracy: 0.6317 - val_loss: 1.1475 - val_accuracy: 0.7020\n",
            "Epoch 33/100\n",
            "3967/3967 [==============================] - 13s 3ms/step - loss: 1.3775 - accuracy: 0.6332 - val_loss: 1.2054 - val_accuracy: 0.6693\n",
            "Epoch 34/100\n",
            "3967/3967 [==============================] - 13s 3ms/step - loss: 1.3718 - accuracy: 0.6347 - val_loss: 1.1446 - val_accuracy: 0.7008\n",
            "Epoch 35/100\n",
            "3967/3967 [==============================] - 13s 3ms/step - loss: 1.3748 - accuracy: 0.6340 - val_loss: 1.1508 - val_accuracy: 0.6922\n",
            "Epoch 36/100\n",
            "3967/3967 [==============================] - 13s 3ms/step - loss: 1.3735 - accuracy: 0.6341 - val_loss: 1.1468 - val_accuracy: 0.6954\n",
            "Epoch 37/100\n",
            "3967/3967 [==============================] - 13s 3ms/step - loss: 1.3705 - accuracy: 0.6348 - val_loss: 1.1473 - val_accuracy: 0.6932\n",
            "Epoch 38/100\n",
            "3967/3967 [==============================] - 13s 3ms/step - loss: 1.3692 - accuracy: 0.6359 - val_loss: 1.1631 - val_accuracy: 0.6936\n",
            "Epoch 39/100\n",
            "3967/3967 [==============================] - 13s 3ms/step - loss: 1.3664 - accuracy: 0.6364 - val_loss: 1.1423 - val_accuracy: 0.7035\n",
            "Epoch 40/100\n",
            "3967/3967 [==============================] - 13s 3ms/step - loss: 1.3646 - accuracy: 0.6370 - val_loss: 1.1626 - val_accuracy: 0.6904\n",
            "Epoch 41/100\n",
            "3967/3967 [==============================] - 13s 3ms/step - loss: 1.3627 - accuracy: 0.6376 - val_loss: 1.1972 - val_accuracy: 0.6768\n",
            "Epoch 42/100\n",
            "3967/3967 [==============================] - 13s 3ms/step - loss: 1.3599 - accuracy: 0.6390 - val_loss: 1.1598 - val_accuracy: 0.6926\n",
            "Epoch 43/100\n",
            "3967/3967 [==============================] - 13s 3ms/step - loss: 1.3558 - accuracy: 0.6406 - val_loss: 1.1853 - val_accuracy: 0.6785\n",
            "Epoch 44/100\n",
            "3967/3967 [==============================] - 13s 3ms/step - loss: 1.3551 - accuracy: 0.6411 - val_loss: 1.1263 - val_accuracy: 0.7042\n",
            "Epoch 45/100\n",
            "3967/3967 [==============================] - 13s 3ms/step - loss: 1.3518 - accuracy: 0.6416 - val_loss: 1.2222 - val_accuracy: 0.6673\n",
            "Epoch 46/100\n",
            "3967/3967 [==============================] - 13s 3ms/step - loss: 1.3508 - accuracy: 0.6417 - val_loss: 1.1566 - val_accuracy: 0.6933\n",
            "Epoch 47/100\n",
            "3967/3967 [==============================] - 13s 3ms/step - loss: 1.3475 - accuracy: 0.6434 - val_loss: 1.1607 - val_accuracy: 0.6898\n",
            "Epoch 48/100\n",
            "3967/3967 [==============================] - 13s 3ms/step - loss: 1.3500 - accuracy: 0.6422 - val_loss: 1.1429 - val_accuracy: 0.6986\n",
            "Epoch 49/100\n",
            "3967/3967 [==============================] - 13s 3ms/step - loss: 1.3444 - accuracy: 0.6441 - val_loss: 1.2392 - val_accuracy: 0.6595\n",
            "Epoch 50/100\n",
            "3967/3967 [==============================] - 13s 3ms/step - loss: 1.3446 - accuracy: 0.6442 - val_loss: 1.1690 - val_accuracy: 0.6883\n",
            "Epoch 51/100\n",
            "3967/3967 [==============================] - 13s 3ms/step - loss: 1.3384 - accuracy: 0.6464 - val_loss: 1.1385 - val_accuracy: 0.6946\n",
            "Epoch 52/100\n",
            "3967/3967 [==============================] - 13s 3ms/step - loss: 1.3377 - accuracy: 0.6464 - val_loss: 1.1445 - val_accuracy: 0.7007\n",
            "Epoch 53/100\n",
            "3967/3967 [==============================] - 13s 3ms/step - loss: 1.3370 - accuracy: 0.6468 - val_loss: 1.1661 - val_accuracy: 0.6811\n",
            "Epoch 54/100\n",
            "3967/3967 [==============================] - 13s 3ms/step - loss: 1.3359 - accuracy: 0.6475 - val_loss: 1.1360 - val_accuracy: 0.6981\n",
            "Epoch 55/100\n",
            "3967/3967 [==============================] - 13s 3ms/step - loss: 1.3346 - accuracy: 0.6474 - val_loss: 1.1646 - val_accuracy: 0.6819\n",
            "Epoch 56/100\n",
            "3967/3967 [==============================] - 13s 3ms/step - loss: 1.3316 - accuracy: 0.6491 - val_loss: 1.1431 - val_accuracy: 0.6984\n",
            "Epoch 57/100\n",
            "3967/3967 [==============================] - 13s 3ms/step - loss: 1.3297 - accuracy: 0.6498 - val_loss: 1.1401 - val_accuracy: 0.6937\n",
            "Epoch 58/100\n",
            "3967/3967 [==============================] - 13s 3ms/step - loss: 1.3263 - accuracy: 0.6504 - val_loss: 1.1792 - val_accuracy: 0.6857\n",
            "Epoch 59/100\n",
            "3967/3967 [==============================] - 13s 3ms/step - loss: 1.3277 - accuracy: 0.6507 - val_loss: 1.1686 - val_accuracy: 0.6934\n",
            "Epoch 60/100\n",
            "3967/3967 [==============================] - 13s 3ms/step - loss: 1.3267 - accuracy: 0.6498 - val_loss: 1.1504 - val_accuracy: 0.6913\n",
            "Epoch 61/100\n",
            "3967/3967 [==============================] - 13s 3ms/step - loss: 1.3242 - accuracy: 0.6516 - val_loss: 1.1541 - val_accuracy: 0.6914\n",
            "Epoch 62/100\n",
            "3967/3967 [==============================] - 13s 3ms/step - loss: 1.3219 - accuracy: 0.6524 - val_loss: 1.1779 - val_accuracy: 0.6796\n",
            "Epoch 63/100\n",
            "3967/3967 [==============================] - 13s 3ms/step - loss: 1.3174 - accuracy: 0.6538 - val_loss: 1.2306 - val_accuracy: 0.6650\n",
            "Epoch 64/100\n",
            "3967/3967 [==============================] - 13s 3ms/step - loss: 1.3214 - accuracy: 0.6521 - val_loss: 1.1671 - val_accuracy: 0.6860\n",
            "Epoch 65/100\n",
            "3967/3967 [==============================] - 13s 3ms/step - loss: 1.3196 - accuracy: 0.6530 - val_loss: 1.1382 - val_accuracy: 0.7039\n",
            "Epoch 66/100\n",
            "3967/3967 [==============================] - 13s 3ms/step - loss: 1.3165 - accuracy: 0.6542 - val_loss: 1.1698 - val_accuracy: 0.6938\n",
            "Epoch 67/100\n",
            "3967/3967 [==============================] - 13s 3ms/step - loss: 1.3134 - accuracy: 0.6551 - val_loss: 1.1643 - val_accuracy: 0.6870\n",
            "Epoch 68/100\n",
            "3967/3967 [==============================] - 13s 3ms/step - loss: 1.3122 - accuracy: 0.6556 - val_loss: 1.1498 - val_accuracy: 0.6927\n",
            "Epoch 69/100\n",
            "3967/3967 [==============================] - 13s 3ms/step - loss: 1.3108 - accuracy: 0.6557 - val_loss: 1.2071 - val_accuracy: 0.6760\n",
            "Epoch 70/100\n",
            "3967/3967 [==============================] - 13s 3ms/step - loss: 1.3113 - accuracy: 0.6555 - val_loss: 1.1524 - val_accuracy: 0.6947\n",
            "Epoch 71/100\n",
            "3967/3967 [==============================] - 13s 3ms/step - loss: 1.3110 - accuracy: 0.6556 - val_loss: 1.1491 - val_accuracy: 0.6933\n",
            "Epoch 72/100\n",
            "3967/3967 [==============================] - 13s 3ms/step - loss: 1.3119 - accuracy: 0.6554 - val_loss: 1.1489 - val_accuracy: 0.7011\n",
            "Epoch 73/100\n",
            "3967/3967 [==============================] - 13s 3ms/step - loss: 1.3096 - accuracy: 0.6567 - val_loss: 1.1681 - val_accuracy: 0.6863\n",
            "Epoch 74/100\n",
            "3967/3967 [==============================] - 13s 3ms/step - loss: 1.3061 - accuracy: 0.6575 - val_loss: 1.1853 - val_accuracy: 0.6804\n",
            "Epoch 75/100\n",
            "3967/3967 [==============================] - 13s 3ms/step - loss: 1.3055 - accuracy: 0.6578 - val_loss: 1.1350 - val_accuracy: 0.7021\n",
            "Epoch 76/100\n",
            "3967/3967 [==============================] - 13s 3ms/step - loss: 1.3053 - accuracy: 0.6574 - val_loss: 1.1292 - val_accuracy: 0.7019\n",
            "Epoch 77/100\n",
            "3967/3967 [==============================] - 13s 3ms/step - loss: 1.3045 - accuracy: 0.6579 - val_loss: 1.1539 - val_accuracy: 0.6734\n",
            "Epoch 78/100\n",
            "3967/3967 [==============================] - 13s 3ms/step - loss: 1.3056 - accuracy: 0.6571 - val_loss: 1.1592 - val_accuracy: 0.6921\n",
            "Epoch 79/100\n",
            "3967/3967 [==============================] - 13s 3ms/step - loss: 1.3041 - accuracy: 0.6583 - val_loss: 1.1592 - val_accuracy: 0.6916\n",
            "Epoch 80/100\n",
            "3967/3967 [==============================] - 13s 3ms/step - loss: 1.3035 - accuracy: 0.6580 - val_loss: 1.1618 - val_accuracy: 0.6937\n",
            "Epoch 81/100\n",
            "3967/3967 [==============================] - 13s 3ms/step - loss: 1.3016 - accuracy: 0.6592 - val_loss: 1.1788 - val_accuracy: 0.6899\n",
            "Epoch 82/100\n",
            "3967/3967 [==============================] - 13s 3ms/step - loss: 1.3025 - accuracy: 0.6589 - val_loss: 1.2043 - val_accuracy: 0.6741\n",
            "Epoch 83/100\n",
            "3967/3967 [==============================] - 13s 3ms/step - loss: 1.3031 - accuracy: 0.6582 - val_loss: 1.1738 - val_accuracy: 0.6862\n",
            "Epoch 84/100\n",
            "3967/3967 [==============================] - 13s 3ms/step - loss: 1.3043 - accuracy: 0.6586 - val_loss: 1.1700 - val_accuracy: 0.6924\n",
            "Epoch 85/100\n",
            "3967/3967 [==============================] - 13s 3ms/step - loss: 1.3024 - accuracy: 0.6590 - val_loss: 1.1558 - val_accuracy: 0.7000\n",
            "Epoch 86/100\n",
            "3967/3967 [==============================] - 13s 3ms/step - loss: 1.2990 - accuracy: 0.6605 - val_loss: 1.1508 - val_accuracy: 0.6927\n",
            "Epoch 87/100\n",
            "3967/3967 [==============================] - 13s 3ms/step - loss: 1.2956 - accuracy: 0.6617 - val_loss: 1.1649 - val_accuracy: 0.6899\n",
            "Epoch 88/100\n",
            "3967/3967 [==============================] - 13s 3ms/step - loss: 1.2959 - accuracy: 0.6614 - val_loss: 1.1978 - val_accuracy: 0.6522\n",
            "Epoch 89/100\n",
            "3967/3967 [==============================] - 13s 3ms/step - loss: 1.2960 - accuracy: 0.6616 - val_loss: 1.1571 - val_accuracy: 0.6929\n",
            "Epoch 90/100\n",
            "3967/3967 [==============================] - 13s 3ms/step - loss: 1.2904 - accuracy: 0.6635 - val_loss: 1.1757 - val_accuracy: 0.6684\n",
            "Epoch 91/100\n",
            "3967/3967 [==============================] - 13s 3ms/step - loss: 1.2920 - accuracy: 0.6624 - val_loss: 1.1492 - val_accuracy: 0.6832\n",
            "Epoch 92/100\n",
            "3967/3967 [==============================] - 13s 3ms/step - loss: 1.2918 - accuracy: 0.6622 - val_loss: 1.1783 - val_accuracy: 0.6781\n",
            "Epoch 93/100\n",
            "3967/3967 [==============================] - 13s 3ms/step - loss: 1.2903 - accuracy: 0.6630 - val_loss: 1.1746 - val_accuracy: 0.6795\n",
            "Epoch 94/100\n",
            "3967/3967 [==============================] - 13s 3ms/step - loss: 1.2927 - accuracy: 0.6617 - val_loss: 1.1696 - val_accuracy: 0.6719\n",
            "Epoch 95/100\n",
            "3967/3967 [==============================] - 13s 3ms/step - loss: 1.2913 - accuracy: 0.6633 - val_loss: 1.1279 - val_accuracy: 0.6981\n",
            "Epoch 96/100\n",
            "3967/3967 [==============================] - 13s 3ms/step - loss: 1.2892 - accuracy: 0.6641 - val_loss: 1.1529 - val_accuracy: 0.6913\n",
            "Epoch 97/100\n",
            "3967/3967 [==============================] - 13s 3ms/step - loss: 1.2879 - accuracy: 0.6640 - val_loss: 1.1409 - val_accuracy: 0.6898\n",
            "Epoch 98/100\n",
            "3967/3967 [==============================] - 13s 3ms/step - loss: 1.2852 - accuracy: 0.6649 - val_loss: 1.1446 - val_accuracy: 0.6911\n",
            "Epoch 99/100\n",
            "3967/3967 [==============================] - 13s 3ms/step - loss: 1.2831 - accuracy: 0.6657 - val_loss: 1.1880 - val_accuracy: 0.6680\n",
            "Epoch 100/100\n",
            "3967/3967 [==============================] - 13s 3ms/step - loss: 1.2819 - accuracy: 0.6662 - val_loss: 1.1481 - val_accuracy: 0.6848\n"
          ]
        }
      ]
    }
  ],
  "metadata": {
    "kernelspec": {
      "display_name": "Python 3",
      "name": "python3"
    },
    "language_info": {
      "codemirror_mode": {
        "name": "ipython",
        "version": 3
      },
      "file_extension": ".py",
      "mimetype": "text/x-python",
      "name": "python",
      "nbconvert_exporter": "python",
      "pygments_lexer": "ipython3",
      "version": "3.9.13"
    },
    "orig_nbformat": 4,
    "colab": {
      "provenance": [],
      "gpuType": "A100"
    },
    "accelerator": "GPU"
  },
  "nbformat": 4,
  "nbformat_minor": 0
}