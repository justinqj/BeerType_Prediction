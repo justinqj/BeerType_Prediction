{
 "cells": [
  {
   "cell_type": "markdown",
   "metadata": {},
   "source": [
    "### 1. Load and Explore raw Dataset"
   ]
  },
  {
   "cell_type": "markdown",
   "metadata": {},
   "source": [
    "**[1.1]** Import the packages"
   ]
  },
  {
   "cell_type": "code",
   "execution_count": 1,
   "metadata": {
    "tags": []
   },
   "outputs": [],
   "source": [
    "import pandas as pd\n",
    "import numpy as np\n",
    "import matplotlib.pyplot as plt\n",
    "import tensorflow as tf\n",
    "from tensorflow.keras.models import Sequential\n",
    "from tensorflow.keras.layers import Dense, Dropout\n",
    "from sklearn.preprocessing import LabelEncoder\n",
    "from sklearn.model_selection import train_test_split"
   ]
  },
  {
   "cell_type": "markdown",
   "metadata": {},
   "source": [
    "**[1.2]** Import data "
   ]
  },
  {
   "cell_type": "code",
   "execution_count": 2,
   "metadata": {
    "tags": []
   },
   "outputs": [],
   "source": [
    "# Read in the csv\n",
    "df = pd.read_csv(\"../data/raw/beer_reviews.csv\")"
   ]
  },
  {
   "cell_type": "markdown",
   "metadata": {
    "tags": []
   },
   "source": [
    "**[1.3]** Display the first 5 rows of df"
   ]
  },
  {
   "cell_type": "code",
   "execution_count": 3,
   "metadata": {
    "tags": []
   },
   "outputs": [
    {
     "data": {
      "text/html": [
       "<div>\n",
       "<style scoped>\n",
       "    .dataframe tbody tr th:only-of-type {\n",
       "        vertical-align: middle;\n",
       "    }\n",
       "\n",
       "    .dataframe tbody tr th {\n",
       "        vertical-align: top;\n",
       "    }\n",
       "\n",
       "    .dataframe thead th {\n",
       "        text-align: right;\n",
       "    }\n",
       "</style>\n",
       "<table border=\"1\" class=\"dataframe\">\n",
       "  <thead>\n",
       "    <tr style=\"text-align: right;\">\n",
       "      <th></th>\n",
       "      <th>brewery_id</th>\n",
       "      <th>brewery_name</th>\n",
       "      <th>review_time</th>\n",
       "      <th>review_overall</th>\n",
       "      <th>review_aroma</th>\n",
       "      <th>review_appearance</th>\n",
       "      <th>review_profilename</th>\n",
       "      <th>beer_style</th>\n",
       "      <th>review_palate</th>\n",
       "      <th>review_taste</th>\n",
       "      <th>beer_name</th>\n",
       "      <th>beer_abv</th>\n",
       "      <th>beer_beerid</th>\n",
       "    </tr>\n",
       "  </thead>\n",
       "  <tbody>\n",
       "    <tr>\n",
       "      <th>0</th>\n",
       "      <td>10325</td>\n",
       "      <td>Vecchio Birraio</td>\n",
       "      <td>1234817823</td>\n",
       "      <td>1.5</td>\n",
       "      <td>2.0</td>\n",
       "      <td>2.5</td>\n",
       "      <td>stcules</td>\n",
       "      <td>Hefeweizen</td>\n",
       "      <td>1.5</td>\n",
       "      <td>1.5</td>\n",
       "      <td>Sausa Weizen</td>\n",
       "      <td>5.0</td>\n",
       "      <td>47986</td>\n",
       "    </tr>\n",
       "    <tr>\n",
       "      <th>1</th>\n",
       "      <td>10325</td>\n",
       "      <td>Vecchio Birraio</td>\n",
       "      <td>1235915097</td>\n",
       "      <td>3.0</td>\n",
       "      <td>2.5</td>\n",
       "      <td>3.0</td>\n",
       "      <td>stcules</td>\n",
       "      <td>English Strong Ale</td>\n",
       "      <td>3.0</td>\n",
       "      <td>3.0</td>\n",
       "      <td>Red Moon</td>\n",
       "      <td>6.2</td>\n",
       "      <td>48213</td>\n",
       "    </tr>\n",
       "    <tr>\n",
       "      <th>2</th>\n",
       "      <td>10325</td>\n",
       "      <td>Vecchio Birraio</td>\n",
       "      <td>1235916604</td>\n",
       "      <td>3.0</td>\n",
       "      <td>2.5</td>\n",
       "      <td>3.0</td>\n",
       "      <td>stcules</td>\n",
       "      <td>Foreign / Export Stout</td>\n",
       "      <td>3.0</td>\n",
       "      <td>3.0</td>\n",
       "      <td>Black Horse Black Beer</td>\n",
       "      <td>6.5</td>\n",
       "      <td>48215</td>\n",
       "    </tr>\n",
       "    <tr>\n",
       "      <th>3</th>\n",
       "      <td>10325</td>\n",
       "      <td>Vecchio Birraio</td>\n",
       "      <td>1234725145</td>\n",
       "      <td>3.0</td>\n",
       "      <td>3.0</td>\n",
       "      <td>3.5</td>\n",
       "      <td>stcules</td>\n",
       "      <td>German Pilsener</td>\n",
       "      <td>2.5</td>\n",
       "      <td>3.0</td>\n",
       "      <td>Sausa Pils</td>\n",
       "      <td>5.0</td>\n",
       "      <td>47969</td>\n",
       "    </tr>\n",
       "    <tr>\n",
       "      <th>4</th>\n",
       "      <td>1075</td>\n",
       "      <td>Caldera Brewing Company</td>\n",
       "      <td>1293735206</td>\n",
       "      <td>4.0</td>\n",
       "      <td>4.5</td>\n",
       "      <td>4.0</td>\n",
       "      <td>johnmichaelsen</td>\n",
       "      <td>American Double / Imperial IPA</td>\n",
       "      <td>4.0</td>\n",
       "      <td>4.5</td>\n",
       "      <td>Cauldron DIPA</td>\n",
       "      <td>7.7</td>\n",
       "      <td>64883</td>\n",
       "    </tr>\n",
       "  </tbody>\n",
       "</table>\n",
       "</div>"
      ],
      "text/plain": [
       "   brewery_id             brewery_name  review_time  review_overall  \\\n",
       "0       10325          Vecchio Birraio   1234817823             1.5   \n",
       "1       10325          Vecchio Birraio   1235915097             3.0   \n",
       "2       10325          Vecchio Birraio   1235916604             3.0   \n",
       "3       10325          Vecchio Birraio   1234725145             3.0   \n",
       "4        1075  Caldera Brewing Company   1293735206             4.0   \n",
       "\n",
       "   review_aroma  review_appearance review_profilename  \\\n",
       "0           2.0                2.5            stcules   \n",
       "1           2.5                3.0            stcules   \n",
       "2           2.5                3.0            stcules   \n",
       "3           3.0                3.5            stcules   \n",
       "4           4.5                4.0     johnmichaelsen   \n",
       "\n",
       "                       beer_style  review_palate  review_taste  \\\n",
       "0                      Hefeweizen            1.5           1.5   \n",
       "1              English Strong Ale            3.0           3.0   \n",
       "2          Foreign / Export Stout            3.0           3.0   \n",
       "3                 German Pilsener            2.5           3.0   \n",
       "4  American Double / Imperial IPA            4.0           4.5   \n",
       "\n",
       "                beer_name  beer_abv  beer_beerid  \n",
       "0            Sausa Weizen       5.0        47986  \n",
       "1                Red Moon       6.2        48213  \n",
       "2  Black Horse Black Beer       6.5        48215  \n",
       "3              Sausa Pils       5.0        47969  \n",
       "4           Cauldron DIPA       7.7        64883  "
      ]
     },
     "execution_count": 3,
     "metadata": {},
     "output_type": "execute_result"
    }
   ],
   "source": [
    "df.head()"
   ]
  },
  {
   "cell_type": "markdown",
   "metadata": {},
   "source": [
    "**[1.4]** Display the last 5 rows of df"
   ]
  },
  {
   "cell_type": "code",
   "execution_count": 4,
   "metadata": {
    "tags": []
   },
   "outputs": [
    {
     "data": {
      "text/html": [
       "<div>\n",
       "<style scoped>\n",
       "    .dataframe tbody tr th:only-of-type {\n",
       "        vertical-align: middle;\n",
       "    }\n",
       "\n",
       "    .dataframe tbody tr th {\n",
       "        vertical-align: top;\n",
       "    }\n",
       "\n",
       "    .dataframe thead th {\n",
       "        text-align: right;\n",
       "    }\n",
       "</style>\n",
       "<table border=\"1\" class=\"dataframe\">\n",
       "  <thead>\n",
       "    <tr style=\"text-align: right;\">\n",
       "      <th></th>\n",
       "      <th>brewery_id</th>\n",
       "      <th>brewery_name</th>\n",
       "      <th>review_time</th>\n",
       "      <th>review_overall</th>\n",
       "      <th>review_aroma</th>\n",
       "      <th>review_appearance</th>\n",
       "      <th>review_profilename</th>\n",
       "      <th>beer_style</th>\n",
       "      <th>review_palate</th>\n",
       "      <th>review_taste</th>\n",
       "      <th>beer_name</th>\n",
       "      <th>beer_abv</th>\n",
       "      <th>beer_beerid</th>\n",
       "    </tr>\n",
       "  </thead>\n",
       "  <tbody>\n",
       "    <tr>\n",
       "      <th>1586609</th>\n",
       "      <td>14359</td>\n",
       "      <td>The Defiant Brewing Company</td>\n",
       "      <td>1162684892</td>\n",
       "      <td>5.0</td>\n",
       "      <td>4.0</td>\n",
       "      <td>3.5</td>\n",
       "      <td>maddogruss</td>\n",
       "      <td>Pumpkin Ale</td>\n",
       "      <td>4.0</td>\n",
       "      <td>4.0</td>\n",
       "      <td>The Horseman's Ale</td>\n",
       "      <td>5.2</td>\n",
       "      <td>33061</td>\n",
       "    </tr>\n",
       "    <tr>\n",
       "      <th>1586610</th>\n",
       "      <td>14359</td>\n",
       "      <td>The Defiant Brewing Company</td>\n",
       "      <td>1161048566</td>\n",
       "      <td>4.0</td>\n",
       "      <td>5.0</td>\n",
       "      <td>2.5</td>\n",
       "      <td>yelterdow</td>\n",
       "      <td>Pumpkin Ale</td>\n",
       "      <td>2.0</td>\n",
       "      <td>4.0</td>\n",
       "      <td>The Horseman's Ale</td>\n",
       "      <td>5.2</td>\n",
       "      <td>33061</td>\n",
       "    </tr>\n",
       "    <tr>\n",
       "      <th>1586611</th>\n",
       "      <td>14359</td>\n",
       "      <td>The Defiant Brewing Company</td>\n",
       "      <td>1160702513</td>\n",
       "      <td>4.5</td>\n",
       "      <td>3.5</td>\n",
       "      <td>3.0</td>\n",
       "      <td>TongoRad</td>\n",
       "      <td>Pumpkin Ale</td>\n",
       "      <td>3.5</td>\n",
       "      <td>4.0</td>\n",
       "      <td>The Horseman's Ale</td>\n",
       "      <td>5.2</td>\n",
       "      <td>33061</td>\n",
       "    </tr>\n",
       "    <tr>\n",
       "      <th>1586612</th>\n",
       "      <td>14359</td>\n",
       "      <td>The Defiant Brewing Company</td>\n",
       "      <td>1160023044</td>\n",
       "      <td>4.0</td>\n",
       "      <td>4.5</td>\n",
       "      <td>4.5</td>\n",
       "      <td>dherling</td>\n",
       "      <td>Pumpkin Ale</td>\n",
       "      <td>4.5</td>\n",
       "      <td>4.5</td>\n",
       "      <td>The Horseman's Ale</td>\n",
       "      <td>5.2</td>\n",
       "      <td>33061</td>\n",
       "    </tr>\n",
       "    <tr>\n",
       "      <th>1586613</th>\n",
       "      <td>14359</td>\n",
       "      <td>The Defiant Brewing Company</td>\n",
       "      <td>1160005319</td>\n",
       "      <td>5.0</td>\n",
       "      <td>4.5</td>\n",
       "      <td>4.5</td>\n",
       "      <td>cbl2</td>\n",
       "      <td>Pumpkin Ale</td>\n",
       "      <td>4.5</td>\n",
       "      <td>4.5</td>\n",
       "      <td>The Horseman's Ale</td>\n",
       "      <td>5.2</td>\n",
       "      <td>33061</td>\n",
       "    </tr>\n",
       "  </tbody>\n",
       "</table>\n",
       "</div>"
      ],
      "text/plain": [
       "         brewery_id                 brewery_name  review_time  review_overall  \\\n",
       "1586609       14359  The Defiant Brewing Company   1162684892             5.0   \n",
       "1586610       14359  The Defiant Brewing Company   1161048566             4.0   \n",
       "1586611       14359  The Defiant Brewing Company   1160702513             4.5   \n",
       "1586612       14359  The Defiant Brewing Company   1160023044             4.0   \n",
       "1586613       14359  The Defiant Brewing Company   1160005319             5.0   \n",
       "\n",
       "         review_aroma  review_appearance review_profilename   beer_style  \\\n",
       "1586609           4.0                3.5         maddogruss  Pumpkin Ale   \n",
       "1586610           5.0                2.5          yelterdow  Pumpkin Ale   \n",
       "1586611           3.5                3.0           TongoRad  Pumpkin Ale   \n",
       "1586612           4.5                4.5           dherling  Pumpkin Ale   \n",
       "1586613           4.5                4.5               cbl2  Pumpkin Ale   \n",
       "\n",
       "         review_palate  review_taste           beer_name  beer_abv  \\\n",
       "1586609            4.0           4.0  The Horseman's Ale       5.2   \n",
       "1586610            2.0           4.0  The Horseman's Ale       5.2   \n",
       "1586611            3.5           4.0  The Horseman's Ale       5.2   \n",
       "1586612            4.5           4.5  The Horseman's Ale       5.2   \n",
       "1586613            4.5           4.5  The Horseman's Ale       5.2   \n",
       "\n",
       "         beer_beerid  \n",
       "1586609        33061  \n",
       "1586610        33061  \n",
       "1586611        33061  \n",
       "1586612        33061  \n",
       "1586613        33061  "
      ]
     },
     "execution_count": 4,
     "metadata": {},
     "output_type": "execute_result"
    }
   ],
   "source": [
    "df.tail()"
   ]
  },
  {
   "cell_type": "markdown",
   "metadata": {},
   "source": [
    "**[1.5]** Display the dimensions (shape) of df"
   ]
  },
  {
   "cell_type": "code",
   "execution_count": 5,
   "metadata": {
    "tags": []
   },
   "outputs": [
    {
     "data": {
      "text/plain": [
       "(1586614, 13)"
      ]
     },
     "execution_count": 5,
     "metadata": {},
     "output_type": "execute_result"
    }
   ],
   "source": [
    "df.shape"
   ]
  },
  {
   "cell_type": "markdown",
   "metadata": {},
   "source": [
    "**[1.6]** Display the list of columns of df"
   ]
  },
  {
   "cell_type": "code",
   "execution_count": 6,
   "metadata": {
    "tags": []
   },
   "outputs": [
    {
     "data": {
      "text/plain": [
       "Index(['brewery_id', 'brewery_name', 'review_time', 'review_overall',\n",
       "       'review_aroma', 'review_appearance', 'review_profilename', 'beer_style',\n",
       "       'review_palate', 'review_taste', 'beer_name', 'beer_abv',\n",
       "       'beer_beerid'],\n",
       "      dtype='object')"
      ]
     },
     "execution_count": 6,
     "metadata": {},
     "output_type": "execute_result"
    }
   ],
   "source": [
    "df.columns"
   ]
  },
  {
   "cell_type": "markdown",
   "metadata": {},
   "source": [
    "**[1.7]** Display the descriptive statistics of df"
   ]
  },
  {
   "cell_type": "code",
   "execution_count": 7,
   "metadata": {
    "tags": []
   },
   "outputs": [
    {
     "data": {
      "text/html": [
       "<div>\n",
       "<style scoped>\n",
       "    .dataframe tbody tr th:only-of-type {\n",
       "        vertical-align: middle;\n",
       "    }\n",
       "\n",
       "    .dataframe tbody tr th {\n",
       "        vertical-align: top;\n",
       "    }\n",
       "\n",
       "    .dataframe thead th {\n",
       "        text-align: right;\n",
       "    }\n",
       "</style>\n",
       "<table border=\"1\" class=\"dataframe\">\n",
       "  <thead>\n",
       "    <tr style=\"text-align: right;\">\n",
       "      <th></th>\n",
       "      <th>brewery_id</th>\n",
       "      <th>review_time</th>\n",
       "      <th>review_overall</th>\n",
       "      <th>review_aroma</th>\n",
       "      <th>review_appearance</th>\n",
       "      <th>review_palate</th>\n",
       "      <th>review_taste</th>\n",
       "      <th>beer_abv</th>\n",
       "      <th>beer_beerid</th>\n",
       "    </tr>\n",
       "  </thead>\n",
       "  <tbody>\n",
       "    <tr>\n",
       "      <th>count</th>\n",
       "      <td>1.586614e+06</td>\n",
       "      <td>1.586614e+06</td>\n",
       "      <td>1.586614e+06</td>\n",
       "      <td>1.586614e+06</td>\n",
       "      <td>1.586614e+06</td>\n",
       "      <td>1.586614e+06</td>\n",
       "      <td>1.586614e+06</td>\n",
       "      <td>1.518829e+06</td>\n",
       "      <td>1.586614e+06</td>\n",
       "    </tr>\n",
       "    <tr>\n",
       "      <th>mean</th>\n",
       "      <td>3.130099e+03</td>\n",
       "      <td>1.224089e+09</td>\n",
       "      <td>3.815581e+00</td>\n",
       "      <td>3.735636e+00</td>\n",
       "      <td>3.841642e+00</td>\n",
       "      <td>3.743701e+00</td>\n",
       "      <td>3.792860e+00</td>\n",
       "      <td>7.042387e+00</td>\n",
       "      <td>2.171279e+04</td>\n",
       "    </tr>\n",
       "    <tr>\n",
       "      <th>std</th>\n",
       "      <td>5.578104e+03</td>\n",
       "      <td>7.654427e+07</td>\n",
       "      <td>7.206219e-01</td>\n",
       "      <td>6.976167e-01</td>\n",
       "      <td>6.160928e-01</td>\n",
       "      <td>6.822184e-01</td>\n",
       "      <td>7.319696e-01</td>\n",
       "      <td>2.322526e+00</td>\n",
       "      <td>2.181834e+04</td>\n",
       "    </tr>\n",
       "    <tr>\n",
       "      <th>min</th>\n",
       "      <td>1.000000e+00</td>\n",
       "      <td>8.406720e+08</td>\n",
       "      <td>0.000000e+00</td>\n",
       "      <td>1.000000e+00</td>\n",
       "      <td>0.000000e+00</td>\n",
       "      <td>1.000000e+00</td>\n",
       "      <td>1.000000e+00</td>\n",
       "      <td>1.000000e-02</td>\n",
       "      <td>3.000000e+00</td>\n",
       "    </tr>\n",
       "    <tr>\n",
       "      <th>25%</th>\n",
       "      <td>1.430000e+02</td>\n",
       "      <td>1.173224e+09</td>\n",
       "      <td>3.500000e+00</td>\n",
       "      <td>3.500000e+00</td>\n",
       "      <td>3.500000e+00</td>\n",
       "      <td>3.500000e+00</td>\n",
       "      <td>3.500000e+00</td>\n",
       "      <td>5.200000e+00</td>\n",
       "      <td>1.717000e+03</td>\n",
       "    </tr>\n",
       "    <tr>\n",
       "      <th>50%</th>\n",
       "      <td>4.290000e+02</td>\n",
       "      <td>1.239203e+09</td>\n",
       "      <td>4.000000e+00</td>\n",
       "      <td>4.000000e+00</td>\n",
       "      <td>4.000000e+00</td>\n",
       "      <td>4.000000e+00</td>\n",
       "      <td>4.000000e+00</td>\n",
       "      <td>6.500000e+00</td>\n",
       "      <td>1.390600e+04</td>\n",
       "    </tr>\n",
       "    <tr>\n",
       "      <th>75%</th>\n",
       "      <td>2.372000e+03</td>\n",
       "      <td>1.288568e+09</td>\n",
       "      <td>4.500000e+00</td>\n",
       "      <td>4.000000e+00</td>\n",
       "      <td>4.000000e+00</td>\n",
       "      <td>4.000000e+00</td>\n",
       "      <td>4.500000e+00</td>\n",
       "      <td>8.500000e+00</td>\n",
       "      <td>3.944100e+04</td>\n",
       "    </tr>\n",
       "    <tr>\n",
       "      <th>max</th>\n",
       "      <td>2.800300e+04</td>\n",
       "      <td>1.326285e+09</td>\n",
       "      <td>5.000000e+00</td>\n",
       "      <td>5.000000e+00</td>\n",
       "      <td>5.000000e+00</td>\n",
       "      <td>5.000000e+00</td>\n",
       "      <td>5.000000e+00</td>\n",
       "      <td>5.770000e+01</td>\n",
       "      <td>7.731700e+04</td>\n",
       "    </tr>\n",
       "  </tbody>\n",
       "</table>\n",
       "</div>"
      ],
      "text/plain": [
       "         brewery_id   review_time  review_overall  review_aroma  \\\n",
       "count  1.586614e+06  1.586614e+06    1.586614e+06  1.586614e+06   \n",
       "mean   3.130099e+03  1.224089e+09    3.815581e+00  3.735636e+00   \n",
       "std    5.578104e+03  7.654427e+07    7.206219e-01  6.976167e-01   \n",
       "min    1.000000e+00  8.406720e+08    0.000000e+00  1.000000e+00   \n",
       "25%    1.430000e+02  1.173224e+09    3.500000e+00  3.500000e+00   \n",
       "50%    4.290000e+02  1.239203e+09    4.000000e+00  4.000000e+00   \n",
       "75%    2.372000e+03  1.288568e+09    4.500000e+00  4.000000e+00   \n",
       "max    2.800300e+04  1.326285e+09    5.000000e+00  5.000000e+00   \n",
       "\n",
       "       review_appearance  review_palate  review_taste      beer_abv  \\\n",
       "count       1.586614e+06   1.586614e+06  1.586614e+06  1.518829e+06   \n",
       "mean        3.841642e+00   3.743701e+00  3.792860e+00  7.042387e+00   \n",
       "std         6.160928e-01   6.822184e-01  7.319696e-01  2.322526e+00   \n",
       "min         0.000000e+00   1.000000e+00  1.000000e+00  1.000000e-02   \n",
       "25%         3.500000e+00   3.500000e+00  3.500000e+00  5.200000e+00   \n",
       "50%         4.000000e+00   4.000000e+00  4.000000e+00  6.500000e+00   \n",
       "75%         4.000000e+00   4.000000e+00  4.500000e+00  8.500000e+00   \n",
       "max         5.000000e+00   5.000000e+00  5.000000e+00  5.770000e+01   \n",
       "\n",
       "        beer_beerid  \n",
       "count  1.586614e+06  \n",
       "mean   2.171279e+04  \n",
       "std    2.181834e+04  \n",
       "min    3.000000e+00  \n",
       "25%    1.717000e+03  \n",
       "50%    1.390600e+04  \n",
       "75%    3.944100e+04  \n",
       "max    7.731700e+04  "
      ]
     },
     "execution_count": 7,
     "metadata": {},
     "output_type": "execute_result"
    }
   ],
   "source": [
    "df.describe()"
   ]
  },
  {
   "cell_type": "markdown",
   "metadata": {},
   "source": [
    "**[1.8]** Display the summary (info) of df"
   ]
  },
  {
   "cell_type": "code",
   "execution_count": 8,
   "metadata": {
    "tags": []
   },
   "outputs": [
    {
     "name": "stdout",
     "output_type": "stream",
     "text": [
      "<class 'pandas.core.frame.DataFrame'>\n",
      "RangeIndex: 1586614 entries, 0 to 1586613\n",
      "Data columns (total 13 columns):\n",
      " #   Column              Non-Null Count    Dtype  \n",
      "---  ------              --------------    -----  \n",
      " 0   brewery_id          1586614 non-null  int64  \n",
      " 1   brewery_name        1586599 non-null  object \n",
      " 2   review_time         1586614 non-null  int64  \n",
      " 3   review_overall      1586614 non-null  float64\n",
      " 4   review_aroma        1586614 non-null  float64\n",
      " 5   review_appearance   1586614 non-null  float64\n",
      " 6   review_profilename  1586266 non-null  object \n",
      " 7   beer_style          1586614 non-null  object \n",
      " 8   review_palate       1586614 non-null  float64\n",
      " 9   review_taste        1586614 non-null  float64\n",
      " 10  beer_name           1586614 non-null  object \n",
      " 11  beer_abv            1518829 non-null  float64\n",
      " 12  beer_beerid         1586614 non-null  int64  \n",
      "dtypes: float64(6), int64(3), object(4)\n",
      "memory usage: 157.4+ MB\n"
     ]
    }
   ],
   "source": [
    "df.info()"
   ]
  },
  {
   "cell_type": "markdown",
   "metadata": {},
   "source": [
    "### 2.Features Engineering"
   ]
  },
  {
   "cell_type": "markdown",
   "metadata": {},
   "source": [
    "**[2.1]** Let's create a copy of our training dataframe"
   ]
  },
  {
   "cell_type": "code",
   "execution_count": 228,
   "metadata": {
    "tags": []
   },
   "outputs": [],
   "source": [
    "df_cleaned = df.copy()"
   ]
  },
  {
   "cell_type": "markdown",
   "metadata": {
    "tags": []
   },
   "source": [
    "**[2.2]** Select the necessary columns and drop columns 'brewery_id','review_time','review_profilename', \n",
    "       'beer_beerid'"
   ]
  },
  {
   "cell_type": "code",
   "execution_count": 229,
   "metadata": {
    "tags": []
   },
   "outputs": [
    {
     "data": {
      "text/html": [
       "<div>\n",
       "<style scoped>\n",
       "    .dataframe tbody tr th:only-of-type {\n",
       "        vertical-align: middle;\n",
       "    }\n",
       "\n",
       "    .dataframe tbody tr th {\n",
       "        vertical-align: top;\n",
       "    }\n",
       "\n",
       "    .dataframe thead th {\n",
       "        text-align: right;\n",
       "    }\n",
       "</style>\n",
       "<table border=\"1\" class=\"dataframe\">\n",
       "  <thead>\n",
       "    <tr style=\"text-align: right;\">\n",
       "      <th></th>\n",
       "      <th>review_overall</th>\n",
       "      <th>review_appearance</th>\n",
       "      <th>review_aroma</th>\n",
       "      <th>review_palate</th>\n",
       "      <th>review_taste</th>\n",
       "      <th>beer_abv</th>\n",
       "      <th>brewery_name</th>\n",
       "      <th>beer_name</th>\n",
       "      <th>review_profilename</th>\n",
       "      <th>beer_style</th>\n",
       "    </tr>\n",
       "  </thead>\n",
       "  <tbody>\n",
       "    <tr>\n",
       "      <th>0</th>\n",
       "      <td>1.5</td>\n",
       "      <td>2.5</td>\n",
       "      <td>2.0</td>\n",
       "      <td>1.5</td>\n",
       "      <td>1.5</td>\n",
       "      <td>5.0</td>\n",
       "      <td>Vecchio Birraio</td>\n",
       "      <td>Sausa Weizen</td>\n",
       "      <td>stcules</td>\n",
       "      <td>Hefeweizen</td>\n",
       "    </tr>\n",
       "    <tr>\n",
       "      <th>1</th>\n",
       "      <td>3.0</td>\n",
       "      <td>3.0</td>\n",
       "      <td>2.5</td>\n",
       "      <td>3.0</td>\n",
       "      <td>3.0</td>\n",
       "      <td>6.2</td>\n",
       "      <td>Vecchio Birraio</td>\n",
       "      <td>Red Moon</td>\n",
       "      <td>stcules</td>\n",
       "      <td>English Strong Ale</td>\n",
       "    </tr>\n",
       "    <tr>\n",
       "      <th>2</th>\n",
       "      <td>3.0</td>\n",
       "      <td>3.0</td>\n",
       "      <td>2.5</td>\n",
       "      <td>3.0</td>\n",
       "      <td>3.0</td>\n",
       "      <td>6.5</td>\n",
       "      <td>Vecchio Birraio</td>\n",
       "      <td>Black Horse Black Beer</td>\n",
       "      <td>stcules</td>\n",
       "      <td>Foreign / Export Stout</td>\n",
       "    </tr>\n",
       "    <tr>\n",
       "      <th>3</th>\n",
       "      <td>3.0</td>\n",
       "      <td>3.5</td>\n",
       "      <td>3.0</td>\n",
       "      <td>2.5</td>\n",
       "      <td>3.0</td>\n",
       "      <td>5.0</td>\n",
       "      <td>Vecchio Birraio</td>\n",
       "      <td>Sausa Pils</td>\n",
       "      <td>stcules</td>\n",
       "      <td>German Pilsener</td>\n",
       "    </tr>\n",
       "    <tr>\n",
       "      <th>4</th>\n",
       "      <td>4.0</td>\n",
       "      <td>4.0</td>\n",
       "      <td>4.5</td>\n",
       "      <td>4.0</td>\n",
       "      <td>4.5</td>\n",
       "      <td>7.7</td>\n",
       "      <td>Caldera Brewing Company</td>\n",
       "      <td>Cauldron DIPA</td>\n",
       "      <td>johnmichaelsen</td>\n",
       "      <td>American Double / Imperial IPA</td>\n",
       "    </tr>\n",
       "  </tbody>\n",
       "</table>\n",
       "</div>"
      ],
      "text/plain": [
       "   review_overall  review_appearance  review_aroma  review_palate  \\\n",
       "0             1.5                2.5           2.0            1.5   \n",
       "1             3.0                3.0           2.5            3.0   \n",
       "2             3.0                3.0           2.5            3.0   \n",
       "3             3.0                3.5           3.0            2.5   \n",
       "4             4.0                4.0           4.5            4.0   \n",
       "\n",
       "   review_taste  beer_abv             brewery_name               beer_name  \\\n",
       "0           1.5       5.0          Vecchio Birraio            Sausa Weizen   \n",
       "1           3.0       6.2          Vecchio Birraio                Red Moon   \n",
       "2           3.0       6.5          Vecchio Birraio  Black Horse Black Beer   \n",
       "3           3.0       5.0          Vecchio Birraio              Sausa Pils   \n",
       "4           4.5       7.7  Caldera Brewing Company           Cauldron DIPA   \n",
       "\n",
       "  review_profilename                      beer_style  \n",
       "0            stcules                      Hefeweizen  \n",
       "1            stcules              English Strong Ale  \n",
       "2            stcules          Foreign / Export Stout  \n",
       "3            stcules                 German Pilsener  \n",
       "4     johnmichaelsen  American Double / Imperial IPA  "
      ]
     },
     "execution_count": 229,
     "metadata": {},
     "output_type": "execute_result"
    }
   ],
   "source": [
    "# Select necessary columns\n",
    "df_cleaned = df_cleaned[['review_overall','review_appearance', 'review_aroma', 'review_palate', 'review_taste', 'beer_abv', 'brewery_name', 'beer_name', 'review_profilename','beer_style']]\n",
    "df_cleaned.head()"
   ]
  },
  {
   "cell_type": "markdown",
   "metadata": {},
   "source": [
    "**[2.3]** Handling missing values"
   ]
  },
  {
   "cell_type": "code",
   "execution_count": 230,
   "metadata": {
    "tags": []
   },
   "outputs": [],
   "source": [
    "# Handle missing values\n",
    "df_cleaned['beer_abv'].fillna(df_cleaned['beer_abv'].mean(), inplace=True)\n",
    "df_cleaned['brewery_name'].fillna('unknown', inplace=True)\n",
    "df_cleaned['beer_name'].fillna('unknown', inplace=True)\n",
    "df_cleaned['review_profilename'].fillna('unknown', inplace=True)"
   ]
  },
  {
   "cell_type": "code",
   "execution_count": 231,
   "metadata": {
    "tags": []
   },
   "outputs": [
    {
     "name": "stdout",
     "output_type": "stream",
     "text": [
      "<class 'pandas.core.frame.DataFrame'>\n",
      "RangeIndex: 1586614 entries, 0 to 1586613\n",
      "Data columns (total 10 columns):\n",
      " #   Column              Non-Null Count    Dtype  \n",
      "---  ------              --------------    -----  \n",
      " 0   review_overall      1586614 non-null  float64\n",
      " 1   review_appearance   1586614 non-null  float64\n",
      " 2   review_aroma        1586614 non-null  float64\n",
      " 3   review_palate       1586614 non-null  float64\n",
      " 4   review_taste        1586614 non-null  float64\n",
      " 5   beer_abv            1586614 non-null  float64\n",
      " 6   brewery_name        1586614 non-null  object \n",
      " 7   beer_name           1586614 non-null  object \n",
      " 8   review_profilename  1586614 non-null  object \n",
      " 9   beer_style          1586614 non-null  object \n",
      "dtypes: float64(6), object(4)\n",
      "memory usage: 121.0+ MB\n"
     ]
    }
   ],
   "source": [
    "df_cleaned.info()"
   ]
  },
  {
   "cell_type": "code",
   "execution_count": 232,
   "metadata": {
    "tags": []
   },
   "outputs": [
    {
     "data": {
      "image/png": "[encoded data removed]",
      "text/plain": [
       "<Figure size 1000x600 with 1 Axes>"
      ]
     },
     "metadata": {},
     "output_type": "display_data"
    }
   ],
   "source": [
    "# Count the occurrence of each beer style and sort in ascending order\n",
    "beer_style_counts = df_cleaned['beer_style'].value_counts().sort_values(ascending=False)\n",
    "\n",
    "# Select the 10 least common beer styles\n",
    "least_common_styles = beer_style_counts.head(10)\n",
    "\n",
    "# Plot the 10 least common beer styles as a bar graph\n",
    "plt.figure(figsize=(10, 6))\n",
    "least_common_styles.plot(kind='bar')\n",
    "plt.xlabel('Beer Style')\n",
    "plt.ylabel('Occurrence Count')\n",
    "plt.title('10 Most Common Beer Styles')\n",
    "plt.xticks(rotation=45)\n",
    "plt.show()\n"
   ]
  },
  {
   "cell_type": "code",
   "execution_count": 233,
   "metadata": {
    "tags": []
   },
   "outputs": [
    {
     "data": {
      "image/png": "[encoded data removed]",
      "text/plain": [
       "<Figure size 1000x600 with 1 Axes>"
      ]
     },
     "metadata": {},
     "output_type": "display_data"
    }
   ],
   "source": [
    "\n",
    "# Count the occurrence of each beer style and sort in ascending order\n",
    "beer_style_counts = df['beer_style'].value_counts().sort_values()\n",
    "\n",
    "# Select the 10 least common beer styles\n",
    "least_common_styles = beer_style_counts.head(10)\n",
    "\n",
    "# Plot the 10 least common beer styles as a bar graph\n",
    "plt.figure(figsize=(10, 6))\n",
    "least_common_styles.plot(kind='bar')\n",
    "plt.xlabel('Beer Style')\n",
    "plt.ylabel('Occurrence Count')\n",
    "plt.title('10 Least Common Beer Styles')\n",
    "plt.xticks(rotation=45)\n",
    "plt.show()\n"
   ]
  },
  {
   "cell_type": "markdown",
   "metadata": {
    "tags": []
   },
   "source": [
    "**[2.4] Categorical feature encoding**: Some features like 'brewery_name', 'beer_name', 'beer_style' are categorical variables. We can encode them using techniques such as one-hot encoding or label encoding to represent them numerically. This allows the model to understand the categorical information"
   ]
  },
  {
   "cell_type": "code",
   "execution_count": 234,
   "metadata": {
    "tags": []
   },
   "outputs": [],
   "source": [
    "import category_encoders as ce"
   ]
  },
  {
   "cell_type": "code",
   "execution_count": 235,
   "metadata": {
    "tags": []
   },
   "outputs": [],
   "source": [
    "# Encode the beer_style column\n",
    "le = LabelEncoder()\n",
    "df_cleaned['beer_style'] = le.fit_transform(df_cleaned['beer_style'])"
   ]
  },
  {
   "cell_type": "code",
   "execution_count": 236,
   "metadata": {
    "tags": []
   },
   "outputs": [],
   "source": [
    "# Select columns to be encoded\n",
    "cols_to_encode = ['brewery_name','beer_name', 'review_profilename']\n",
    "\n",
    "# Instantiate encoder\n",
    "encoder = ce.TargetEncoder(cols=cols_to_encode)"
   ]
  },
  {
   "cell_type": "code",
   "execution_count": 237,
   "metadata": {
    "tags": []
   },
   "outputs": [],
   "source": [
    "# Fit and transform the columns\n",
    "df_encoded = encoder.fit_transform(df_cleaned[cols_to_encode], df_cleaned['beer_style'])\n",
    "# Replace original columns with encoded ones in the dataframe\n",
    "df_cleaned.drop(cols_to_encode, axis=1, inplace=True)\n",
    "df_cleaned = pd.concat([df_cleaned, df_encoded], axis=1)"
   ]
  },
  {
   "cell_type": "code",
   "execution_count": 238,
   "metadata": {
    "tags": []
   },
   "outputs": [
    {
     "data": {
      "text/html": [
       "<div>\n",
       "<style scoped>\n",
       "    .dataframe tbody tr th:only-of-type {\n",
       "        vertical-align: middle;\n",
       "    }\n",
       "\n",
       "    .dataframe tbody tr th {\n",
       "        vertical-align: top;\n",
       "    }\n",
       "\n",
       "    .dataframe thead th {\n",
       "        text-align: right;\n",
       "    }\n",
       "</style>\n",
       "<table border=\"1\" class=\"dataframe\">\n",
       "  <thead>\n",
       "    <tr style=\"text-align: right;\">\n",
       "      <th></th>\n",
       "      <th>review_overall</th>\n",
       "      <th>review_appearance</th>\n",
       "      <th>review_aroma</th>\n",
       "      <th>review_palate</th>\n",
       "      <th>review_taste</th>\n",
       "      <th>beer_abv</th>\n",
       "      <th>beer_style</th>\n",
       "      <th>brewery_name</th>\n",
       "      <th>beer_name</th>\n",
       "      <th>review_profilename</th>\n",
       "    </tr>\n",
       "  </thead>\n",
       "  <tbody>\n",
       "    <tr>\n",
       "      <th>0</th>\n",
       "      <td>1.5</td>\n",
       "      <td>2.5</td>\n",
       "      <td>2.0</td>\n",
       "      <td>1.5</td>\n",
       "      <td>1.5</td>\n",
       "      <td>5.0</td>\n",
       "      <td>65</td>\n",
       "      <td>44.974193</td>\n",
       "      <td>45.116395</td>\n",
       "      <td>53.028523</td>\n",
       "    </tr>\n",
       "    <tr>\n",
       "      <th>1</th>\n",
       "      <td>3.0</td>\n",
       "      <td>3.0</td>\n",
       "      <td>2.5</td>\n",
       "      <td>3.0</td>\n",
       "      <td>3.0</td>\n",
       "      <td>6.2</td>\n",
       "      <td>51</td>\n",
       "      <td>44.974193</td>\n",
       "      <td>43.294876</td>\n",
       "      <td>53.028523</td>\n",
       "    </tr>\n",
       "    <tr>\n",
       "      <th>2</th>\n",
       "      <td>3.0</td>\n",
       "      <td>3.0</td>\n",
       "      <td>2.5</td>\n",
       "      <td>3.0</td>\n",
       "      <td>3.0</td>\n",
       "      <td>6.5</td>\n",
       "      <td>59</td>\n",
       "      <td>44.974193</td>\n",
       "      <td>44.335744</td>\n",
       "      <td>53.028523</td>\n",
       "    </tr>\n",
       "    <tr>\n",
       "      <th>3</th>\n",
       "      <td>3.0</td>\n",
       "      <td>3.5</td>\n",
       "      <td>3.0</td>\n",
       "      <td>2.5</td>\n",
       "      <td>3.0</td>\n",
       "      <td>5.0</td>\n",
       "      <td>61</td>\n",
       "      <td>44.974193</td>\n",
       "      <td>44.595961</td>\n",
       "      <td>53.028523</td>\n",
       "    </tr>\n",
       "    <tr>\n",
       "      <th>4</th>\n",
       "      <td>4.0</td>\n",
       "      <td>4.0</td>\n",
       "      <td>4.5</td>\n",
       "      <td>4.0</td>\n",
       "      <td>4.5</td>\n",
       "      <td>7.7</td>\n",
       "      <td>9</td>\n",
       "      <td>18.587177</td>\n",
       "      <td>37.830320</td>\n",
       "      <td>40.937944</td>\n",
       "    </tr>\n",
       "    <tr>\n",
       "      <th>...</th>\n",
       "      <td>...</td>\n",
       "      <td>...</td>\n",
       "      <td>...</td>\n",
       "      <td>...</td>\n",
       "      <td>...</td>\n",
       "      <td>...</td>\n",
       "      <td>...</td>\n",
       "      <td>...</td>\n",
       "      <td>...</td>\n",
       "      <td>...</td>\n",
       "    </tr>\n",
       "    <tr>\n",
       "      <th>1586609</th>\n",
       "      <td>5.0</td>\n",
       "      <td>3.5</td>\n",
       "      <td>4.0</td>\n",
       "      <td>4.0</td>\n",
       "      <td>4.0</td>\n",
       "      <td>5.2</td>\n",
       "      <td>85</td>\n",
       "      <td>43.293907</td>\n",
       "      <td>57.328741</td>\n",
       "      <td>43.717391</td>\n",
       "    </tr>\n",
       "    <tr>\n",
       "      <th>1586610</th>\n",
       "      <td>4.0</td>\n",
       "      <td>2.5</td>\n",
       "      <td>5.0</td>\n",
       "      <td>2.0</td>\n",
       "      <td>4.0</td>\n",
       "      <td>5.2</td>\n",
       "      <td>85</td>\n",
       "      <td>43.293907</td>\n",
       "      <td>57.328741</td>\n",
       "      <td>49.476190</td>\n",
       "    </tr>\n",
       "    <tr>\n",
       "      <th>1586611</th>\n",
       "      <td>4.5</td>\n",
       "      <td>3.0</td>\n",
       "      <td>3.5</td>\n",
       "      <td>3.5</td>\n",
       "      <td>4.0</td>\n",
       "      <td>5.2</td>\n",
       "      <td>85</td>\n",
       "      <td>43.293907</td>\n",
       "      <td>57.328741</td>\n",
       "      <td>47.231860</td>\n",
       "    </tr>\n",
       "    <tr>\n",
       "      <th>1586612</th>\n",
       "      <td>4.0</td>\n",
       "      <td>4.5</td>\n",
       "      <td>4.5</td>\n",
       "      <td>4.5</td>\n",
       "      <td>4.5</td>\n",
       "      <td>5.2</td>\n",
       "      <td>85</td>\n",
       "      <td>43.293907</td>\n",
       "      <td>57.328741</td>\n",
       "      <td>51.232258</td>\n",
       "    </tr>\n",
       "    <tr>\n",
       "      <th>1586613</th>\n",
       "      <td>5.0</td>\n",
       "      <td>4.5</td>\n",
       "      <td>4.5</td>\n",
       "      <td>4.5</td>\n",
       "      <td>4.5</td>\n",
       "      <td>5.2</td>\n",
       "      <td>85</td>\n",
       "      <td>43.293907</td>\n",
       "      <td>57.328741</td>\n",
       "      <td>45.750746</td>\n",
       "    </tr>\n",
       "  </tbody>\n",
       "</table>\n",
       "<p>1586614 rows × 10 columns</p>\n",
       "</div>"
      ],
      "text/plain": [
       "         review_overall  review_appearance  review_aroma  review_palate  \\\n",
       "0                   1.5                2.5           2.0            1.5   \n",
       "1                   3.0                3.0           2.5            3.0   \n",
       "2                   3.0                3.0           2.5            3.0   \n",
       "3                   3.0                3.5           3.0            2.5   \n",
       "4                   4.0                4.0           4.5            4.0   \n",
       "...                 ...                ...           ...            ...   \n",
       "1586609             5.0                3.5           4.0            4.0   \n",
       "1586610             4.0                2.5           5.0            2.0   \n",
       "1586611             4.5                3.0           3.5            3.5   \n",
       "1586612             4.0                4.5           4.5            4.5   \n",
       "1586613             5.0                4.5           4.5            4.5   \n",
       "\n",
       "         review_taste  beer_abv  beer_style  brewery_name  beer_name  \\\n",
       "0                 1.5       5.0          65     44.974193  45.116395   \n",
       "1                 3.0       6.2          51     44.974193  43.294876   \n",
       "2                 3.0       6.5          59     44.974193  44.335744   \n",
       "3                 3.0       5.0          61     44.974193  44.595961   \n",
       "4                 4.5       7.7           9     18.587177  37.830320   \n",
       "...               ...       ...         ...           ...        ...   \n",
       "1586609           4.0       5.2          85     43.293907  57.328741   \n",
       "1586610           4.0       5.2          85     43.293907  57.328741   \n",
       "1586611           4.0       5.2          85     43.293907  57.328741   \n",
       "1586612           4.5       5.2          85     43.293907  57.328741   \n",
       "1586613           4.5       5.2          85     43.293907  57.328741   \n",
       "\n",
       "         review_profilename  \n",
       "0                 53.028523  \n",
       "1                 53.028523  \n",
       "2                 53.028523  \n",
       "3                 53.028523  \n",
       "4                 40.937944  \n",
       "...                     ...  \n",
       "1586609           43.717391  \n",
       "1586610           49.476190  \n",
       "1586611           47.231860  \n",
       "1586612           51.232258  \n",
       "1586613           45.750746  \n",
       "\n",
       "[1586614 rows x 10 columns]"
      ]
     },
     "execution_count": 238,
     "metadata": {},
     "output_type": "execute_result"
    }
   ],
   "source": [
    "df_cleaned"
   ]
  },
  {
   "cell_type": "markdown",
   "metadata": {},
   "source": [
    "**[2.5] Feature Crosses: Create interaction features by combining different features**"
   ]
  },
  {
   "cell_type": "code",
   "execution_count": 239,
   "metadata": {
    "tags": []
   },
   "outputs": [],
   "source": [
    "df_cleaned['aroma_taste_interaction'] = df_cleaned['review_aroma'] * df_cleaned['review_taste']"
   ]
  },
  {
   "cell_type": "code",
   "execution_count": 240,
   "metadata": {
    "tags": []
   },
   "outputs": [],
   "source": [
    "df_cleaned['aroma__appearance_interaction'] = df_cleaned['review_aroma'] * df_cleaned['review_appearance']"
   ]
  },
  {
   "cell_type": "code",
   "execution_count": 241,
   "metadata": {
    "tags": []
   },
   "outputs": [],
   "source": [
    "df_cleaned['taste__appearance_interaction'] = df_cleaned['review_taste'] * df_cleaned['review_appearance']"
   ]
  },
  {
   "cell_type": "code",
   "execution_count": 242,
   "metadata": {
    "tags": []
   },
   "outputs": [],
   "source": [
    "df_cleaned['overall_taste_interaction'] = df_cleaned['review_overall'] *df_cleaned['review_taste']\n",
    "df_cleaned['palate_taste_interaction'] = df_cleaned['review_palate'] * df_cleaned['review_taste']"
   ]
  },
  {
   "cell_type": "code",
   "execution_count": 243,
   "metadata": {
    "tags": []
   },
   "outputs": [
    {
     "data": {
      "text/html": [
       "<div>\n",
       "<style scoped>\n",
       "    .dataframe tbody tr th:only-of-type {\n",
       "        vertical-align: middle;\n",
       "    }\n",
       "\n",
       "    .dataframe tbody tr th {\n",
       "        vertical-align: top;\n",
       "    }\n",
       "\n",
       "    .dataframe thead th {\n",
       "        text-align: right;\n",
       "    }\n",
       "</style>\n",
       "<table border=\"1\" class=\"dataframe\">\n",
       "  <thead>\n",
       "    <tr style=\"text-align: right;\">\n",
       "      <th></th>\n",
       "      <th>review_overall</th>\n",
       "      <th>review_appearance</th>\n",
       "      <th>review_aroma</th>\n",
       "      <th>review_palate</th>\n",
       "      <th>review_taste</th>\n",
       "      <th>beer_abv</th>\n",
       "      <th>beer_style</th>\n",
       "      <th>brewery_name</th>\n",
       "      <th>beer_name</th>\n",
       "      <th>review_profilename</th>\n",
       "      <th>aroma_taste_interaction</th>\n",
       "      <th>aroma__appearance_interaction</th>\n",
       "      <th>taste__appearance_interaction</th>\n",
       "      <th>overall_taste_interaction</th>\n",
       "      <th>palate_taste_interaction</th>\n",
       "    </tr>\n",
       "  </thead>\n",
       "  <tbody>\n",
       "    <tr>\n",
       "      <th>0</th>\n",
       "      <td>1.5</td>\n",
       "      <td>2.5</td>\n",
       "      <td>2.0</td>\n",
       "      <td>1.5</td>\n",
       "      <td>1.5</td>\n",
       "      <td>5.0</td>\n",
       "      <td>65</td>\n",
       "      <td>44.974193</td>\n",
       "      <td>45.116395</td>\n",
       "      <td>53.028523</td>\n",
       "      <td>3.00</td>\n",
       "      <td>5.00</td>\n",
       "      <td>3.75</td>\n",
       "      <td>2.25</td>\n",
       "      <td>2.25</td>\n",
       "    </tr>\n",
       "    <tr>\n",
       "      <th>1</th>\n",
       "      <td>3.0</td>\n",
       "      <td>3.0</td>\n",
       "      <td>2.5</td>\n",
       "      <td>3.0</td>\n",
       "      <td>3.0</td>\n",
       "      <td>6.2</td>\n",
       "      <td>51</td>\n",
       "      <td>44.974193</td>\n",
       "      <td>43.294876</td>\n",
       "      <td>53.028523</td>\n",
       "      <td>7.50</td>\n",
       "      <td>7.50</td>\n",
       "      <td>9.00</td>\n",
       "      <td>9.00</td>\n",
       "      <td>9.00</td>\n",
       "    </tr>\n",
       "    <tr>\n",
       "      <th>2</th>\n",
       "      <td>3.0</td>\n",
       "      <td>3.0</td>\n",
       "      <td>2.5</td>\n",
       "      <td>3.0</td>\n",
       "      <td>3.0</td>\n",
       "      <td>6.5</td>\n",
       "      <td>59</td>\n",
       "      <td>44.974193</td>\n",
       "      <td>44.335744</td>\n",
       "      <td>53.028523</td>\n",
       "      <td>7.50</td>\n",
       "      <td>7.50</td>\n",
       "      <td>9.00</td>\n",
       "      <td>9.00</td>\n",
       "      <td>9.00</td>\n",
       "    </tr>\n",
       "    <tr>\n",
       "      <th>3</th>\n",
       "      <td>3.0</td>\n",
       "      <td>3.5</td>\n",
       "      <td>3.0</td>\n",
       "      <td>2.5</td>\n",
       "      <td>3.0</td>\n",
       "      <td>5.0</td>\n",
       "      <td>61</td>\n",
       "      <td>44.974193</td>\n",
       "      <td>44.595961</td>\n",
       "      <td>53.028523</td>\n",
       "      <td>9.00</td>\n",
       "      <td>10.50</td>\n",
       "      <td>10.50</td>\n",
       "      <td>9.00</td>\n",
       "      <td>7.50</td>\n",
       "    </tr>\n",
       "    <tr>\n",
       "      <th>4</th>\n",
       "      <td>4.0</td>\n",
       "      <td>4.0</td>\n",
       "      <td>4.5</td>\n",
       "      <td>4.0</td>\n",
       "      <td>4.5</td>\n",
       "      <td>7.7</td>\n",
       "      <td>9</td>\n",
       "      <td>18.587177</td>\n",
       "      <td>37.830320</td>\n",
       "      <td>40.937944</td>\n",
       "      <td>20.25</td>\n",
       "      <td>18.00</td>\n",
       "      <td>18.00</td>\n",
       "      <td>18.00</td>\n",
       "      <td>18.00</td>\n",
       "    </tr>\n",
       "    <tr>\n",
       "      <th>...</th>\n",
       "      <td>...</td>\n",
       "      <td>...</td>\n",
       "      <td>...</td>\n",
       "      <td>...</td>\n",
       "      <td>...</td>\n",
       "      <td>...</td>\n",
       "      <td>...</td>\n",
       "      <td>...</td>\n",
       "      <td>...</td>\n",
       "      <td>...</td>\n",
       "      <td>...</td>\n",
       "      <td>...</td>\n",
       "      <td>...</td>\n",
       "      <td>...</td>\n",
       "      <td>...</td>\n",
       "    </tr>\n",
       "    <tr>\n",
       "      <th>1586609</th>\n",
       "      <td>5.0</td>\n",
       "      <td>3.5</td>\n",
       "      <td>4.0</td>\n",
       "      <td>4.0</td>\n",
       "      <td>4.0</td>\n",
       "      <td>5.2</td>\n",
       "      <td>85</td>\n",
       "      <td>43.293907</td>\n",
       "      <td>57.328741</td>\n",
       "      <td>43.717391</td>\n",
       "      <td>16.00</td>\n",
       "      <td>14.00</td>\n",
       "      <td>14.00</td>\n",
       "      <td>20.00</td>\n",
       "      <td>16.00</td>\n",
       "    </tr>\n",
       "    <tr>\n",
       "      <th>1586610</th>\n",
       "      <td>4.0</td>\n",
       "      <td>2.5</td>\n",
       "      <td>5.0</td>\n",
       "      <td>2.0</td>\n",
       "      <td>4.0</td>\n",
       "      <td>5.2</td>\n",
       "      <td>85</td>\n",
       "      <td>43.293907</td>\n",
       "      <td>57.328741</td>\n",
       "      <td>49.476190</td>\n",
       "      <td>20.00</td>\n",
       "      <td>12.50</td>\n",
       "      <td>10.00</td>\n",
       "      <td>16.00</td>\n",
       "      <td>8.00</td>\n",
       "    </tr>\n",
       "    <tr>\n",
       "      <th>1586611</th>\n",
       "      <td>4.5</td>\n",
       "      <td>3.0</td>\n",
       "      <td>3.5</td>\n",
       "      <td>3.5</td>\n",
       "      <td>4.0</td>\n",
       "      <td>5.2</td>\n",
       "      <td>85</td>\n",
       "      <td>43.293907</td>\n",
       "      <td>57.328741</td>\n",
       "      <td>47.231860</td>\n",
       "      <td>14.00</td>\n",
       "      <td>10.50</td>\n",
       "      <td>12.00</td>\n",
       "      <td>18.00</td>\n",
       "      <td>14.00</td>\n",
       "    </tr>\n",
       "    <tr>\n",
       "      <th>1586612</th>\n",
       "      <td>4.0</td>\n",
       "      <td>4.5</td>\n",
       "      <td>4.5</td>\n",
       "      <td>4.5</td>\n",
       "      <td>4.5</td>\n",
       "      <td>5.2</td>\n",
       "      <td>85</td>\n",
       "      <td>43.293907</td>\n",
       "      <td>57.328741</td>\n",
       "      <td>51.232258</td>\n",
       "      <td>20.25</td>\n",
       "      <td>20.25</td>\n",
       "      <td>20.25</td>\n",
       "      <td>18.00</td>\n",
       "      <td>20.25</td>\n",
       "    </tr>\n",
       "    <tr>\n",
       "      <th>1586613</th>\n",
       "      <td>5.0</td>\n",
       "      <td>4.5</td>\n",
       "      <td>4.5</td>\n",
       "      <td>4.5</td>\n",
       "      <td>4.5</td>\n",
       "      <td>5.2</td>\n",
       "      <td>85</td>\n",
       "      <td>43.293907</td>\n",
       "      <td>57.328741</td>\n",
       "      <td>45.750746</td>\n",
       "      <td>20.25</td>\n",
       "      <td>20.25</td>\n",
       "      <td>20.25</td>\n",
       "      <td>22.50</td>\n",
       "      <td>20.25</td>\n",
       "    </tr>\n",
       "  </tbody>\n",
       "</table>\n",
       "<p>1586614 rows × 15 columns</p>\n",
       "</div>"
      ],
      "text/plain": [
       "         review_overall  review_appearance  review_aroma  review_palate  \\\n",
       "0                   1.5                2.5           2.0            1.5   \n",
       "1                   3.0                3.0           2.5            3.0   \n",
       "2                   3.0                3.0           2.5            3.0   \n",
       "3                   3.0                3.5           3.0            2.5   \n",
       "4                   4.0                4.0           4.5            4.0   \n",
       "...                 ...                ...           ...            ...   \n",
       "1586609             5.0                3.5           4.0            4.0   \n",
       "1586610             4.0                2.5           5.0            2.0   \n",
       "1586611             4.5                3.0           3.5            3.5   \n",
       "1586612             4.0                4.5           4.5            4.5   \n",
       "1586613             5.0                4.5           4.5            4.5   \n",
       "\n",
       "         review_taste  beer_abv  beer_style  brewery_name  beer_name  \\\n",
       "0                 1.5       5.0          65     44.974193  45.116395   \n",
       "1                 3.0       6.2          51     44.974193  43.294876   \n",
       "2                 3.0       6.5          59     44.974193  44.335744   \n",
       "3                 3.0       5.0          61     44.974193  44.595961   \n",
       "4                 4.5       7.7           9     18.587177  37.830320   \n",
       "...               ...       ...         ...           ...        ...   \n",
       "1586609           4.0       5.2          85     43.293907  57.328741   \n",
       "1586610           4.0       5.2          85     43.293907  57.328741   \n",
       "1586611           4.0       5.2          85     43.293907  57.328741   \n",
       "1586612           4.5       5.2          85     43.293907  57.328741   \n",
       "1586613           4.5       5.2          85     43.293907  57.328741   \n",
       "\n",
       "         review_profilename  aroma_taste_interaction  \\\n",
       "0                 53.028523                     3.00   \n",
       "1                 53.028523                     7.50   \n",
       "2                 53.028523                     7.50   \n",
       "3                 53.028523                     9.00   \n",
       "4                 40.937944                    20.25   \n",
       "...                     ...                      ...   \n",
       "1586609           43.717391                    16.00   \n",
       "1586610           49.476190                    20.00   \n",
       "1586611           47.231860                    14.00   \n",
       "1586612           51.232258                    20.25   \n",
       "1586613           45.750746                    20.25   \n",
       "\n",
       "         aroma__appearance_interaction  taste__appearance_interaction  \\\n",
       "0                                 5.00                           3.75   \n",
       "1                                 7.50                           9.00   \n",
       "2                                 7.50                           9.00   \n",
       "3                                10.50                          10.50   \n",
       "4                                18.00                          18.00   \n",
       "...                                ...                            ...   \n",
       "1586609                          14.00                          14.00   \n",
       "1586610                          12.50                          10.00   \n",
       "1586611                          10.50                          12.00   \n",
       "1586612                          20.25                          20.25   \n",
       "1586613                          20.25                          20.25   \n",
       "\n",
       "         overall_taste_interaction  palate_taste_interaction  \n",
       "0                             2.25                      2.25  \n",
       "1                             9.00                      9.00  \n",
       "2                             9.00                      9.00  \n",
       "3                             9.00                      7.50  \n",
       "4                            18.00                     18.00  \n",
       "...                            ...                       ...  \n",
       "1586609                      20.00                     16.00  \n",
       "1586610                      16.00                      8.00  \n",
       "1586611                      18.00                     14.00  \n",
       "1586612                      18.00                     20.25  \n",
       "1586613                      22.50                     20.25  \n",
       "\n",
       "[1586614 rows x 15 columns]"
      ]
     },
     "execution_count": 243,
     "metadata": {},
     "output_type": "execute_result"
    }
   ],
   "source": [
    "df_cleaned"
   ]
  },
  {
   "cell_type": "markdown",
   "metadata": {
    "tags": []
   },
   "source": [
    "**[2.6] Standard scalling all features except the target variable**"
   ]
  },
  {
   "cell_type": "code",
   "execution_count": 244,
   "metadata": {
    "tags": []
   },
   "outputs": [],
   "source": [
    "y = df_cleaned.pop(\"beer_style\")\n",
    "X = df_cleaned"
   ]
  },
  {
   "cell_type": "code",
   "execution_count": 245,
   "metadata": {
    "tags": []
   },
   "outputs": [],
   "source": [
    "from sklearn.preprocessing import StandardScaler"
   ]
  },
  {
   "cell_type": "code",
   "execution_count": 246,
   "metadata": {
    "tags": []
   },
   "outputs": [],
   "source": [
    "scaler = StandardScaler()"
   ]
  },
  {
   "cell_type": "code",
   "execution_count": 247,
   "metadata": {
    "tags": []
   },
   "outputs": [],
   "source": [
    "X = pd.DataFrame(scaler.fit_transform(X), columns=X.columns)"
   ]
  },
  {
   "cell_type": "markdown",
   "metadata": {
    "tags": []
   },
   "source": [
    "**[2.7] Split dataset**"
   ]
  },
  {
   "cell_type": "code",
   "execution_count": 248,
   "metadata": {
    "tags": []
   },
   "outputs": [],
   "source": [
    "# Split the data into training and test sets\n",
    "X_train, X_test, y_train, y_test = train_test_split(X, y, test_size = 0.2, random_state=42)"
   ]
  },
  {
   "cell_type": "markdown",
   "metadata": {},
   "source": [
    "### 4.   Defining the Architecture of the Multi-Layer Perceptron"
   ]
  },
  {
   "cell_type": "markdown",
   "metadata": {
    "tags": []
   },
   "source": [
    "**[4.1]** Set the seeds for tensorflow and numpy in order to get reproducible results"
   ]
  },
  {
   "cell_type": "code",
   "execution_count": 249,
   "metadata": {
    "tags": []
   },
   "outputs": [],
   "source": [
    "tf.random.set_seed(42)"
   ]
  },
  {
   "cell_type": "markdown",
   "metadata": {},
   "source": [
    "**[4.2]** Instantiate a [.Sequential()](https://www.tensorflow.org/api_docs/python/tf/keras/Sequential) class and call it `model`"
   ]
  },
  {
   "cell_type": "code",
   "execution_count": 250,
   "metadata": {
    "tags": []
   },
   "outputs": [],
   "source": [
    "model = tf.keras.Sequential()"
   ]
  },
  {
   "cell_type": "markdown",
   "metadata": {},
   "source": [
    "**[4.3]** Import the [Dense()](https://www.tensorflow.org/api_docs/python/tf/keras/layers/Dense) and [Flatten()](https://www.tensorflow.org/api_docs/python/tf/keras/layers/Flatten) classes"
   ]
  },
  {
   "cell_type": "code",
   "execution_count": 251,
   "metadata": {
    "tags": []
   },
   "outputs": [],
   "source": [
    "from tensorflow.keras.layers import Dense, Flatten"
   ]
  },
  {
   "cell_type": "markdown",
   "metadata": {},
   "source": [
    "**[4.4]** Create a hidden layer of 256 fully connected neurins with ReLU as the activation function followed by another fully connected layer responsible of making final predictions"
   ]
  },
  {
   "cell_type": "code",
   "execution_count": 252,
   "metadata": {
    "tags": []
   },
   "outputs": [],
   "source": [
    "# layer1 = Dense(128, activation='relu', input_shape=[20], kernel_regularizer=regularizer)\n",
    "layer1 = Dense(100, activation='relu')\n",
    "top_layer = Dense(104, activation='softmax')"
   ]
  },
  {
   "cell_type": "markdown",
   "metadata": {},
   "source": [
    "**[4.5]** Assemble the different layers we just defined to create our first MLP. We will be using the [.add()](https://www.tensorflow.org/api_docs/python/tf/keras/layers/add) method"
   ]
  },
  {
   "cell_type": "code",
   "execution_count": 253,
   "metadata": {
    "tags": []
   },
   "outputs": [],
   "source": [
    "# model.add(flatten_layer)\n",
    "model.add(Dense(128, activation='relu', input_shape=(X_train.shape[1],)))\n",
    "model.add(layer1)\n",
    "# model.add(Dropout(0.3))\n",
    "model.add(top_layer)"
   ]
  },
  {
   "cell_type": "markdown",
   "metadata": {},
   "source": [
    "**[4.6]** Instantiate the [Adam()](https://www.tensorflow.org/api_docs/python/tf/keras/optimizers/Adam) class, specify the learning rate to be 0.001 and save it into a variable called `optimizer`"
   ]
  },
  {
   "cell_type": "code",
   "execution_count": 254,
   "metadata": {
    "tags": []
   },
   "outputs": [],
   "source": [
    "# optimizer = tf.keras.optimizers.RMSprop(0.001)\n",
    "optimizer = tf.keras.optimizers.Adam(0.001)"
   ]
  },
  {
   "cell_type": "markdown",
   "metadata": {},
   "source": [
    "**[4.7]** Configure the learning process using the [.compile()](https://www.tensorflow.org/api_docs/python/tf/keras/Model#methods_2) method and specify the loss function, optimizer and the metrics to be used"
   ]
  },
  {
   "cell_type": "code",
   "execution_count": 255,
   "metadata": {
    "tags": []
   },
   "outputs": [],
   "source": [
    "model.compile(loss='sparse_categorical_crossentropy', optimizer=optimizer, metrics=['accuracy'])"
   ]
  },
  {
   "cell_type": "markdown",
   "metadata": {},
   "source": [
    "**[4.8]** Print the model architecture with [.summary()](https://www.tensorflow.org/api_docs/python/tf/keras/Model#summary)"
   ]
  },
  {
   "cell_type": "code",
   "execution_count": 256,
   "metadata": {
    "tags": []
   },
   "outputs": [
    {
     "name": "stdout",
     "output_type": "stream",
     "text": [
      "Model: \"sequential_5\"\n",
      "_________________________________________________________________\n",
      " Layer (type)                Output Shape              Param #   \n",
      "=================================================================\n",
      " dense_19 (Dense)            (None, 128)               1920      \n",
      "                                                                 \n",
      " dense_17 (Dense)            (None, 100)               12900     \n",
      "                                                                 \n",
      " dense_18 (Dense)            (None, 104)               10504     \n",
      "                                                                 \n",
      "=================================================================\n",
      "Total params: 25,324\n",
      "Trainable params: 25,324\n",
      "Non-trainable params: 0\n",
      "_________________________________________________________________\n"
     ]
    }
   ],
   "source": [
    "model.summary()"
   ]
  },
  {
   "cell_type": "markdown",
   "metadata": {},
   "source": [
    "### 5. Training and Evaluation of the Model"
   ]
  },
  {
   "cell_type": "markdown",
   "metadata": {},
   "source": [
    "**[5.1]** Train the model using the [.fit()](https://www.tensorflow.org/api_docs/python/tf/keras/Model#fit) method on the training set on 5 epochs and create a validation set (20%)### 5. Training and Evaluation of the Model"
   ]
  },
  {
   "cell_type": "code",
   "execution_count": 257,
   "metadata": {
    "tags": []
   },
   "outputs": [
    {
     "name": "stdout",
     "output_type": "stream",
     "text": [
      "Epoch 1/60\n",
      "3967/3967 [==============================] - 11s 3ms/step - loss: 1.9711 - accuracy: 0.4572 - val_loss: 1.5795 - val_accuracy: 0.5681\n",
      "Epoch 2/60\n",
      "3967/3967 [==============================] - 10s 2ms/step - loss: 1.4338 - accuracy: 0.6179 - val_loss: 1.3461 - val_accuracy: 0.6487\n",
      "Epoch 3/60\n",
      "3967/3967 [==============================] - 10s 2ms/step - loss: 1.2810 - accuracy: 0.6708 - val_loss: 1.2396 - val_accuracy: 0.6896\n",
      "Epoch 4/60\n",
      "3967/3967 [==============================] - 10s 2ms/step - loss: 1.1966 - accuracy: 0.6975 - val_loss: 1.1886 - val_accuracy: 0.6961\n",
      "Epoch 5/60\n",
      "3967/3967 [==============================] - 10s 2ms/step - loss: 1.1385 - accuracy: 0.7140 - val_loss: 1.1258 - val_accuracy: 0.7211\n",
      "Epoch 6/60\n",
      "3967/3967 [==============================] - 10s 2ms/step - loss: 1.0952 - accuracy: 0.7267 - val_loss: 1.0806 - val_accuracy: 0.7323\n",
      "Epoch 7/60\n",
      "3967/3967 [==============================] - 10s 2ms/step - loss: 1.0609 - accuracy: 0.7364 - val_loss: 1.0519 - val_accuracy: 0.7408\n",
      "Epoch 8/60\n",
      "3967/3967 [==============================] - 10s 2ms/step - loss: 1.0338 - accuracy: 0.7435 - val_loss: 1.0345 - val_accuracy: 0.7458\n",
      "Epoch 9/60\n",
      "3967/3967 [==============================] - 10s 2ms/step - loss: 1.0122 - accuracy: 0.7495 - val_loss: 1.0162 - val_accuracy: 0.7506\n",
      "Epoch 10/60\n",
      "3967/3967 [==============================] - 10s 2ms/step - loss: 0.9935 - accuracy: 0.7540 - val_loss: 0.9950 - val_accuracy: 0.7575\n",
      "Epoch 11/60\n",
      "3967/3967 [==============================] - 10s 2ms/step - loss: 0.9777 - accuracy: 0.7583 - val_loss: 0.9777 - val_accuracy: 0.7595\n",
      "Epoch 12/60\n",
      "3967/3967 [==============================] - 10s 2ms/step - loss: 0.9635 - accuracy: 0.7619 - val_loss: 0.9644 - val_accuracy: 0.7637\n",
      "Epoch 13/60\n",
      "3967/3967 [==============================] - 10s 2ms/step - loss: 0.9504 - accuracy: 0.7655 - val_loss: 0.9636 - val_accuracy: 0.7633\n",
      "Epoch 14/60\n",
      "3967/3967 [==============================] - 10s 2ms/step - loss: 0.9400 - accuracy: 0.7675 - val_loss: 0.9410 - val_accuracy: 0.7697\n",
      "Epoch 15/60\n",
      "3967/3967 [==============================] - 10s 2ms/step - loss: 0.9296 - accuracy: 0.7705 - val_loss: 0.9348 - val_accuracy: 0.7695\n",
      "Epoch 16/60\n",
      "3967/3967 [==============================] - 10s 2ms/step - loss: 0.9199 - accuracy: 0.7727 - val_loss: 0.9347 - val_accuracy: 0.7691\n",
      "Epoch 17/60\n",
      "3967/3967 [==============================] - 10s 2ms/step - loss: 0.9113 - accuracy: 0.7745 - val_loss: 0.9290 - val_accuracy: 0.7722\n",
      "Epoch 18/60\n",
      "3967/3967 [==============================] - 10s 2ms/step - loss: 0.9034 - accuracy: 0.7762 - val_loss: 0.9168 - val_accuracy: 0.7749\n",
      "Epoch 19/60\n",
      "3967/3967 [==============================] - 10s 2ms/step - loss: 0.8952 - accuracy: 0.7785 - val_loss: 0.9043 - val_accuracy: 0.7776\n",
      "Epoch 20/60\n",
      "3967/3967 [==============================] - 10s 3ms/step - loss: 0.8886 - accuracy: 0.7800 - val_loss: 0.8973 - val_accuracy: 0.7796\n",
      "Epoch 21/60\n",
      "3967/3967 [==============================] - 10s 3ms/step - loss: 0.8817 - accuracy: 0.7816 - val_loss: 0.8902 - val_accuracy: 0.7794\n",
      "Epoch 22/60\n",
      "3967/3967 [==============================] - 10s 3ms/step - loss: 0.8748 - accuracy: 0.7829 - val_loss: 0.8868 - val_accuracy: 0.7789\n",
      "Epoch 23/60\n",
      "3967/3967 [==============================] - 10s 3ms/step - loss: 0.8688 - accuracy: 0.7844 - val_loss: 0.8793 - val_accuracy: 0.7809\n",
      "Epoch 24/60\n",
      "3967/3967 [==============================] - 10s 3ms/step - loss: 0.8639 - accuracy: 0.7855 - val_loss: 0.8696 - val_accuracy: 0.7848\n",
      "Epoch 25/60\n",
      "3967/3967 [==============================] - 10s 3ms/step - loss: 0.8580 - accuracy: 0.7866 - val_loss: 0.8615 - val_accuracy: 0.7846\n",
      "Epoch 26/60\n",
      "3967/3967 [==============================] - 10s 3ms/step - loss: 0.8534 - accuracy: 0.7878 - val_loss: 0.8584 - val_accuracy: 0.7885\n",
      "Epoch 27/60\n",
      "3967/3967 [==============================] - 10s 3ms/step - loss: 0.8482 - accuracy: 0.7889 - val_loss: 0.8548 - val_accuracy: 0.7876\n",
      "Epoch 28/60\n",
      "3967/3967 [==============================] - 10s 3ms/step - loss: 0.8436 - accuracy: 0.7899 - val_loss: 0.8654 - val_accuracy: 0.7865\n",
      "Epoch 29/60\n",
      "3967/3967 [==============================] - 10s 3ms/step - loss: 0.8388 - accuracy: 0.7909 - val_loss: 0.8455 - val_accuracy: 0.7909\n",
      "Epoch 30/60\n",
      "3967/3967 [==============================] - 10s 3ms/step - loss: 0.8338 - accuracy: 0.7925 - val_loss: 0.8424 - val_accuracy: 0.7907\n",
      "Epoch 31/60\n",
      "3967/3967 [==============================] - 10s 3ms/step - loss: 0.8297 - accuracy: 0.7931 - val_loss: 0.8584 - val_accuracy: 0.7885\n",
      "Epoch 32/60\n",
      "3967/3967 [==============================] - 10s 3ms/step - loss: 0.8258 - accuracy: 0.7940 - val_loss: 0.8366 - val_accuracy: 0.7938\n",
      "Epoch 33/60\n",
      "3967/3967 [==============================] - 10s 3ms/step - loss: 0.8222 - accuracy: 0.7949 - val_loss: 0.8402 - val_accuracy: 0.7939\n",
      "Epoch 34/60\n",
      "3967/3967 [==============================] - 10s 3ms/step - loss: 0.8187 - accuracy: 0.7955 - val_loss: 0.8338 - val_accuracy: 0.7928\n",
      "Epoch 35/60\n",
      "3967/3967 [==============================] - 10s 3ms/step - loss: 0.8149 - accuracy: 0.7968 - val_loss: 0.8232 - val_accuracy: 0.7947\n",
      "Epoch 36/60\n",
      "3967/3967 [==============================] - 10s 3ms/step - loss: 0.8112 - accuracy: 0.7974 - val_loss: 0.8252 - val_accuracy: 0.7962\n",
      "Epoch 37/60\n",
      "3967/3967 [==============================] - 10s 3ms/step - loss: 0.8082 - accuracy: 0.7981 - val_loss: 0.8166 - val_accuracy: 0.7967\n",
      "Epoch 38/60\n",
      "3967/3967 [==============================] - 10s 3ms/step - loss: 0.8050 - accuracy: 0.7986 - val_loss: 0.8140 - val_accuracy: 0.7995\n",
      "Epoch 39/60\n",
      "3967/3967 [==============================] - 10s 3ms/step - loss: 0.8014 - accuracy: 0.7997 - val_loss: 0.8120 - val_accuracy: 0.7998\n",
      "Epoch 40/60\n",
      "3967/3967 [==============================] - 10s 3ms/step - loss: 0.7983 - accuracy: 0.8002 - val_loss: 0.8072 - val_accuracy: 0.7995\n",
      "Epoch 41/60\n",
      "3967/3967 [==============================] - 10s 3ms/step - loss: 0.7948 - accuracy: 0.8012 - val_loss: 0.7882 - val_accuracy: 0.8036\n",
      "Epoch 42/60\n",
      "3967/3967 [==============================] - 10s 3ms/step - loss: 0.7912 - accuracy: 0.8020 - val_loss: 0.8034 - val_accuracy: 0.7991\n",
      "Epoch 43/60\n",
      "3967/3967 [==============================] - 10s 3ms/step - loss: 0.7885 - accuracy: 0.8025 - val_loss: 0.7981 - val_accuracy: 0.7994\n",
      "Epoch 44/60\n",
      "3967/3967 [==============================] - 10s 3ms/step - loss: 0.7853 - accuracy: 0.8034 - val_loss: 0.7951 - val_accuracy: 0.8007\n",
      "Epoch 45/60\n",
      "3967/3967 [==============================] - 10s 3ms/step - loss: 0.7832 - accuracy: 0.8035 - val_loss: 0.8182 - val_accuracy: 0.7949\n",
      "Epoch 46/60\n",
      "3967/3967 [==============================] - 10s 3ms/step - loss: 0.7805 - accuracy: 0.8041 - val_loss: 0.7947 - val_accuracy: 0.8013\n",
      "Epoch 47/60\n",
      "3967/3967 [==============================] - 10s 3ms/step - loss: 0.7774 - accuracy: 0.8049 - val_loss: 0.7937 - val_accuracy: 0.8035\n",
      "Epoch 48/60\n",
      "3967/3967 [==============================] - 10s 3ms/step - loss: 0.7750 - accuracy: 0.8052 - val_loss: 0.7869 - val_accuracy: 0.8046\n",
      "Epoch 49/60\n",
      "3967/3967 [==============================] - 10s 3ms/step - loss: 0.7722 - accuracy: 0.8058 - val_loss: 0.7785 - val_accuracy: 0.8058\n",
      "Epoch 50/60\n",
      "3967/3967 [==============================] - 10s 3ms/step - loss: 0.7698 - accuracy: 0.8066 - val_loss: 0.7808 - val_accuracy: 0.8045\n",
      "Epoch 51/60\n",
      "3967/3967 [==============================] - 10s 3ms/step - loss: 0.7680 - accuracy: 0.8062 - val_loss: 0.7752 - val_accuracy: 0.8053\n",
      "Epoch 52/60\n",
      "3967/3967 [==============================] - 10s 3ms/step - loss: 0.7658 - accuracy: 0.8070 - val_loss: 0.7749 - val_accuracy: 0.8076\n",
      "Epoch 53/60\n",
      "3967/3967 [==============================] - 10s 3ms/step - loss: 0.7637 - accuracy: 0.8076 - val_loss: 0.7746 - val_accuracy: 0.8076\n",
      "Epoch 54/60\n",
      "3967/3967 [==============================] - 10s 3ms/step - loss: 0.7609 - accuracy: 0.8081 - val_loss: 0.7800 - val_accuracy: 0.8038\n",
      "Epoch 55/60\n",
      "3967/3967 [==============================] - 10s 3ms/step - loss: 0.7588 - accuracy: 0.8086 - val_loss: 0.7741 - val_accuracy: 0.8072\n",
      "Epoch 56/60\n",
      "3967/3967 [==============================] - 10s 3ms/step - loss: 0.7567 - accuracy: 0.8087 - val_loss: 0.7601 - val_accuracy: 0.8106\n",
      "Epoch 57/60\n",
      "3967/3967 [==============================] - 10s 3ms/step - loss: 0.7553 - accuracy: 0.8092 - val_loss: 0.7653 - val_accuracy: 0.8087\n",
      "Epoch 58/60\n",
      "3967/3967 [==============================] - 10s 3ms/step - loss: 0.7528 - accuracy: 0.8099 - val_loss: 0.7751 - val_accuracy: 0.8048\n",
      "Epoch 59/60\n",
      "3967/3967 [==============================] - 10s 3ms/step - loss: 0.7508 - accuracy: 0.8100 - val_loss: 0.7646 - val_accuracy: 0.8090\n",
      "Epoch 60/60\n",
      "3967/3967 [==============================] - 10s 3ms/step - loss: 0.7487 - accuracy: 0.8105 - val_loss: 0.7662 - val_accuracy: 0.8080\n"
     ]
    }
   ],
   "source": [
    "# Train the model\n",
    "history = model.fit(X_train, y_train, epochs=60, batch_size=256, validation_split=0.2, verbose=1)\n",
    "# history = model.fit(X_train, y_train, epochs=30, validation_split=0.2)"
   ]
  },
  {
   "cell_type": "markdown",
   "metadata": {},
   "source": [
    "**[5.2]** Evaluate the performance of this model on the testing set using [.evaluate()](https://www.tensorflow.org/api_docs/python/tf/keras/Model#evaluate)"
   ]
  },
  {
   "cell_type": "code",
   "execution_count": 258,
   "metadata": {
    "tags": []
   },
   "outputs": [
    {
     "name": "stdout",
     "output_type": "stream",
     "text": [
      "9917/9917 [==============================] - 8s 764us/step - loss: 0.7688 - accuracy: 0.8094\n"
     ]
    },
    {
     "data": {
      "text/plain": [
       "[0.7687592506408691, 0.8093646168708801]"
      ]
     },
     "execution_count": 258,
     "metadata": {},
     "output_type": "execute_result"
    }
   ],
   "source": [
    "# Evaluate the model\n",
    "model.evaluate(X_test, y_test)"
   ]
  },
  {
   "cell_type": "markdown",
   "metadata": {},
   "source": [
    "### 6. Analysing the Results"
   ]
  },
  {
   "cell_type": "markdown",
   "metadata": {},
   "source": [
    "**[6.1]** Plot the learning curve for accuracy score on the training and validation sets. We will use the [.plot()](https://matplotlib.org/3.1.1/api/_as_gen/matplotlib.pyplot.plot.html#matplotlib.pyplot.plot) method to create a line chart."
   ]
  },
  {
   "cell_type": "code",
   "execution_count": 259,
   "metadata": {
    "tags": []
   },
   "outputs": [
    {
     "data": {
      "image/png": "[encoded data removed]",
      "text/plain": [
       "<Figure size 640x480 with 1 Axes>"
      ]
     },
     "metadata": {},
     "output_type": "display_data"
    }
   ],
   "source": [
    "plt.plot(history.history['accuracy'], label='MSE training')\n",
    "plt.plot(history.history['val_accuracy'], label='MSE validation')\n",
    "plt.ylabel('accuracy')\n",
    "plt.xlabel('Epoch')\n",
    "plt.show()"
   ]
  },
  {
   "cell_type": "markdown",
   "metadata": {},
   "source": [
    "**[6.2]** Using the trained model, print the predicted outcome on the first observation of the testing set by using the [.predict()](https://www.tensorflow.org/api_docs/python/tf/keras/Model#predict) method"
   ]
  },
  {
   "cell_type": "code",
   "execution_count": 260,
   "metadata": {
    "tags": []
   },
   "outputs": [
    {
     "name": "stdout",
     "output_type": "stream",
     "text": [
      "9917/9917 [==============================] - 6s 632us/step\n"
     ]
    },
    {
     "data": {
      "text/plain": [
       "array([4.82545310e-15, 1.96340327e-19, 1.23638452e-11, 4.88295005e-22,\n",
       "       9.39669907e-01, 7.14479665e-06, 3.32906547e-17, 2.39711306e-10,\n",
       "       1.03153956e-26, 6.03183918e-02, 4.08282049e-27, 2.57895738e-25,\n",
       "       1.01612275e-14, 0.00000000e+00, 5.94031367e-26, 3.23227739e-28,\n",
       "       0.00000000e+00, 0.00000000e+00, 0.00000000e+00, 7.63325181e-10,\n",
       "       0.00000000e+00, 0.00000000e+00, 0.00000000e+00, 0.00000000e+00,\n",
       "       0.00000000e+00, 1.95336870e-13, 4.43738827e-06, 0.00000000e+00,\n",
       "       0.00000000e+00, 0.00000000e+00, 0.00000000e+00, 0.00000000e+00,\n",
       "       0.00000000e+00, 0.00000000e+00, 0.00000000e+00, 0.00000000e+00,\n",
       "       0.00000000e+00, 0.00000000e+00, 0.00000000e+00, 0.00000000e+00,\n",
       "       0.00000000e+00, 9.75773043e-37, 7.25990716e-08, 1.20032573e-15,\n",
       "       1.14381557e-26, 0.00000000e+00, 0.00000000e+00, 2.77307288e-10,\n",
       "       0.00000000e+00, 0.00000000e+00, 0.00000000e+00, 0.00000000e+00,\n",
       "       0.00000000e+00, 2.39653470e-08, 0.00000000e+00, 4.42996755e-34,\n",
       "       0.00000000e+00, 0.00000000e+00, 1.75782937e-19, 0.00000000e+00,\n",
       "       0.00000000e+00, 0.00000000e+00, 0.00000000e+00, 0.00000000e+00,\n",
       "       0.00000000e+00, 0.00000000e+00, 6.42208920e-38, 3.30862658e-35,\n",
       "       1.29547406e-09, 0.00000000e+00, 0.00000000e+00, 0.00000000e+00,\n",
       "       0.00000000e+00, 0.00000000e+00, 0.00000000e+00, 0.00000000e+00,\n",
       "       0.00000000e+00, 0.00000000e+00, 0.00000000e+00, 0.00000000e+00,\n",
       "       0.00000000e+00, 3.99184286e-23, 7.10590278e-13, 0.00000000e+00,\n",
       "       2.49842898e-25, 0.00000000e+00, 1.45537254e-15, 3.36440185e-33,\n",
       "       0.00000000e+00, 5.21579863e-11, 7.87559270e-16, 0.00000000e+00,\n",
       "       2.85731907e-22, 4.54922478e-21, 2.42978030e-30, 1.63276068e-28,\n",
       "       0.00000000e+00, 0.00000000e+00, 0.00000000e+00, 2.08608951e-26,\n",
       "       8.37093319e-31, 0.00000000e+00, 9.75141010e-21, 4.62625506e-24],\n",
       "      dtype=float32)"
      ]
     },
     "execution_count": 260,
     "metadata": {},
     "output_type": "execute_result"
    }
   ],
   "source": [
    "sparse_pred_test = model.predict(X_test)\n",
    "sparse_pred_test[0]"
   ]
  },
  {
   "cell_type": "markdown",
   "metadata": {},
   "source": [
    "**[6.3]**  The output from the model is the probability for each class of the target variable. In order to get the final predicted value, we need to the [.argmax()](https://docs.scipy.org/doc/numpy/reference/generated/numpy.argmax.html) method from numpy."
   ]
  },
  {
   "cell_type": "code",
   "execution_count": 261,
   "metadata": {
    "tags": []
   },
   "outputs": [
    {
     "data": {
      "text/plain": [
       "4"
      ]
     },
     "execution_count": 261,
     "metadata": {},
     "output_type": "execute_result"
    }
   ],
   "source": [
    "pred_test = np.argmax(sparse_pred_test, 1)\n",
    "pred_test[0]"
   ]
  },
  {
   "cell_type": "markdown",
   "metadata": {},
   "source": [
    "**[6.4]** Let's compare this prediction to the actual true value"
   ]
  },
  {
   "cell_type": "code",
   "execution_count": 262,
   "metadata": {
    "tags": []
   },
   "outputs": [
    {
     "ename": "KeyError",
     "evalue": "0",
     "output_type": "error",
     "traceback": [
      "\u001b[1;31m---------------------------------------------------------------------------\u001b[0m",
      "\u001b[1;31mKeyError\u001b[0m                                  Traceback (most recent call last)",
      "File \u001b[1;32m~\\AppData\\Local\\Programs\\Python\\Python310\\lib\\site-packages\\pandas\\core\\indexes\\base.py:3621\u001b[0m, in \u001b[0;36mIndex.get_loc\u001b[1;34m(self, key, method, tolerance)\u001b[0m\n\u001b[0;32m   3620\u001b[0m \u001b[38;5;28;01mtry\u001b[39;00m:\n\u001b[1;32m-> 3621\u001b[0m     \u001b[38;5;28;01mreturn\u001b[39;00m \u001b[38;5;28;43mself\u001b[39;49m\u001b[38;5;241;43m.\u001b[39;49m\u001b[43m_engine\u001b[49m\u001b[38;5;241;43m.\u001b[39;49m\u001b[43mget_loc\u001b[49m\u001b[43m(\u001b[49m\u001b[43mcasted_key\u001b[49m\u001b[43m)\u001b[49m\n\u001b[0;32m   3622\u001b[0m \u001b[38;5;28;01mexcept\u001b[39;00m \u001b[38;5;167;01mKeyError\u001b[39;00m \u001b[38;5;28;01mas\u001b[39;00m err:\n",
      "File \u001b[1;32m~\\AppData\\Local\\Programs\\Python\\Python310\\lib\\site-packages\\pandas\\_libs\\index.pyx:136\u001b[0m, in \u001b[0;36mpandas._libs.index.IndexEngine.get_loc\u001b[1;34m()\u001b[0m\n",
      "File \u001b[1;32m~\\AppData\\Local\\Programs\\Python\\Python310\\lib\\site-packages\\pandas\\_libs\\index.pyx:163\u001b[0m, in \u001b[0;36mpandas._libs.index.IndexEngine.get_loc\u001b[1;34m()\u001b[0m\n",
      "File \u001b[1;32mpandas\\_libs\\hashtable_class_helper.pxi:2131\u001b[0m, in \u001b[0;36mpandas._libs.hashtable.Int64HashTable.get_item\u001b[1;34m()\u001b[0m\n",
      "File \u001b[1;32mpandas\\_libs\\hashtable_class_helper.pxi:2140\u001b[0m, in \u001b[0;36mpandas._libs.hashtable.Int64HashTable.get_item\u001b[1;34m()\u001b[0m\n",
      "\u001b[1;31mKeyError\u001b[0m: 0",
      "\nThe above exception was the direct cause of the following exception:\n",
      "\u001b[1;31mKeyError\u001b[0m                                  Traceback (most recent call last)",
      "Cell \u001b[1;32mIn[262], line 1\u001b[0m\n\u001b[1;32m----> 1\u001b[0m \u001b[43my_test\u001b[49m\u001b[43m[\u001b[49m\u001b[38;5;241;43m0\u001b[39;49m\u001b[43m]\u001b[49m\n",
      "File \u001b[1;32m~\\AppData\\Local\\Programs\\Python\\Python310\\lib\\site-packages\\pandas\\core\\series.py:958\u001b[0m, in \u001b[0;36mSeries.__getitem__\u001b[1;34m(self, key)\u001b[0m\n\u001b[0;32m    955\u001b[0m     \u001b[38;5;28;01mreturn\u001b[39;00m \u001b[38;5;28mself\u001b[39m\u001b[38;5;241m.\u001b[39m_values[key]\n\u001b[0;32m    957\u001b[0m \u001b[38;5;28;01melif\u001b[39;00m key_is_scalar:\n\u001b[1;32m--> 958\u001b[0m     \u001b[38;5;28;01mreturn\u001b[39;00m \u001b[38;5;28;43mself\u001b[39;49m\u001b[38;5;241;43m.\u001b[39;49m\u001b[43m_get_value\u001b[49m\u001b[43m(\u001b[49m\u001b[43mkey\u001b[49m\u001b[43m)\u001b[49m\n\u001b[0;32m    960\u001b[0m \u001b[38;5;28;01mif\u001b[39;00m is_hashable(key):\n\u001b[0;32m    961\u001b[0m     \u001b[38;5;66;03m# Otherwise index.get_value will raise InvalidIndexError\u001b[39;00m\n\u001b[0;32m    962\u001b[0m     \u001b[38;5;28;01mtry\u001b[39;00m:\n\u001b[0;32m    963\u001b[0m         \u001b[38;5;66;03m# For labels that don't resolve as scalars like tuples and frozensets\u001b[39;00m\n",
      "File \u001b[1;32m~\\AppData\\Local\\Programs\\Python\\Python310\\lib\\site-packages\\pandas\\core\\series.py:1069\u001b[0m, in \u001b[0;36mSeries._get_value\u001b[1;34m(self, label, takeable)\u001b[0m\n\u001b[0;32m   1066\u001b[0m     \u001b[38;5;28;01mreturn\u001b[39;00m \u001b[38;5;28mself\u001b[39m\u001b[38;5;241m.\u001b[39m_values[label]\n\u001b[0;32m   1068\u001b[0m \u001b[38;5;66;03m# Similar to Index.get_value, but we do not fall back to positional\u001b[39;00m\n\u001b[1;32m-> 1069\u001b[0m loc \u001b[38;5;241m=\u001b[39m \u001b[38;5;28;43mself\u001b[39;49m\u001b[38;5;241;43m.\u001b[39;49m\u001b[43mindex\u001b[49m\u001b[38;5;241;43m.\u001b[39;49m\u001b[43mget_loc\u001b[49m\u001b[43m(\u001b[49m\u001b[43mlabel\u001b[49m\u001b[43m)\u001b[49m\n\u001b[0;32m   1070\u001b[0m \u001b[38;5;28;01mreturn\u001b[39;00m \u001b[38;5;28mself\u001b[39m\u001b[38;5;241m.\u001b[39mindex\u001b[38;5;241m.\u001b[39m_get_values_for_loc(\u001b[38;5;28mself\u001b[39m, loc, label)\n",
      "File \u001b[1;32m~\\AppData\\Local\\Programs\\Python\\Python310\\lib\\site-packages\\pandas\\core\\indexes\\base.py:3623\u001b[0m, in \u001b[0;36mIndex.get_loc\u001b[1;34m(self, key, method, tolerance)\u001b[0m\n\u001b[0;32m   3621\u001b[0m     \u001b[38;5;28;01mreturn\u001b[39;00m \u001b[38;5;28mself\u001b[39m\u001b[38;5;241m.\u001b[39m_engine\u001b[38;5;241m.\u001b[39mget_loc(casted_key)\n\u001b[0;32m   3622\u001b[0m \u001b[38;5;28;01mexcept\u001b[39;00m \u001b[38;5;167;01mKeyError\u001b[39;00m \u001b[38;5;28;01mas\u001b[39;00m err:\n\u001b[1;32m-> 3623\u001b[0m     \u001b[38;5;28;01mraise\u001b[39;00m \u001b[38;5;167;01mKeyError\u001b[39;00m(key) \u001b[38;5;28;01mfrom\u001b[39;00m \u001b[38;5;21;01merr\u001b[39;00m\n\u001b[0;32m   3624\u001b[0m \u001b[38;5;28;01mexcept\u001b[39;00m \u001b[38;5;167;01mTypeError\u001b[39;00m:\n\u001b[0;32m   3625\u001b[0m     \u001b[38;5;66;03m# If we have a listlike key, _check_indexing_error will raise\u001b[39;00m\n\u001b[0;32m   3626\u001b[0m     \u001b[38;5;66;03m#  InvalidIndexError. Otherwise we fall through and re-raise\u001b[39;00m\n\u001b[0;32m   3627\u001b[0m     \u001b[38;5;66;03m#  the TypeError.\u001b[39;00m\n\u001b[0;32m   3628\u001b[0m     \u001b[38;5;28mself\u001b[39m\u001b[38;5;241m.\u001b[39m_check_indexing_error(key)\n",
      "\u001b[1;31mKeyError\u001b[0m: 0"
     ]
    }
   ],
   "source": [
    "y_test[0]"
   ]
  },
  {
   "cell_type": "code",
   "execution_count": null,
   "metadata": {},
   "outputs": [],
   "source": []
  }
 ],
 "metadata": {
  "kernelspec": {
   "display_name": "Python 3 (ipykernel)",
   "language": "python",
   "name": "python3"
  },
  "language_info": {
   "codemirror_mode": {
    "name": "ipython",
    "version": 3
   },
   "file_extension": ".py",
   "mimetype": "text/x-python",
   "name": "python",
   "nbconvert_exporter": "python",
   "pygments_lexer": "ipython3",
   "version": "3.10.6"
  }
 },
 "nbformat": 4,
 "nbformat_minor": 4
}
