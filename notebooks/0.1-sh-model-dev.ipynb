{
 "cells": [
  {
   "cell_type": "code",
   "execution_count": 9,
   "metadata": {},
   "outputs": [],
   "source": [
    "import pandas as pd\n",
    "import numpy as np\n",
    "import category_encoders as ce\n",
    "import tensorflow as tf\n",
    "from tensorflow.keras.models import Sequential\n",
    "from tensorflow.keras.layers import Dense, Dropout\n",
    "from sklearn.preprocessing import LabelEncoder\n",
    "from sklearn.model_selection import train_test_split"
   ]
  },
  {
   "cell_type": "code",
   "execution_count": 7,
   "metadata": {},
   "outputs": [
    {
     "data": {
      "text/html": [
       "<div>\n",
       "<style scoped>\n",
       "    .dataframe tbody tr th:only-of-type {\n",
       "        vertical-align: middle;\n",
       "    }\n",
       "\n",
       "    .dataframe tbody tr th {\n",
       "        vertical-align: top;\n",
       "    }\n",
       "\n",
       "    .dataframe thead th {\n",
       "        text-align: right;\n",
       "    }\n",
       "</style>\n",
       "<table border=\"1\" class=\"dataframe\">\n",
       "  <thead>\n",
       "    <tr style=\"text-align: right;\">\n",
       "      <th></th>\n",
       "      <th>review_appearance</th>\n",
       "      <th>review_aroma</th>\n",
       "      <th>review_palate</th>\n",
       "      <th>review_taste</th>\n",
       "      <th>beer_abv</th>\n",
       "      <th>brewery_name</th>\n",
       "      <th>beer_name</th>\n",
       "      <th>beer_style</th>\n",
       "    </tr>\n",
       "  </thead>\n",
       "  <tbody>\n",
       "    <tr>\n",
       "      <th>0</th>\n",
       "      <td>2.5</td>\n",
       "      <td>2.0</td>\n",
       "      <td>1.5</td>\n",
       "      <td>1.5</td>\n",
       "      <td>5.0</td>\n",
       "      <td>Vecchio Birraio</td>\n",
       "      <td>Sausa Weizen</td>\n",
       "      <td>Hefeweizen</td>\n",
       "    </tr>\n",
       "    <tr>\n",
       "      <th>1</th>\n",
       "      <td>3.0</td>\n",
       "      <td>2.5</td>\n",
       "      <td>3.0</td>\n",
       "      <td>3.0</td>\n",
       "      <td>6.2</td>\n",
       "      <td>Vecchio Birraio</td>\n",
       "      <td>Red Moon</td>\n",
       "      <td>English Strong Ale</td>\n",
       "    </tr>\n",
       "    <tr>\n",
       "      <th>2</th>\n",
       "      <td>3.0</td>\n",
       "      <td>2.5</td>\n",
       "      <td>3.0</td>\n",
       "      <td>3.0</td>\n",
       "      <td>6.5</td>\n",
       "      <td>Vecchio Birraio</td>\n",
       "      <td>Black Horse Black Beer</td>\n",
       "      <td>Foreign / Export Stout</td>\n",
       "    </tr>\n",
       "    <tr>\n",
       "      <th>3</th>\n",
       "      <td>3.5</td>\n",
       "      <td>3.0</td>\n",
       "      <td>2.5</td>\n",
       "      <td>3.0</td>\n",
       "      <td>5.0</td>\n",
       "      <td>Vecchio Birraio</td>\n",
       "      <td>Sausa Pils</td>\n",
       "      <td>German Pilsener</td>\n",
       "    </tr>\n",
       "    <tr>\n",
       "      <th>4</th>\n",
       "      <td>4.0</td>\n",
       "      <td>4.5</td>\n",
       "      <td>4.0</td>\n",
       "      <td>4.5</td>\n",
       "      <td>7.7</td>\n",
       "      <td>Caldera Brewing Company</td>\n",
       "      <td>Cauldron DIPA</td>\n",
       "      <td>American Double / Imperial IPA</td>\n",
       "    </tr>\n",
       "  </tbody>\n",
       "</table>\n",
       "</div>"
      ],
      "text/plain": [
       "   review_appearance  review_aroma  review_palate  review_taste  beer_abv   \n",
       "0                2.5           2.0            1.5           1.5       5.0  \\\n",
       "1                3.0           2.5            3.0           3.0       6.2   \n",
       "2                3.0           2.5            3.0           3.0       6.5   \n",
       "3                3.5           3.0            2.5           3.0       5.0   \n",
       "4                4.0           4.5            4.0           4.5       7.7   \n",
       "\n",
       "              brewery_name               beer_name   \n",
       "0          Vecchio Birraio            Sausa Weizen  \\\n",
       "1          Vecchio Birraio                Red Moon   \n",
       "2          Vecchio Birraio  Black Horse Black Beer   \n",
       "3          Vecchio Birraio              Sausa Pils   \n",
       "4  Caldera Brewing Company           Cauldron DIPA   \n",
       "\n",
       "                       beer_style  \n",
       "0                      Hefeweizen  \n",
       "1              English Strong Ale  \n",
       "2          Foreign / Export Stout  \n",
       "3                 German Pilsener  \n",
       "4  American Double / Imperial IPA  "
      ]
     },
     "execution_count": 7,
     "metadata": {},
     "output_type": "execute_result"
    }
   ],
   "source": [
    "# Read in the csv\n",
    "df = pd.read_csv(\"../data/raw/beer_reviews.csv\")\n",
    "# Select necessary columns\n",
    "df = df[['review_appearance', 'review_aroma', 'review_palate', 'review_taste', 'beer_abv', 'brewery_name', 'beer_name', 'beer_style']]\n",
    "df.head()"
   ]
  },
  {
   "cell_type": "code",
   "execution_count": 8,
   "metadata": {},
   "outputs": [],
   "source": [
    "# Handle missing values\n",
    "df['beer_abv'].fillna(df['beer_abv'].median(), inplace=True)\n",
    "df['brewery_name'].fillna('unknown', inplace=True)\n",
    "df['beer_name'].fillna('unknown', inplace=True)"
   ]
  },
  {
   "cell_type": "code",
   "execution_count": 10,
   "metadata": {},
   "outputs": [],
   "source": [
    "# Encode the beer_style column\n",
    "le = LabelEncoder()\n",
    "df['beer_style'] = le.fit_transform(df['beer_style'])"
   ]
  },
  {
   "cell_type": "code",
   "execution_count": 11,
   "metadata": {},
   "outputs": [],
   "source": [
    "# Select columns to be encoded\n",
    "cols_to_encode = ['brewery_name', 'beer_name']\n",
    "\n",
    "# Instantiate encoder\n",
    "encoder = ce.TargetEncoder(cols=cols_to_encode)"
   ]
  },
  {
   "cell_type": "code",
   "execution_count": 12,
   "metadata": {},
   "outputs": [],
   "source": [
    "# Fit and transform the columns\n",
    "df_encoded = encoder.fit_transform(df[cols_to_encode], df['beer_style'])\n",
    "\n",
    "# Replace original columns with encoded ones in the dataframe\n",
    "df.drop(cols_to_encode, axis=1, inplace=True)\n",
    "df = pd.concat([df, df_encoded], axis=1)"
   ]
  },
  {
   "cell_type": "code",
   "execution_count": 13,
   "metadata": {},
   "outputs": [],
   "source": [
    "# Assuming that df_X contains your features and df_y contains your target\n",
    "df_X = df.drop('beer_style', axis=1)\n",
    "df_y = df['beer_style']\n",
    "\n",
    "# Split the data into training and test sets\n",
    "X_train, X_test, y_train, y_test = train_test_split(df_X, df_y, test_size=0.2, random_state=42)"
   ]
  },
  {
   "cell_type": "code",
   "execution_count": 14,
   "metadata": {},
   "outputs": [
    {
     "name": "stderr",
     "output_type": "stream",
     "text": [
      "2023-06-30 13:15:26.087602: I tensorflow/core/platform/cpu_feature_guard.cc:193] This TensorFlow binary is optimized with oneAPI Deep Neural Network Library (oneDNN) to use the following CPU instructions in performance-critical operations:  SSE4.1 SSE4.2\n",
      "To enable them in other operations, rebuild TensorFlow with the appropriate compiler flags.\n"
     ]
    }
   ],
   "source": [
    "# Initialize the constructor\n",
    "model = Sequential()\n",
    "\n",
    "# Add an input layer\n",
    "model.add(Dense(128, activation='relu', input_shape=(X_train.shape[1],)))\n",
    "\n",
    "# Add one hidden layer \n",
    "model.add(Dense(64, activation='relu'))\n",
    "\n",
    "# Add an output layer \n",
    "model.add(Dense(len(y_train.unique()), activation='softmax'))\n",
    "\n",
    "# Compile the model\n",
    "model.compile(loss='sparse_categorical_crossentropy',\n",
    "              optimizer='adam',\n",
    "              metrics=['accuracy'])"
   ]
  },
  {
   "cell_type": "code",
   "execution_count": 15,
   "metadata": {},
   "outputs": [
    {
     "name": "stdout",
     "output_type": "stream",
     "text": [
      "Epoch 1/20\n",
      "3967/3967 [==============================] - 6s 1ms/step - loss: 2.0711 - accuracy: 0.4390 - val_loss: 1.6891 - val_accuracy: 0.5371\n",
      "Epoch 2/20\n",
      "3967/3967 [==============================] - 5s 1ms/step - loss: 1.5646 - accuracy: 0.5803 - val_loss: 1.4795 - val_accuracy: 0.6206\n",
      "Epoch 3/20\n",
      "3967/3967 [==============================] - 5s 1ms/step - loss: 1.4134 - accuracy: 0.6345 - val_loss: 1.3597 - val_accuracy: 0.6528\n",
      "Epoch 4/20\n",
      "3967/3967 [==============================] - 5s 1ms/step - loss: 1.3247 - accuracy: 0.6638 - val_loss: 1.3034 - val_accuracy: 0.6678\n",
      "Epoch 5/20\n",
      "3967/3967 [==============================] - 5s 1ms/step - loss: 1.2689 - accuracy: 0.6790 - val_loss: 1.2552 - val_accuracy: 0.6780\n",
      "Epoch 6/20\n",
      "3967/3967 [==============================] - 5s 1ms/step - loss: 1.2310 - accuracy: 0.6885 - val_loss: 1.2217 - val_accuracy: 0.6943\n",
      "Epoch 7/20\n",
      "3967/3967 [==============================] - 5s 1ms/step - loss: 1.2025 - accuracy: 0.6958 - val_loss: 1.1914 - val_accuracy: 0.7011\n",
      "Epoch 8/20\n",
      "3967/3967 [==============================] - 5s 1ms/step - loss: 1.1805 - accuracy: 0.7012 - val_loss: 1.1800 - val_accuracy: 0.6985\n",
      "Epoch 9/20\n",
      "3967/3967 [==============================] - 5s 1ms/step - loss: 1.1609 - accuracy: 0.7070 - val_loss: 1.1523 - val_accuracy: 0.7097\n",
      "Epoch 10/20\n",
      "3967/3967 [==============================] - 5s 1ms/step - loss: 1.1457 - accuracy: 0.7111 - val_loss: 1.1558 - val_accuracy: 0.7107\n",
      "Epoch 11/20\n",
      "3967/3967 [==============================] - 5s 1ms/step - loss: 1.1312 - accuracy: 0.7152 - val_loss: 1.1260 - val_accuracy: 0.7177\n",
      "Epoch 12/20\n",
      "3967/3967 [==============================] - 5s 1ms/step - loss: 1.1168 - accuracy: 0.7189 - val_loss: 1.1226 - val_accuracy: 0.7158\n",
      "Epoch 13/20\n",
      "3967/3967 [==============================] - 5s 1ms/step - loss: 1.1060 - accuracy: 0.7223 - val_loss: 1.1098 - val_accuracy: 0.7231\n",
      "Epoch 14/20\n",
      "3967/3967 [==============================] - 5s 1ms/step - loss: 1.0944 - accuracy: 0.7257 - val_loss: 1.1024 - val_accuracy: 0.7176\n",
      "Epoch 15/20\n",
      "3967/3967 [==============================] - 5s 1ms/step - loss: 1.0838 - accuracy: 0.7284 - val_loss: 1.0718 - val_accuracy: 0.7347\n",
      "Epoch 16/20\n",
      "3967/3967 [==============================] - 5s 1ms/step - loss: 1.0746 - accuracy: 0.7309 - val_loss: 1.0640 - val_accuracy: 0.7389\n",
      "Epoch 17/20\n",
      "3967/3967 [==============================] - 5s 1ms/step - loss: 1.0661 - accuracy: 0.7332 - val_loss: 1.0582 - val_accuracy: 0.7340\n",
      "Epoch 18/20\n",
      "3967/3967 [==============================] - 5s 1ms/step - loss: 1.0558 - accuracy: 0.7363 - val_loss: 1.0568 - val_accuracy: 0.7395\n",
      "Epoch 19/20\n",
      "3967/3967 [==============================] - 5s 1ms/step - loss: 1.0491 - accuracy: 0.7380 - val_loss: 1.0674 - val_accuracy: 0.7329\n",
      "Epoch 20/20\n",
      "3967/3967 [==============================] - 5s 1ms/step - loss: 1.0413 - accuracy: 0.7399 - val_loss: 1.0459 - val_accuracy: 0.7426\n"
     ]
    }
   ],
   "source": [
    "# Train the model\n",
    "history = model.fit(X_train, y_train, epochs=20, batch_size=256, validation_split=0.2, verbose=1)"
   ]
  },
  {
   "cell_type": "code",
   "execution_count": 16,
   "metadata": {},
   "outputs": [
    {
     "name": "stdout",
     "output_type": "stream",
     "text": [
      "9917/9917 [==============================] - 4s 436us/step - loss: 1.0454 - accuracy: 0.7444\n",
      "Model Accuracy: 74.44%\n"
     ]
    }
   ],
   "source": [
    "# Evaluate the model\n",
    "accuracy = model.evaluate(X_test, y_test)[1]\n",
    "print(\"Model Accuracy: %.2f%%\" % (accuracy*100))"
   ]
  }
 ],
 "metadata": {
  "kernelspec": {
   "display_name": "base",
   "language": "python",
   "name": "python3"
  },
  "language_info": {
   "codemirror_mode": {
    "name": "ipython",
    "version": 3
   },
   "file_extension": ".py",
   "mimetype": "text/x-python",
   "name": "python",
   "nbconvert_exporter": "python",
   "pygments_lexer": "ipython3",
   "version": "3.9.13"
  },
  "orig_nbformat": 4
 },
 "nbformat": 4,
 "nbformat_minor": 2
}
